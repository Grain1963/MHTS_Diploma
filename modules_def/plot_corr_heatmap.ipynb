{
 "cells": [
  {
   "cell_type": "code",
   "execution_count": null,
   "id": "f92ef144-a971-4d5d-a97a-0b191be19193",
   "metadata": {},
   "outputs": [],
   "source": [
    "# Функция построения корреляционно матрицы и записи результатов в директорию\n",
    "# Передаваемые аргументы:\n",
    "# df - исследуемый df\n",
    "# figsize_a- размер по оси 1\n",
    "# figsize_b- размер по оси 2\n",
    "# set_title_graf - 'Название Графика'\n",
    "# graf_name_path_corr - путь записис рисутнка в директорию\n",
    "\n",
    "def plot_corr_heatmap(df, figsize_a,  figsize_b, set_title_name, graf_name_path_corr):\n",
    "    \n",
    "    plt.figure(figsize=(figsize_a,  figsize_b)) # 10, 6\n",
    "    \n",
    "    corr_heatmap = sns.heatmap(df.corr(), vmin=-1, vmax=1, center=0, cmap=\"BrBG\",\n",
    "                               linewidths=0.1, annot=True)\n",
    "    corr_heatmap.set_title(set_title_name, fontdict={'fontsize': 18}, pad=12)\n",
    "    \n",
    "    plt.savefig(graf_name_path_corr, dpi=100) # Сохраняем рисунок таблицы в папку save_fig \n",
    "    plt.show()\n",
    "    return"
   ]
  }
 ],
 "metadata": {
  "kernelspec": {
   "display_name": "Python 3 (ipykernel)",
   "language": "python",
   "name": "python3"
  },
  "language_info": {
   "codemirror_mode": {
    "name": "ipython",
    "version": 3
   },
   "file_extension": ".py",
   "mimetype": "text/x-python",
   "name": "python",
   "nbconvert_exporter": "python",
   "pygments_lexer": "ipython3",
   "version": "3.10.9"
  }
 },
 "nbformat": 4,
 "nbformat_minor": 5
}
