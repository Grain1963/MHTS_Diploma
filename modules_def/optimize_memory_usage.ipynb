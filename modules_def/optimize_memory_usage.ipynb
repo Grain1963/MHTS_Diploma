{
 "cells": [
  {
   "cell_type": "markdown",
   "id": "19afdcf6-331d-4685-a088-f7488dcc3012",
   "metadata": {},
   "source": [
    "# Функция optimize_memory_usage оптимизации типов в dataframe.\n",
    "Код взят из источника https://github.com/ellavs/python-pandas-optimize-dataframe-memory-usage"
   ]
  },
  {
   "cell_type": "code",
   "execution_count": 2,
   "id": "e39029ed-b96e-41e3-82dc-310e10f5371e",
   "metadata": {
    "tags": []
   },
   "outputs": [],
   "source": [
    "# Передаваемые в функцию optimize_memory_usage:\n",
    "# df - наш df, который нужно оптимизировать - понизить размерность\n",
    "# print_size=False  и print_info=False - печать информации не производится\n",
    "\n",
    "def optimize_memory_usage(df, print_size=True, print_info_befor=True, print_info_after=True): \n",
    "\n",
    "    # Типы, которые будем проверять на оптимизацию.\n",
    "    numerics = ['int16', 'int32', 'int64', 'float16', 'float32', 'float64']\n",
    "    \n",
    "    if print_info_befor == True:  # Показать информацию о таблице до оптимизации.\n",
    "        print('-' * 80)\n",
    "        print(df.info())\n",
    "        print('-' * 80)\n",
    "  \n",
    "    # Размер занимаемой памяти до оптимизации (в Мб).\n",
    "    before_size = df.memory_usage().sum() / 1024**2    \n",
    "    for column in df.columns:\n",
    "        column_type = df[column].dtypes\n",
    "        if column_type in numerics:\n",
    "            column_min = df[column].min()\n",
    "            column_max = df[column].max()\n",
    "            if str(column_type).startswith('int'):\n",
    "                if column_min > np.iinfo(np.int32).min and column_max < np.iinfo(np.int32).max:\n",
    "                    df[column] = df[column].astype(np.int32)\n",
    "                elif column_min > np.iinfo(np.int64).min and column_max < np.iinfo(np.int64).max:\n",
    "                    df[column] = df[column].astype(np.int64)  \n",
    "            else:\n",
    "                if column_min > np.finfo(np.float32).min and column_max < np.finfo(np.float32).max:\n",
    "                    df[column] = df[column].astype(np.float32)\n",
    "                else:\n",
    "                    df[column] = df[column].astype(np.float64)    \n",
    "    # Размер занимаемой памяти после оптимизации (в Мб).\n",
    "    after_size = df.memory_usage().sum() / 1024**2\n",
    "    if print_size: \n",
    "        print('Memory usage size: before {:5.4f} Mb - after {:5.4f} Mb ({:.1f}%).'.format(before_size, after_size, 100 * (before_size - after_size) / before_size))\n",
    "    if print_info_after == True: #  Показать информацию о таблице после оптимизации.\n",
    "        print('-' * 80)\n",
    "        print(df.info())\n",
    "        print('-' * 80)\n",
    "       \n",
    "    return df"
   ]
  }
 ],
 "metadata": {
  "kernelspec": {
   "display_name": "Python 3 (ipykernel)",
   "language": "python",
   "name": "python3"
  },
  "language_info": {
   "codemirror_mode": {
    "name": "ipython",
    "version": 3
   },
   "file_extension": ".py",
   "mimetype": "text/x-python",
   "name": "python",
   "nbconvert_exporter": "python",
   "pygments_lexer": "ipython3",
   "version": "3.10.9"
  }
 },
 "nbformat": 4,
 "nbformat_minor": 5
}
