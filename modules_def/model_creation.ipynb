{
 "cells": [
  {
   "cell_type": "code",
   "execution_count": null,
   "id": "a934a1cd-87b1-4c05-8681-f7f27626f01c",
   "metadata": {},
   "outputs": [],
   "source": [
    "# Функция model_creation() рассчитывает основные оценочные показатели регрессии\n",
    "# Передаваемые в функцию параметры:\n",
    "# df - df для записи результатов параметров работы моделей для целевой переменной\n",
    "# model_name - имя рассматриваемой модели\n",
    "# column - название столбца по которуму идет расчет в цикле\n",
    "#'target_parameter' - целевая переменная\n",
    "# X_train, y_train, X_test, y_test- выборки для целевой переменной\n",
    "# cv_err    # целое число - количество выборок кросс-валидации (cv > 3, лучше от 5 до 10)\n",
    "# index_err  # счетчик для для целевой переменной \n",
    "\n",
    "def model_creation(df, model_name, column, target_param,\n",
    "                   X_train, y_train, X_test, y_test,\n",
    "                   cv_err, index_err):\n",
    "                                 \n",
    "    model_name.fit(X_train, y_train)\n",
    "    \n",
    "    # Оценка модели    \n",
    "    y_pred = model_name.predict(X_test)\n",
    "    pred   = np.array(y_pred)\n",
    "    actual = y_test\n",
    "       \n",
    "    y_pred = model_name.predict(np.array((X_test)))\n",
    "    actual = y_test.values\n",
    "    predicted = y_pred\n",
    "    \n",
    "    scores  = cross_val_score(estimator = model_name, X = X_test,y =  y_test, cv=cv_err)\n",
    "\n",
    "    # Стандартные параметры оценки регрессии\n",
    "   # df.at [index_err, 'Target'] = target_param\n",
    "    df.at [index_err, 'Model']  = column\n",
    "    df.at [index_err, 'R2']     = model_name.score(X_test, y_test) #  r2\n",
    "    df.at [index_err, 'MAE']    = metrics.mean_absolute_error(y_test, y_pred) # MAE\n",
    "    df.at [index_err, 'MSE']    = metrics.mean_squared_error(y_test, y_pred) # MSE \n",
    "    df.at [index_err, 'MaxER']   = metrics.max_error(y_test, y_pred) # максимальная ошибка\n",
    "    # Нестандартные параметры оценки регрессии\n",
    "    df.at [index_err, 'RMSE']   = np.sqrt(np.square(np.subtract(actual, pred)).mean()) # RMSE\n",
    "    # Кросс-валидационные параметры оценки регрессии\n",
    "    df.at [index_err, 'MCVS']   = np.mean(scores) # MCVS \n",
    "    df.at [index_err, 'StdDS']  = np.std(scores) #StdD\n",
    "        \n",
    "    # вывод на печать  Test и Predicted по каждой модели\n",
    "    plt.figure(figsize=(17,5))\n",
    "    plt.title(f'Тестовые и прогнозные значения: {model_name}')\n",
    "    plt.plot(actual, label='Тест')\n",
    "    plt.plot(pred, label='Прогноз')\n",
    "    plt.legend(loc='best')\n",
    "    plt.ylabel(target_param)\n",
    "    plt.xlabel('Количество наблюдений')\n",
    "        \n",
    "    return(df, index_err)"
   ]
  }
 ],
 "metadata": {
  "kernelspec": {
   "display_name": "Python 3 (ipykernel)",
   "language": "python",
   "name": "python3"
  },
  "language_info": {
   "codemirror_mode": {
    "name": "ipython",
    "version": 3
   },
   "file_extension": ".py",
   "mimetype": "text/x-python",
   "name": "python",
   "nbconvert_exporter": "python",
   "pygments_lexer": "ipython3",
   "version": "3.10.9"
  }
 },
 "nbformat": 4,
 "nbformat_minor": 5
}
