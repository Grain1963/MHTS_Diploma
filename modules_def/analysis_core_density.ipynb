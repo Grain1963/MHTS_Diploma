{
 "cells": [
  {
   "cell_type": "code",
   "execution_count": null,
   "id": "172d0a8b-cc97-4942-ade9-32e20d75e421",
   "metadata": {},
   "outputs": [],
   "source": [
    "# Функция оценки  плотности ядра df\n",
    "# Передаваемые аргументы:\n",
    "# df - исследуемый df\n",
    "# figsize_a- размер по оси 1\n",
    "# figsize_b- размер по оси 2\n",
    "# plt_suptitle - 'Название Графика'\n",
    "# graf_name_path - путь записис рисутнка в директорию\n",
    "\n",
    "def analysis_core_density(df, figsize_a,  figsize_b, plt_suptitle, graf_name_path):\n",
    "    fig, ax = plt.subplots(figsize=(figsize_a,  figsize_b)) #figsize = (12, 6))\n",
    "    df.plot(kind = 'kde', ax = ax)\n",
    "    plt.suptitle(plt_suptitle)\n",
    "    plt.savefig(graf_name_path, dpi=100) # Сохраняем рисунок таблицы в папку save_fig                        \n",
    "    plt.show()\n",
    "    return\n",
    "                       "
   ]
  }
 ],
 "metadata": {
  "kernelspec": {
   "display_name": "Python 3 (ipykernel)",
   "language": "python",
   "name": "python3"
  },
  "language_info": {
   "codemirror_mode": {
    "name": "ipython",
    "version": 3
   },
   "file_extension": ".py",
   "mimetype": "text/x-python",
   "name": "python",
   "nbconvert_exporter": "python",
   "pygments_lexer": "ipython3",
   "version": "3.10.9"
  }
 },
 "nbformat": 4,
 "nbformat_minor": 5
}
