{
 "cells": [
  {
   "cell_type": "code",
   "execution_count": 105,
   "id": "a6607fa9-bbac-4370-807e-46598cd978ab",
   "metadata": {},
   "outputs": [],
   "source": [
    "# Функция Z_score  для  вычисления Z оценки и удаления выбросов методом Z_score\n",
    "def Z_score(data):\n",
    "    global outliers,zscore\n",
    "    outliers = []\n",
    "    zscore = []\n",
    "    upper_threshold = 3\n",
    "    lower_threshold = -3\n",
    "    mean = np.mean(data)\n",
    "    std = np.std(data)\n",
    "    for i in data:\n",
    "        z_score= (i - mean)/std \n",
    "        zscore.append(z_score)\n",
    "        if np.abs(z_score) > upper_threshold or np.abs(z_score) < lower_threshold:\n",
    "            outliers.append(i)\n",
    "    return print(\"Total number of outliers are\",len(outliers)) #outliers,,  zscore"
   ]
  }
 ],
 "metadata": {
  "kernelspec": {
   "display_name": "Python 3 (ipykernel)",
   "language": "python",
   "name": "python3"
  },
  "language_info": {
   "codemirror_mode": {
    "name": "ipython",
    "version": 3
   },
   "file_extension": ".py",
   "mimetype": "text/x-python",
   "name": "python",
   "nbconvert_exporter": "python",
   "pygments_lexer": "ipython3",
   "version": "3.10.9"
  }
 },
 "nbformat": 4,
 "nbformat_minor": 5
}
