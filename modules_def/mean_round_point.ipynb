{
 "cells": [
  {
   "cell_type": "code",
   "execution_count": 72,
   "id": "5e22e85f-c320-4139-8edf-af363705147a",
   "metadata": {},
   "outputs": [],
   "source": [
    "# Функция mean_round_point расчета СРЕДНЕГО значения для \"подозрительного элемента\" в столбце с разбросом \n",
    "# как ВЫШЕ так и НИЖЕ от \"подозрительного элемента\"\n",
    "# Передаваемые в функцию параметры:\n",
    "# df[column] - столбец значений в котором сейчас идет проверка\n",
    "# n_row -      номер строки \"подозрительного элемента\"\n",
    "# n_spread -   задаваемый разброс обычно я задаю 5.\n",
    "\n",
    "def mean_round_point(df, column, n_row, n_spread):\n",
    "    mean_n_spread = 0 # возвращаемое значение среднего, полученного из суммы ближайших (n_spread * 2) значений столбца\n",
    "    \n",
    "    higth_value_sum = 0 # Сумма значений, где текущее значение номера строки Меньше (n_spread) \n",
    "    low_value_sum = 0   # Сумма значений,  где текущее значение номера строки Больше (n_spread)\n",
    "    \n",
    "# Для значений столбца, где текущее значение номера строки Меньше (n_spread) - заданного интервала для определения СРЕДНЕГО значения\n",
    "    for n in range(n_spread):\n",
    "        if (n_row == 0) or (n_row - n < 0):\n",
    "            break\n",
    "        else:\n",
    "            higth_value_sum = higth_value_sum + df.loc[n_row - n][column]\n",
    "            n = n + 1    \n",
    "# Для значений столбца, где текущее значение номера строки Больше (n_spread) - заданного интервала для определения СРЕДНЕГО значения\n",
    "    for k in range(n_spread):   \n",
    "        if n_row + k >= len(df[column]):  \n",
    "            break\n",
    "        else:\n",
    "            low_value_sum = low_value_sum + df.loc[n_row + k][column]    \n",
    "            k = k + 1\n",
    "# Рассчитываем суммы n_spread элементов выше (left_value_sum)  и ниже (rigth_value_sum) 'подозрительного элемента' строки n_row\n",
    "    mean_n_spread =  (higth_value_sum + low_value_sum) / (n + k)\n",
    "    print('новое значение :', mean_n_spread)\n",
    "    return mean_n_spread"
   ]
  }
 ],
 "metadata": {
  "kernelspec": {
   "display_name": "Python 3 (ipykernel)",
   "language": "python",
   "name": "python3"
  },
  "language_info": {
   "codemirror_mode": {
    "name": "ipython",
    "version": 3
   },
   "file_extension": ".py",
   "mimetype": "text/x-python",
   "name": "python",
   "nbconvert_exporter": "python",
   "pygments_lexer": "ipython3",
   "version": "3.10.9"
  }
 },
 "nbformat": 4,
 "nbformat_minor": 5
}
