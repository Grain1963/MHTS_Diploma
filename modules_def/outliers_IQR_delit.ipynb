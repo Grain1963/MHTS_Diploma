{
 "cells": [
  {
   "cell_type": "code",
   "execution_count": 103,
   "id": "73ed521d-d0f4-46f2-9577-0f944ef549fc",
   "metadata": {
    "tags": []
   },
   "outputs": [],
   "source": [
    "# Функция outliers_IQR_delit поиска выбросов в интервале Q1, Q3, и interquartile для каждого параметра\n",
    "# передаваемые параетры:\n",
    "# df- исследуемый df\n",
    "# Возвращаем новый очищеный от выбросов df: data_clean\n",
    "def outliers_IQR_delit(df):\n",
    "    Q1 = df.quantile(q=.25)\n",
    "    Q3 = df.quantile(q=.75) \n",
    "    IQR = df.apply(stats.iqr) # from scipy import stats\n",
    "# сохраняютмя только строки которые имеют значения в интервале 1.5\\*IQR от  Q1 и Q3\n",
    "    data_clean = df[~((df < (Q1 - 1.5 * IQR)) | (df > (Q3 + 1.5 * IQR))).any(axis=1)]\n",
    "# Выведем на печать как много строк у нас осталось после очистки методом IQR \n",
    "    data_clean.shape\n",
    "    print('Количество строк до удаления: ', len(df))\n",
    "    print('Количество строк после удаления: ', len(data_clean))\n",
    "    print('Удалено строк :', (len(df) - len(data_clean)))\n",
    "    \n",
    "    return(data_clean)"
   ]
  }
 ],
 "metadata": {
  "kernelspec": {
   "display_name": "Python 3 (ipykernel)",
   "language": "python",
   "name": "python3"
  },
  "language_info": {
   "codemirror_mode": {
    "name": "ipython",
    "version": 3
   },
   "file_extension": ".py",
   "mimetype": "text/x-python",
   "name": "python",
   "nbconvert_exporter": "python",
   "pygments_lexer": "ipython3",
   "version": "3.10.9"
  }
 },
 "nbformat": 4,
 "nbformat_minor": 5
}
