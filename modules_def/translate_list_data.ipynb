{
 "cells": [
  {
   "cell_type": "code",
   "execution_count": 27,
   "id": "20be7ece-3be9-4963-ae67-37121b672852",
   "metadata": {
    "tags": []
   },
   "outputs": [],
   "source": [
    "# Функция translate_list_data  перевода строковых данных ('слов или предложение') или Списка (list) на любой другой язык\n",
    "# передаем параметры:\n",
    "# list_data - строку в формате 'str' или в виде списка list\n",
    "# lang_old - необязательный параметр - src - код  исходного языка - по таблие сокращений языков (в нашем случае - 'ru' - русский) \n",
    "# lang_new - параметр -dest -код   целевого языка - по таблице сокращений языков (по умолчанию - 'en' - английский)\n",
    "# Если не указать lang_new - параметр -'dest' - прорамма по умолчанию применит английский язык.\n",
    "# prt - параметр для печати результатов. Если = True - печать, если Flse - Нет печати\n",
    "\n",
    "def translate_list_data (data, src, dest, prt = True):\n",
    "    list_old_name = data\n",
    "    # Создаем пустой список для вывод переведенного списка\n",
    "    list_new_name = []\n",
    "    translator = Translator() # вызываем метод Translator()\n",
    "    for i in list_old_name: # проходим цикл по списку\n",
    "        translated = translator.translate(i, src = 'ru', dest= 'en').text # осуществляем перевод по элемнтам списка\n",
    "        list_new_name.append(translated) # добавляем переведенные элементы  в списое первода\n",
    "    if prt==True:\n",
    "        print(f'{list_old_name} -> {list_new_name}')\n",
    "        \n",
    "    return list_new_name"
   ]
  }
 ],
 "metadata": {
  "kernelspec": {
   "display_name": "Python 3 (ipykernel)",
   "language": "python",
   "name": "python3"
  },
  "language_info": {
   "codemirror_mode": {
    "name": "ipython",
    "version": 3
   },
   "file_extension": ".py",
   "mimetype": "text/x-python",
   "name": "python",
   "nbconvert_exporter": "python",
   "pygments_lexer": "ipython3",
   "version": "3.10.9"
  }
 },
 "nbformat": 4,
 "nbformat_minor": 5
}
