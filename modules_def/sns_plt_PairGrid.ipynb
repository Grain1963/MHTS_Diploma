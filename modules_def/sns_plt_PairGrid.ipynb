{
 "cells": [
  {
   "cell_type": "code",
   "execution_count": 43,
   "id": "2381af53-818c-4d26-85cc-5c0d795e07e2",
   "metadata": {},
   "outputs": [],
   "source": [
    "# Функция sns_plt_PairGrid построения графиков sns.scatterplot, sns.kdeplot, sns.histplot параметров друг от друга\n",
    "# Передаваемые в функцию парамтеры:\n",
    "# df - исследуемый df\n",
    "# part - head, tail, None\n",
    "       # head - если требуется вывести на печать начальную часть df\n",
    "       # tail - если требуется вывести на печать конечную часть df\n",
    "       # None - если требуется вывести на печать весь df\n",
    "# N_str - количество строк для анализа в графиках\n",
    "       # N_str = число \n",
    "       # 'None' - передается весь df\n",
    "# plt_suptitle - 'Заголовок графика'\n",
    "        \n",
    "def sns_plt_PairGrid(df, plt_suptitle, part, N_str):\n",
    "    if part == 'None':\n",
    "        df_part = df\n",
    "    elif part == 'head':\n",
    "        df_part = df.head(N_str)\n",
    "    elif part == 'tail':\n",
    "        df_part = df.tail(N_str)\n",
    "        \n",
    "       \n",
    "    # Создаем экземпляр класса:\n",
    "    g = sns.PairGrid(df_part)\n",
    "    \n",
    "    # заголовок графика\n",
    "    g.fig.suptitle(plt_suptitle, y = 1.03, fontsize = 30)\n",
    "       \n",
    "    # задаем тип графиков НАД\n",
    "    # главной диагональю:\n",
    "    g.map_upper(sns.scatterplot, alpha=0.5) \n",
    "\n",
    "    # задаем тип графиков НА\n",
    "    # главной диагонали:\n",
    "    g.map_diag(sns.histplot, kde=True, bins = 30, fill = True)\n",
    "\n",
    "    # задаем тип графиков ПОД\n",
    "    # главной диагональю:\n",
    "    g.map_lower(sns.kdeplot, bw_adjust=0.7) \n",
    "\n",
    "    return"
   ]
  }
 ],
 "metadata": {
  "kernelspec": {
   "display_name": "Python 3 (ipykernel)",
   "language": "python",
   "name": "python3"
  },
  "language_info": {
   "codemirror_mode": {
    "name": "ipython",
    "version": 3
   },
   "file_extension": ".py",
   "mimetype": "text/x-python",
   "name": "python",
   "nbconvert_exporter": "python",
   "pygments_lexer": "ipython3",
   "version": "3.10.9"
  }
 },
 "nbformat": 4,
 "nbformat_minor": 5
}
