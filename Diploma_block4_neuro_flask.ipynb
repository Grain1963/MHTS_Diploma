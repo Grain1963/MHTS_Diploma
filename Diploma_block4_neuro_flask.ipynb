{
 "cells": [
  {
   "cell_type": "code",
   "execution_count": 57,
   "id": "d3af3195-097f-4549-ad3c-fe5047c64c9a",
   "metadata": {},
   "outputs": [],
   "source": [
    "# Импортируем в Блок требуемые библиотеки\n",
    "\n",
    "# Блок основных библиотек\n",
    "import pandas as pd\n",
    "import numpy as np\n",
    "import math\n",
    "\n",
    "# Блок графических пакетов\n",
    "import matplotlib\n",
    "import matplotlib.pyplot as plt\n",
    "from matplotlib import cm\n",
    "import seaborn as sns\n",
    "import plotly\n",
    "from plotly.subplots import make_subplots\n",
    "import pylab\n",
    "%matplotlib inline\n",
    "sns.set_style('darkgrid')\n",
    "\n",
    "# Блок библиотеки sklearn\n",
    "from sklearn import preprocessing\n",
    "from sklearn.preprocessing import MinMaxScaler\n",
    "from sklearn.model_selection import train_test_split\n",
    "\n",
    "from sklearn import metrics\n",
    "from sklearn.metrics import r2_score, mean_squared_error, mean_absolute_percentage_error # метрика для проверки \n",
    "from sklearn.model_selection import cross_val_score, cross_val_predict\n",
    "\n",
    "import statsmodels.api as sm \n",
    "\n",
    "# Блок для создания нейронной сети\n",
    "import tensorflow as tf\n",
    "import tensorflow.keras as keras\n",
    "from tensorflow.keras.models import Sequential\n",
    "from tensorflow.keras.layers import AlphaDropout, Dense, Dropout\n",
    "from tensorflow.keras.optimizers import Adam\n",
    "from keras.callbacks import EarlyStopping\n",
    "\n",
    "import pickle\n",
    "\n",
    "# Блок исключеия вывода предупреждающих ошибок\n",
    "import warnings\n",
    "warnings.simplefilter(action='ignore', category=FutureWarning)\n",
    "warnings.simplefilter(action='ignore', category=UserWarning)\n",
    "warnings.filterwarnings(\"ignore\")"
   ]
  },
  {
   "cell_type": "code",
   "execution_count": 2,
   "id": "ebd49ae3-ea2c-4ae7-af76-24ecf0cc7d7a",
   "metadata": {},
   "outputs": [],
   "source": [
    "# Блок импорта созданых функций для проекта из папки modules_def\n",
    "%run ./modules_def/optimize_memory_usage.ipynb"
   ]
  },
  {
   "cell_type": "code",
   "execution_count": null,
   "id": "e7be92f2-cc0f-4b03-8033-0aa272885e90",
   "metadata": {},
   "outputs": [],
   "source": [
    "# Блок создания нейронной сети, которая будет рекомендовать:\n",
    "#'ratio_filler_matrix' RFM - Соотношение матрица-наполнитель "
   ]
  },
  {
   "cell_type": "code",
   "execution_count": 3,
   "id": "38fd71c5-1e47-4458-a484-2f20c6923639",
   "metadata": {},
   "outputs": [
    {
     "name": "stdout",
     "output_type": "stream",
     "text": [
      "2.10.0\n"
     ]
    }
   ],
   "source": [
    "# Версия tensorflow\n",
    "print(tf.__version__)"
   ]
  },
  {
   "cell_type": "code",
   "execution_count": null,
   "id": "4780826e-007d-42fd-8859-a7b6dcb53c53",
   "metadata": {},
   "outputs": [],
   "source": [
    "# Нейронная сеть для предсказания соотношения матрица-наполнитель"
   ]
  },
  {
   "cell_type": "markdown",
   "id": "e7847ff1-3a0a-41c1-b739-4723a1a21217",
   "metadata": {},
   "source": [
    "!!!!!! http://mei06.narod.ru/sem7/iis/shpora/page2_9.htm\n",
    "Многослойные нейронные сети прямого распространения (МНСПР)\n",
    "Выбор параметров сети.\n",
    "\n",
    "Элементы нейронной сети\n",
    "Входной слой: этот слой принимает входные функции. Он предоставляет информацию из внешнего мира в сеть, \n",
    "на этом уровне вычисления не выполняются, узлы здесь просто передают информацию (функции) скрытому слою.\n",
    "\n",
    "Скрытый слой / слои-  это слой не подвергается воздействию внешнего мира, он являются частью абстракции, \n",
    "предоставляемой любой нейронной сетью. Скрытый слой выполняет все виды вычислений над объектами, \n",
    "введенными через входной слой, и передает результат на выходной слой.\n",
    "\n",
    "Выходной уровень: этот уровень выводит информацию, полученную сетью, во внешний мир.\n",
    "\n",
    "В настоящее время нет никаких жестких правил ни для выбора количества скрытых слоев, \n",
    "ни для выбора количества нейронов в них. Хотя существуют ограничения, помогающие принимать решения.\n",
    "Критерии выбора количество слоев.\n",
    "1) Если функция определена на конечном множестве точек, то 3-ехслойный перцептрон способен ее апроксимировать.\n",
    "2) Если функция непрерывна и определена на компактной области, то 3-ехслойный перцептрон способен ее апроксимировать.\n",
    "3) Остальные функции, которым могут быть обучены нейронные сети, могут быть апроксимированы 4-ехслойным перцетроном.\n",
    "Таким образом, теоретически максимальное количество слоев, которое необходимо – четыре, или два скрытых слоя. \n",
    "\n",
    "Вывод: C учетом наших исследований по корреляции (фактически ее отсутствия)\n",
    "принимаем 3 вариант построения нейронной сети, т.е. у нас будет 4 слоя:\n",
    "\n",
    "Количество нейронов в скрытых слоях.\n",
    "Слишком малое количество – и сеть не сможет обучиться. \n",
    "Слишком большое повлечет за собой увеличение времени обучения сети до фактически нереального значения. \n",
    "Также это может привести к переобученности сети (overfitting), проявляющейся в том, \n",
    "что сеть будет прекрасно работать на обучающей выборке, но очень плохо на входных примерах не входящих в нее.\n",
    "\n",
    "Это происходит из-за того, что сеть будет обладать избыточными способностями к обучению\n",
    "и наряду со значительными для данной задачи факторами будет учитывать черты, \n",
    "характерные лишь для данной обучающей выборки.\n",
    "\n",
    "Однако, существуют эвристические правила выбора количества нейронов в скрытых слоях. \n",
    "Одним из таких правил является правило  геометрической пирамиды (geometric pyramid rule).  \n",
    "Для 3-ех слойного перцептрона, по этому правилу ,число нейронов скрытого слоя  вычисляетмя по следующей формуле:\n",
    "k = sqrt(n * m)                      \n",
    "где\n",
    "k – число нейронов в скрытом слое,\n",
    "n – число нейронов во входном слое;\n",
    "m –  число нейронов в выходном слое.\n",
    "Для 4-ехслойного перцептрона число нейронов вычисляется несколько сложнее:\n",
    "r = sqrt^3(n/m)( кубический корень)\n",
    "где \n",
    "к1= m * r2 - число нейронов в первом скрытом слое;\n",
    "к2 = m * r - число нейронов во втором скрытом слое.   "
   ]
  },
  {
   "cell_type": "code",
   "execution_count": 4,
   "id": "297be0e1-896d-446c-8086-86f699a823ce",
   "metadata": {},
   "outputs": [],
   "source": [
    "# У нас 1  имеется целевая переменная - 'ratio_filler_matrix' RFM - Соотношение матрица-наполнитель\n",
    "# Следовательно, у нас будет 1 нейрон на выходе\n",
    "# На входе  DF у нас остаются 12 признаков.\n",
    "# Следоватьльно у нас на входе нейроной сети будет  12 нейронов.  \n",
    "\n",
    "# Проведем расчет количества нейронов в 2 - х скрытых слоях по правилу  геометрической пирамиды: \n",
    "# k -                 # число нейронов в скрытом слое\n",
    "n = 12              # число нейронов во входном слое\n",
    "m = 1               # число нейронов в выходном слое \n",
    "r = (n/m) **(1.0/3.0)\n",
    "k1 = m * r**2       # число нейронов в 1-м скрытом слое\n",
    "k2 = m * r          # число нейронов во 2-м скрытом слое"
   ]
  },
  {
   "cell_type": "code",
   "execution_count": 5,
   "id": "9fbbcb70-3e99-4ee9-be5f-c75f584f2c4f",
   "metadata": {},
   "outputs": [
    {
     "name": "stdout",
     "output_type": "stream",
     "text": [
      "число нейронов во входном слое -  12\n",
      "число нейронов в выходном слое -  1\n",
      "число нейронов в 1-м скрытом слое -  6\n",
      "число нейронов во 2-м скрытом слое -  3\n"
     ]
    }
   ],
   "source": [
    "print('число нейронов во входном слое - ', n)\n",
    "print('число нейронов в выходном слое - ', m)\n",
    "print('число нейронов в 1-м скрытом слое - ', math.ceil(k1)) # округляем в большую сторону\n",
    "print('число нейронов во 2-м скрытом слое - ', math.ceil(k2)) # округляем в большую сторону"
   ]
  },
  {
   "cell_type": "markdown",
   "id": "01580b33-7b5f-48a8-abd8-b6ac394058d7",
   "metadata": {},
   "source": [
    "Выбор Активационных функций\n",
    "\n",
    "Функция активации решает, следует ли активировать нейрон или нет, путем вычисления взвешенной суммы \n",
    "и дальнейшего добавления к ней смещения. \n",
    "Целью функции активации является введение нелинейности в выходной сигнал нейрона.\n",
    "\n",
    "Варианты функции активации\n",
    "Линейная функция\n",
    "Использование: Функция линейной активации используется только в одном месте, т.Е. на выходном уровне.\n",
    "\n",
    "Функция RELU\n",
    "Это означает выпрямленную линейную единицу. Это наиболее широко используемая функция активации. \n",
    "В основном реализованы в скрытых слоях нейронной сети.\n",
    "Природа: - нелинейная, что означает, что мы можем легко распространять ошибки в обратном направлении и иметь несколько слоев нейронов, активируемых функцией ReLU.\n",
    "Использует: - ReLU менее дорогостоящий в вычислительном отношении, чем tanh и sigmoid, поскольку он включает в себя более простые математические операции. Одновременно активируется только несколько нейронов, что делает сеть разреженной, что делает ее эффективной и простой для вычислений.\n",
    "Проще говоря, RELU обучается намного быстрее, чем sigmoid и функция Tanh.\n",
    "\n",
    "Функция активации SELU\n",
    "масштабированная экспоненциальная линейная единица или функцию активации SELU\n",
    "масштабируемые экспоненциальные линейные единицы\" (SELU)\n",
    "Эта функция активации, которая обладает свойствами самонормализации, гарантирует, \n",
    "что все выходные данные будут нормализованы без явного добавления слоя нормализации в вашу модель. \n",
    "Что лучше, так это то, что его можно использовать относительно легко и что он обеспечивает адекватные результаты,\n",
    "Important:\n",
    "1. When using SELU, the LecunNormal() initializer must be used -  kernel_initializer='lecun_normal'\n",
    "2. When using SELU and Dropout, AlphaDropout() must be used\n",
    "\n",
    "Масштабируемая экспоненциальная линейная единица или функция активации SELU может использоваться для объединения\n",
    "эффектов RELU и пакетной нормализации,что устраняет необходимость в использовании BatchNorm."
   ]
  },
  {
   "cell_type": "code",
   "execution_count": 7,
   "id": "7a95cb80-cf2e-4619-8f7d-50c0d7808c01",
   "metadata": {},
   "outputs": [],
   "source": [
    "# Для проведения исследования целевого 'ratio_filler_matrix' RFM - Соотношение матрица-наполнитель \n",
    "# считываем ПОЛНЫЙ df: data_main_clean который был очищен от выбросов в блоке 1\n",
    "data_main_clean = pd.read_csv(r'data_storage\\data_block1_clean\\data_main_clean.csv')"
   ]
  },
  {
   "cell_type": "code",
   "execution_count": 8,
   "id": "8595c99a-8f23-4a70-bdd5-110bcfd0b164",
   "metadata": {},
   "outputs": [
    {
     "data": {
      "text/plain": [
       "['pattern_angle',\n",
       " 'step_strip',\n",
       " 'density_strip',\n",
       " 'ratio_filler_matrix',\n",
       " 'density',\n",
       " 'elasticity_module',\n",
       " 'number_hardeners',\n",
       " 'content_epoxy_groups',\n",
       " 'flash_temperature',\n",
       " 'surface_density',\n",
       " 'elasticity_module_stretching',\n",
       " 'strapery_strength',\n",
       " 'resin_consumption']"
      ]
     },
     "execution_count": 8,
     "metadata": {},
     "output_type": "execute_result"
    }
   ],
   "source": [
    "list(data_main_clean)"
   ]
  },
  {
   "cell_type": "code",
   "execution_count": 9,
   "id": "2c5dd268-1357-428b-902d-86eaf14dd98e",
   "metadata": {},
   "outputs": [],
   "source": [
    "# Изменим порядок столбцов, для наглядной работы в Блоке написания приложения FLASK.\n",
    "# Поставим на ПЕРВОЕ место наш целевой показатель 'ratio_filler_matrix' - Соотношение матрица-наполнитель\n",
    "# Запишем в новый df - data_main_clean_flask\n",
    "data_main_clean_flask = data_main_clean.reindex(columns=['ratio_filler_matrix',\n",
    "                                                         'pattern_angle',\n",
    "                                                         'step_strip',\n",
    "                                                         'density_strip',\n",
    "                                                         'density',\n",
    "                                                         'elasticity_module',\n",
    "                                                         'number_hardeners',\n",
    "                                                         'content_epoxy_groups',\n",
    "                                                         'flash_temperature',\n",
    "                                                         'surface_density',\n",
    "                                                         'elasticity_module_stretching',\n",
    "                                                         'strapery_strength',\n",
    "                                                         'resin_consumption'\n",
    "                                                         ])"
   ]
  },
  {
   "cell_type": "code",
   "execution_count": 10,
   "id": "646cd82e-586b-469d-b6a1-5409e5f39fed",
   "metadata": {},
   "outputs": [
    {
     "name": "stdout",
     "output_type": "stream",
     "text": [
      "<class 'pandas.core.frame.DataFrame'>\n",
      "RangeIndex: 935 entries, 0 to 934\n",
      "Data columns (total 13 columns):\n",
      " #   Column                        Non-Null Count  Dtype  \n",
      "---  ------                        --------------  -----  \n",
      " 0   ratio_filler_matrix           935 non-null    float64\n",
      " 1   pattern_angle                 935 non-null    int64  \n",
      " 2   step_strip                    935 non-null    float64\n",
      " 3   density_strip                 935 non-null    float64\n",
      " 4   density                       935 non-null    float64\n",
      " 5   elasticity_module             935 non-null    float64\n",
      " 6   number_hardeners              935 non-null    float64\n",
      " 7   content_epoxy_groups          935 non-null    float64\n",
      " 8   flash_temperature             935 non-null    float64\n",
      " 9   surface_density               935 non-null    float64\n",
      " 10  elasticity_module_stretching  935 non-null    float64\n",
      " 11  strapery_strength             935 non-null    float64\n",
      " 12  resin_consumption             935 non-null    float64\n",
      "dtypes: float64(12), int64(1)\n",
      "memory usage: 95.1 KB\n"
     ]
    }
   ],
   "source": [
    "data_main_clean_flask.info()"
   ]
  },
  {
   "cell_type": "code",
   "execution_count": 11,
   "id": "c9cfe9d7-4a83-4287-80d6-d9c1f04763e8",
   "metadata": {},
   "outputs": [],
   "source": [
    "# Получим MIN и MAX (диапазоны значений по параметрам) данных в столбцах\n",
    "# для организации приложения Flask в качестве ориентира введения занчений\n",
    "# для расчета целевой переменой ratio_filler_matrix Сотношение матрица-наполнитель\n",
    "\n",
    "df_min_max_flask = pd.DataFrame({\n",
    "             'ratio_filler_matrix':[0.6, 5.3],\n",
    "                   'pattern_angle':[0, 1],\n",
    "                      'step_strip':[1.6, 13.0],\n",
    "                  'density_strip' :[30.0, 86.0],\n",
    "                        'density' :[1790.0, 2160.0],\n",
    "              'elasticity_module' :[54.0, 1560.0],\n",
    "                'number_hardeners':[36.0, 180.0],     \n",
    "            'content_epoxy_groups':[16.5, 28.5],\n",
    "               'flash_temperature':[187.0, 385.0],\n",
    "                'surface_density' :[30.0, 1200.0],\n",
    "    'elasticity_module_stretching':[66.0, 81.0],\n",
    "              'strapery_strength' :[1326.0, 3600.0],\n",
    "               'resin_consumption':[80.0, 350.0],\n",
    "                                }) "
   ]
  },
  {
   "cell_type": "code",
   "execution_count": 12,
   "id": "8be5d0f7-ee7b-46d9-bded-44e5815481e0",
   "metadata": {},
   "outputs": [
    {
     "name": "stdout",
     "output_type": "stream",
     "text": [
      "<class 'pandas.core.frame.DataFrame'>\n",
      "RangeIndex: 2 entries, 0 to 1\n",
      "Data columns (total 13 columns):\n",
      " #   Column                        Non-Null Count  Dtype  \n",
      "---  ------                        --------------  -----  \n",
      " 0   ratio_filler_matrix           2 non-null      float64\n",
      " 1   pattern_angle                 2 non-null      int64  \n",
      " 2   step_strip                    2 non-null      float64\n",
      " 3   density_strip                 2 non-null      float64\n",
      " 4   density                       2 non-null      float64\n",
      " 5   elasticity_module             2 non-null      float64\n",
      " 6   number_hardeners              2 non-null      float64\n",
      " 7   content_epoxy_groups          2 non-null      float64\n",
      " 8   flash_temperature             2 non-null      float64\n",
      " 9   surface_density               2 non-null      float64\n",
      " 10  elasticity_module_stretching  2 non-null      float64\n",
      " 11  strapery_strength             2 non-null      float64\n",
      " 12  resin_consumption             2 non-null      float64\n",
      "dtypes: float64(12), int64(1)\n",
      "memory usage: 336.0 bytes\n"
     ]
    }
   ],
   "source": [
    "df_min_max_flask.info()"
   ]
  },
  {
   "cell_type": "code",
   "execution_count": 13,
   "id": "7317254f-5ebb-4c88-a94c-e8d0d0211836",
   "metadata": {},
   "outputs": [],
   "source": [
    "# Запишем df_min_max_flask в директорию data_storage\\data_block5_flask\\ \n",
    "# для последующего использования в приложении Flask\n",
    "df_min_max_flask.to_csv(r'data_storage\\data_block5_flask\\df_min_max_flask.csv', index=False)"
   ]
  },
  {
   "cell_type": "markdown",
   "id": "52c8ce26-b8ad-4879-bee1-15d0063cf3eb",
   "metadata": {},
   "source": [
    "# Продолжаем работу над блоком N 4 по созданию нейронной сети"
   ]
  },
  {
   "cell_type": "code",
   "execution_count": 14,
   "id": "17efe6f8-b417-4c5c-9593-6aeaf483d8a5",
   "metadata": {},
   "outputs": [],
   "source": [
    "# Выделяем целевую переменную 'y'-  'ratio_filler_matrix'  _RFM из data_main_clean_flask\n",
    "y_RFM = data_main_clean_flask[['ratio_filler_matrix']]\n",
    "X_RFM = data_main_clean_flask.drop(columns=['ratio_filler_matrix'])"
   ]
  },
  {
   "cell_type": "code",
   "execution_count": 18,
   "id": "26c87f55-1777-46f5-a623-b9894799b410",
   "metadata": {},
   "outputs": [],
   "source": [
    "scaler_y= MinMaxScaler() \n",
    "list_data_y = list(y_RFM)\n",
    "data_scaler_y_norm = scaler_y.fit_transform(y_RFM)    \n",
    "data_scaler_y_norm = pd.DataFrame(data = data_scaler_y_norm, columns = list_data_y)"
   ]
  },
  {
   "cell_type": "code",
   "execution_count": 19,
   "id": "f25a8d59-2cb6-434c-b74e-f18bde3896fe",
   "metadata": {},
   "outputs": [
    {
     "data": {
      "text/html": [
       "<div>\n",
       "<style scoped>\n",
       "    .dataframe tbody tr th:only-of-type {\n",
       "        vertical-align: middle;\n",
       "    }\n",
       "\n",
       "    .dataframe tbody tr th {\n",
       "        vertical-align: top;\n",
       "    }\n",
       "\n",
       "    .dataframe thead th {\n",
       "        text-align: right;\n",
       "    }\n",
       "</style>\n",
       "<table border=\"1\" class=\"dataframe\">\n",
       "  <thead>\n",
       "    <tr style=\"text-align: right;\">\n",
       "      <th></th>\n",
       "      <th>ratio_filler_matrix</th>\n",
       "    </tr>\n",
       "  </thead>\n",
       "  <tbody>\n",
       "    <tr>\n",
       "      <th>count</th>\n",
       "      <td>935.000000</td>\n",
       "    </tr>\n",
       "    <tr>\n",
       "      <th>mean</th>\n",
       "      <td>0.498549</td>\n",
       "    </tr>\n",
       "    <tr>\n",
       "      <th>std</th>\n",
       "      <td>0.187746</td>\n",
       "    </tr>\n",
       "    <tr>\n",
       "      <th>min</th>\n",
       "      <td>0.000000</td>\n",
       "    </tr>\n",
       "    <tr>\n",
       "      <th>25%</th>\n",
       "      <td>0.373697</td>\n",
       "    </tr>\n",
       "    <tr>\n",
       "      <th>50%</th>\n",
       "      <td>0.494837</td>\n",
       "    </tr>\n",
       "    <tr>\n",
       "      <th>75%</th>\n",
       "      <td>0.630121</td>\n",
       "    </tr>\n",
       "    <tr>\n",
       "      <th>max</th>\n",
       "      <td>1.000000</td>\n",
       "    </tr>\n",
       "  </tbody>\n",
       "</table>\n",
       "</div>"
      ],
      "text/plain": [
       "       ratio_filler_matrix\n",
       "count           935.000000\n",
       "mean              0.498549\n",
       "std               0.187746\n",
       "min               0.000000\n",
       "25%               0.373697\n",
       "50%               0.494837\n",
       "75%               0.630121\n",
       "max               1.000000"
      ]
     },
     "execution_count": 19,
     "metadata": {},
     "output_type": "execute_result"
    }
   ],
   "source": [
    "data_scaler_y_norm.describe() # данные нормализованы"
   ]
  },
  {
   "cell_type": "code",
   "execution_count": 20,
   "id": "40efc56a-ace4-435f-af27-70670c50f23d",
   "metadata": {},
   "outputs": [],
   "source": [
    "# Нормализация по целевой переменной X\n",
    "scaler_X = MinMaxScaler()\n",
    "list_data_X = list(X_RFM)\n",
    "data_scaler_X_norm = scaler_X.fit_transform(X_RFM)    \n",
    "data_scaler_X_norm = pd.DataFrame(data = data_scaler_X_norm, columns = list_data_X)"
   ]
  },
  {
   "cell_type": "code",
   "execution_count": 21,
   "id": "53f780f1-30fa-4a99-8aa0-9a44eb8bf1a9",
   "metadata": {},
   "outputs": [
    {
     "data": {
      "text/html": [
       "<div>\n",
       "<style scoped>\n",
       "    .dataframe tbody tr th:only-of-type {\n",
       "        vertical-align: middle;\n",
       "    }\n",
       "\n",
       "    .dataframe tbody tr th {\n",
       "        vertical-align: top;\n",
       "    }\n",
       "\n",
       "    .dataframe thead th {\n",
       "        text-align: right;\n",
       "    }\n",
       "</style>\n",
       "<table border=\"1\" class=\"dataframe\">\n",
       "  <thead>\n",
       "    <tr style=\"text-align: right;\">\n",
       "      <th></th>\n",
       "      <th>pattern_angle</th>\n",
       "      <th>step_strip</th>\n",
       "      <th>density_strip</th>\n",
       "      <th>density</th>\n",
       "      <th>elasticity_module</th>\n",
       "      <th>number_hardeners</th>\n",
       "      <th>content_epoxy_groups</th>\n",
       "      <th>flash_temperature</th>\n",
       "      <th>surface_density</th>\n",
       "      <th>elasticity_module_stretching</th>\n",
       "      <th>strapery_strength</th>\n",
       "      <th>resin_consumption</th>\n",
       "    </tr>\n",
       "  </thead>\n",
       "  <tbody>\n",
       "    <tr>\n",
       "      <th>count</th>\n",
       "      <td>935.000000</td>\n",
       "      <td>935.000000</td>\n",
       "      <td>935.000000</td>\n",
       "      <td>935.000000</td>\n",
       "      <td>935.000000</td>\n",
       "      <td>935.000000</td>\n",
       "      <td>935.000000</td>\n",
       "      <td>935.000000</td>\n",
       "      <td>935.000000</td>\n",
       "      <td>935.000000</td>\n",
       "      <td>935.000000</td>\n",
       "      <td>935.000000</td>\n",
       "    </tr>\n",
       "    <tr>\n",
       "      <th>mean</th>\n",
       "      <td>0.511230</td>\n",
       "      <td>0.457878</td>\n",
       "      <td>0.492296</td>\n",
       "      <td>0.502641</td>\n",
       "      <td>0.442185</td>\n",
       "      <td>0.511047</td>\n",
       "      <td>0.481879</td>\n",
       "      <td>0.497636</td>\n",
       "      <td>0.371760</td>\n",
       "      <td>0.486771</td>\n",
       "      <td>0.499707</td>\n",
       "      <td>0.490634</td>\n",
       "    </tr>\n",
       "    <tr>\n",
       "      <th>std</th>\n",
       "      <td>0.500141</td>\n",
       "      <td>0.199628</td>\n",
       "      <td>0.197568</td>\n",
       "      <td>0.187324</td>\n",
       "      <td>0.201045</td>\n",
       "      <td>0.185225</td>\n",
       "      <td>0.184314</td>\n",
       "      <td>0.198703</td>\n",
       "      <td>0.216543</td>\n",
       "      <td>0.200257</td>\n",
       "      <td>0.195697</td>\n",
       "      <td>0.203170</td>\n",
       "    </tr>\n",
       "    <tr>\n",
       "      <th>min</th>\n",
       "      <td>0.000000</td>\n",
       "      <td>0.000000</td>\n",
       "      <td>0.000000</td>\n",
       "      <td>0.000000</td>\n",
       "      <td>0.000000</td>\n",
       "      <td>0.000000</td>\n",
       "      <td>0.000000</td>\n",
       "      <td>0.000000</td>\n",
       "      <td>0.000000</td>\n",
       "      <td>0.000000</td>\n",
       "      <td>0.000000</td>\n",
       "      <td>0.000000</td>\n",
       "    </tr>\n",
       "    <tr>\n",
       "      <th>25%</th>\n",
       "      <td>0.000000</td>\n",
       "      <td>0.310748</td>\n",
       "      <td>0.364711</td>\n",
       "      <td>0.370227</td>\n",
       "      <td>0.296743</td>\n",
       "      <td>0.383492</td>\n",
       "      <td>0.351065</td>\n",
       "      <td>0.360774</td>\n",
       "      <td>0.204327</td>\n",
       "      <td>0.352799</td>\n",
       "      <td>0.363982</td>\n",
       "      <td>0.352349</td>\n",
       "    </tr>\n",
       "    <tr>\n",
       "      <th>50%</th>\n",
       "      <td>1.000000</td>\n",
       "      <td>0.454338</td>\n",
       "      <td>0.488019</td>\n",
       "      <td>0.511293</td>\n",
       "      <td>0.438043</td>\n",
       "      <td>0.508163</td>\n",
       "      <td>0.478647</td>\n",
       "      <td>0.498293</td>\n",
       "      <td>0.350415</td>\n",
       "      <td>0.481875</td>\n",
       "      <td>0.496497</td>\n",
       "      <td>0.484308</td>\n",
       "    </tr>\n",
       "    <tr>\n",
       "      <th>75%</th>\n",
       "      <td>1.000000</td>\n",
       "      <td>0.590878</td>\n",
       "      <td>0.624528</td>\n",
       "      <td>0.624833</td>\n",
       "      <td>0.580116</td>\n",
       "      <td>0.645946</td>\n",
       "      <td>0.614967</td>\n",
       "      <td>0.634028</td>\n",
       "      <td>0.536507</td>\n",
       "      <td>0.621867</td>\n",
       "      <td>0.629312</td>\n",
       "      <td>0.628170</td>\n",
       "    </tr>\n",
       "    <tr>\n",
       "      <th>max</th>\n",
       "      <td>1.000000</td>\n",
       "      <td>1.000000</td>\n",
       "      <td>1.000000</td>\n",
       "      <td>1.000000</td>\n",
       "      <td>1.000000</td>\n",
       "      <td>1.000000</td>\n",
       "      <td>1.000000</td>\n",
       "      <td>1.000000</td>\n",
       "      <td>1.000000</td>\n",
       "      <td>1.000000</td>\n",
       "      <td>1.000000</td>\n",
       "      <td>1.000000</td>\n",
       "    </tr>\n",
       "  </tbody>\n",
       "</table>\n",
       "</div>"
      ],
      "text/plain": [
       "       pattern_angle  step_strip  density_strip     density  \\\n",
       "count     935.000000  935.000000     935.000000  935.000000   \n",
       "mean        0.511230    0.457878       0.492296    0.502641   \n",
       "std         0.500141    0.199628       0.197568    0.187324   \n",
       "min         0.000000    0.000000       0.000000    0.000000   \n",
       "25%         0.000000    0.310748       0.364711    0.370227   \n",
       "50%         1.000000    0.454338       0.488019    0.511293   \n",
       "75%         1.000000    0.590878       0.624528    0.624833   \n",
       "max         1.000000    1.000000       1.000000    1.000000   \n",
       "\n",
       "       elasticity_module  number_hardeners  content_epoxy_groups  \\\n",
       "count         935.000000        935.000000            935.000000   \n",
       "mean            0.442185          0.511047              0.481879   \n",
       "std             0.201045          0.185225              0.184314   \n",
       "min             0.000000          0.000000              0.000000   \n",
       "25%             0.296743          0.383492              0.351065   \n",
       "50%             0.438043          0.508163              0.478647   \n",
       "75%             0.580116          0.645946              0.614967   \n",
       "max             1.000000          1.000000              1.000000   \n",
       "\n",
       "       flash_temperature  surface_density  elasticity_module_stretching  \\\n",
       "count         935.000000       935.000000                    935.000000   \n",
       "mean            0.497636         0.371760                      0.486771   \n",
       "std             0.198703         0.216543                      0.200257   \n",
       "min             0.000000         0.000000                      0.000000   \n",
       "25%             0.360774         0.204327                      0.352799   \n",
       "50%             0.498293         0.350415                      0.481875   \n",
       "75%             0.634028         0.536507                      0.621867   \n",
       "max             1.000000         1.000000                      1.000000   \n",
       "\n",
       "       strapery_strength  resin_consumption  \n",
       "count         935.000000         935.000000  \n",
       "mean            0.499707           0.490634  \n",
       "std             0.195697           0.203170  \n",
       "min             0.000000           0.000000  \n",
       "25%             0.363982           0.352349  \n",
       "50%             0.496497           0.484308  \n",
       "75%             0.629312           0.628170  \n",
       "max             1.000000           1.000000  "
      ]
     },
     "execution_count": 21,
     "metadata": {},
     "output_type": "execute_result"
    }
   ],
   "source": [
    "data_scaler_X_norm.describe() # данные нормализованы"
   ]
  },
  {
   "cell_type": "markdown",
   "id": "eb150973-38b0-4d83-9404-6605a776372c",
   "metadata": {},
   "source": [
    "'''\n",
    "Нормализация старая для всего df\n",
    "\n",
    "scaler_df = MinMaxScaler()data_scaler_y_norm \n",
    "list_data = list(data_main_clean_flask)\n",
    "data_norm = scaler_df.fit_transform(data_main_clean_flask)\n",
    "data_norm = pd.DataFrame(data = data_norm, columns = list_data)\n",
    "\n",
    "Проводим разделение  нашего df- data_norm: на train и test\n",
    "X_train_RFM, X_test_RFM, y_train_RFM, y_test_RFM = train_test_split(X_RFM, y_RFM, test_size=0.3, random_state = 40)\n",
    "print(\"Размер X_train_RFM: \", X_train_RFM.shape)\n",
    "print(\"Размер y_train_RFM: \", y_train_RFM.shape)\n",
    "print(\"Размер X_test_RFM:  \", X_test_RFM.shape)\n",
    "print(\"Размер y_test_RFM:  \", y_test_RFM.shape)\n",
    "'''"
   ]
  },
  {
   "cell_type": "code",
   "execution_count": 22,
   "id": "6a308c36-1e6f-49d1-a7d7-5b399f47385a",
   "metadata": {
    "tags": []
   },
   "outputs": [
    {
     "name": "stdout",
     "output_type": "stream",
     "text": [
      "Memory usage size: before 0.0073 Mb - after 0.0037 Mb (49.2%).\n",
      "--------------------------------------------------------------------------------\n",
      "<class 'pandas.core.frame.DataFrame'>\n",
      "RangeIndex: 935 entries, 0 to 934\n",
      "Data columns (total 1 columns):\n",
      " #   Column               Non-Null Count  Dtype  \n",
      "---  ------               --------------  -----  \n",
      " 0   ratio_filler_matrix  935 non-null    float32\n",
      "dtypes: float32(1)\n",
      "memory usage: 3.8 KB\n",
      "None\n",
      "--------------------------------------------------------------------------------\n"
     ]
    }
   ],
   "source": [
    "# Понизим размерность df data_scaler_y_norm и data_scaler_X_norm c  float64 до float32 для ускорения расчетов\n",
    "# вызываем функцию optimize_memory_usage из модуля modules_def\n",
    "data_scaler_y_norm = optimize_memory_usage(data_scaler_y_norm, print_info_befor=False, print_info_after=True)"
   ]
  },
  {
   "cell_type": "code",
   "execution_count": 23,
   "id": "3a8d67ef-7105-45b5-98dc-bcf83b628f57",
   "metadata": {},
   "outputs": [
    {
     "name": "stdout",
     "output_type": "stream",
     "text": [
      "Memory usage size: before 0.0857 Mb - after 0.0429 Mb (49.9%).\n",
      "--------------------------------------------------------------------------------\n",
      "<class 'pandas.core.frame.DataFrame'>\n",
      "RangeIndex: 935 entries, 0 to 934\n",
      "Data columns (total 12 columns):\n",
      " #   Column                        Non-Null Count  Dtype  \n",
      "---  ------                        --------------  -----  \n",
      " 0   pattern_angle                 935 non-null    float32\n",
      " 1   step_strip                    935 non-null    float32\n",
      " 2   density_strip                 935 non-null    float32\n",
      " 3   density                       935 non-null    float32\n",
      " 4   elasticity_module             935 non-null    float32\n",
      " 5   number_hardeners              935 non-null    float32\n",
      " 6   content_epoxy_groups          935 non-null    float32\n",
      " 7   flash_temperature             935 non-null    float32\n",
      " 8   surface_density               935 non-null    float32\n",
      " 9   elasticity_module_stretching  935 non-null    float32\n",
      " 10  strapery_strength             935 non-null    float32\n",
      " 11  resin_consumption             935 non-null    float32\n",
      "dtypes: float32(12)\n",
      "memory usage: 44.0 KB\n",
      "None\n",
      "--------------------------------------------------------------------------------\n"
     ]
    }
   ],
   "source": [
    "data_scaler_X_norm = optimize_memory_usage(data_scaler_X_norm, print_info_befor=False, print_info_after=True)"
   ]
  },
  {
   "cell_type": "code",
   "execution_count": null,
   "id": "f6b690bc-741c-43d6-8251-a0ae57204c9a",
   "metadata": {},
   "outputs": [],
   "source": [
    "# Проводим разделение  нашего df- data_scaler_y_norm и data_scaler_X_norm: на train и test"
   ]
  },
  {
   "cell_type": "code",
   "execution_count": 25,
   "id": "9ae65d07-5f6d-42c0-914b-5f969bcae7da",
   "metadata": {},
   "outputs": [
    {
     "name": "stdout",
     "output_type": "stream",
     "text": [
      "Размер y_train_RFM:  (654, 1)\n",
      "Размер y_test_RFM:   (281, 1)\n"
     ]
    }
   ],
   "source": [
    "# Для data_scaler_y_norm\n",
    "y_train_RFM, y_test_RFM = train_test_split(data_scaler_y_norm, test_size=0.3, random_state = 40)\n",
    "print(\"Размер y_train_RFM: \", y_train_RFM.shape)\n",
    "print(\"Размер y_test_RFM:  \", y_test_RFM.shape)"
   ]
  },
  {
   "cell_type": "code",
   "execution_count": 27,
   "id": "3c816b50-6a39-4734-ad55-b8ad959b9910",
   "metadata": {},
   "outputs": [
    {
     "name": "stdout",
     "output_type": "stream",
     "text": [
      "Размер X_train_RFM:  (654, 12)\n",
      "Размер X_test_RFM:   (281, 12)\n"
     ]
    }
   ],
   "source": [
    "# Для data_scaler_X_norm\n",
    "X_train_RFM, X_test_RFM = train_test_split(data_scaler_X_norm, test_size=0.3, random_state = 40)\n",
    "print(\"Размер X_train_RFM: \", X_train_RFM.shape)\n",
    "print(\"Размер X_test_RFM:  \", X_test_RFM.shape)"
   ]
  },
  {
   "cell_type": "code",
   "execution_count": 28,
   "id": "82d339b8-7469-4112-96ab-4558c4422bcd",
   "metadata": {},
   "outputs": [],
   "source": [
    "# создаем последовательную модель нейронной сети\n",
    "# и создадим объект  класса\n",
    "model_RFM = Sequential()"
   ]
  },
  {
   "cell_type": "code",
   "execution_count": 29,
   "id": "e31f0fbe-1c2e-4822-b95d-5a38e70a5bfb",
   "metadata": {},
   "outputs": [],
   "source": [
    "# Создаем нейросеть из 4 слоев:\n",
    "# 1-й - Входной слой размерность n = 12 - по количеству пареметров в нашем df\n",
    "# 2-й - Скрытый слой размеростью k1 = 6 - получен из расчета по правилу геометрической пирамиды (geometric pyramid rule)\n",
    "# 3-й - Скрытый слой размеростью k2 = 3 - получен из расчета по правилу геометрической пирамиды (geometric pyramid rule)\n",
    "# 4-й - Выходной слой размерностью m = 1 - по количеству целевых параметров\n",
    "\n",
    "model_RFM.add(Dense(12)) # входной полносвязный слой\n",
    "model_RFM.add(Dense(6, kernel_initializer='lecun_normal', activation='selu')) \n",
    "model_RFM.add(AlphaDropout(0.25))\n",
    "model_RFM.add(Dense(3, kernel_initializer='lecun_normal', activation='selu'))\n",
    "model_RFM.add(AlphaDropout(0.25))\n",
    "model_RFM.add(Dense(1, activation= 'linear'))  # выходной слой"
   ]
  },
  {
   "cell_type": "code",
   "execution_count": 30,
   "id": "25d3ce72-ec92-490a-b7ff-8e3d1884fc4e",
   "metadata": {},
   "outputs": [],
   "source": [
    "# stop_RFM  - индикатор для остановки обучения нейросети, когда она перестает улучшаться в течении 10 эпох - patience=10. \n",
    "stop_RFM = EarlyStopping(monitor='val_loss', min_delta=0, patience=15, verbose=1, mode='auto') # было 10"
   ]
  },
  {
   "cell_type": "code",
   "execution_count": 31,
   "id": "14bf00cc-edd5-4990-bdcc-d0628aa12b3b",
   "metadata": {},
   "outputs": [],
   "source": [
    "# Компиляция модели. Вызывать будем оптимизатор по имени Adam.\n",
    "# learning_rate=0.02 -  Шаг обучения 0.02 \n",
    "# lossи -функция ошибки - \"средняя абсолютная ошибка\"\n",
    "model_RFM.compile(optimizer = tf.optimizers.Adam(learning_rate=0.02), loss = 'mean_absolute_error')"
   ]
  },
  {
   "cell_type": "code",
   "execution_count": null,
   "id": "123317d0-1e83-4735-9e59-86567fb3b353",
   "metadata": {},
   "outputs": [],
   "source": [
    "# Запускаем модель на обучение"
   ]
  },
  {
   "cell_type": "code",
   "execution_count": 32,
   "id": "0e3bdfaf-8e8c-4bac-9b3a-1dfbd6579991",
   "metadata": {
    "scrolled": true,
    "tags": []
   },
   "outputs": [
    {
     "name": "stdout",
     "output_type": "stream",
     "text": [
      "Epoch 1/100\n",
      "17/17 [==============================] - 1s 17ms/step - loss: 0.5403 - val_loss: 0.1807\n",
      "Epoch 2/100\n",
      "17/17 [==============================] - 0s 5ms/step - loss: 0.3409 - val_loss: 0.2090\n",
      "Epoch 3/100\n",
      "17/17 [==============================] - 0s 3ms/step - loss: 0.1941 - val_loss: 0.1508\n",
      "Epoch 4/100\n",
      "17/17 [==============================] - 0s 3ms/step - loss: 0.1555 - val_loss: 0.1797\n",
      "Epoch 5/100\n",
      "17/17 [==============================] - 0s 3ms/step - loss: 0.1550 - val_loss: 0.1554\n",
      "Epoch 6/100\n",
      "17/17 [==============================] - 0s 3ms/step - loss: 0.1531 - val_loss: 0.1415\n",
      "Epoch 7/100\n",
      "17/17 [==============================] - 0s 3ms/step - loss: 0.1535 - val_loss: 0.1440\n",
      "Epoch 8/100\n",
      "17/17 [==============================] - 0s 3ms/step - loss: 0.1508 - val_loss: 0.1519\n",
      "Epoch 9/100\n",
      "17/17 [==============================] - 0s 3ms/step - loss: 0.1509 - val_loss: 0.1429\n",
      "Epoch 10/100\n",
      "17/17 [==============================] - 0s 3ms/step - loss: 0.1533 - val_loss: 0.1731\n",
      "Epoch 11/100\n",
      "17/17 [==============================] - 0s 3ms/step - loss: 0.1535 - val_loss: 0.1837\n",
      "Epoch 12/100\n",
      "17/17 [==============================] - 0s 3ms/step - loss: 0.1547 - val_loss: 0.1398\n",
      "Epoch 13/100\n",
      "17/17 [==============================] - 0s 3ms/step - loss: 0.1524 - val_loss: 0.1395\n",
      "Epoch 14/100\n",
      "17/17 [==============================] - 0s 3ms/step - loss: 0.1513 - val_loss: 0.1396\n",
      "Epoch 15/100\n",
      "17/17 [==============================] - 0s 3ms/step - loss: 0.1543 - val_loss: 0.1586\n",
      "Epoch 16/100\n",
      "17/17 [==============================] - 0s 3ms/step - loss: 0.1523 - val_loss: 0.1436\n",
      "Epoch 17/100\n",
      "17/17 [==============================] - 0s 3ms/step - loss: 0.1524 - val_loss: 0.1411\n",
      "Epoch 18/100\n",
      "17/17 [==============================] - 0s 3ms/step - loss: 0.1527 - val_loss: 0.1566\n",
      "Epoch 19/100\n",
      "17/17 [==============================] - 0s 3ms/step - loss: 0.1532 - val_loss: 0.1441\n",
      "Epoch 20/100\n",
      "17/17 [==============================] - 0s 3ms/step - loss: 0.1540 - val_loss: 0.1394\n",
      "Epoch 21/100\n",
      "17/17 [==============================] - 0s 3ms/step - loss: 0.1547 - val_loss: 0.1570\n",
      "Epoch 22/100\n",
      "17/17 [==============================] - 0s 4ms/step - loss: 0.1518 - val_loss: 0.1397\n",
      "Epoch 23/100\n",
      "17/17 [==============================] - 0s 3ms/step - loss: 0.1529 - val_loss: 0.1449\n",
      "Epoch 24/100\n",
      "17/17 [==============================] - 0s 4ms/step - loss: 0.1545 - val_loss: 0.1467\n",
      "Epoch 25/100\n",
      "17/17 [==============================] - 0s 3ms/step - loss: 0.1526 - val_loss: 0.1404\n",
      "Epoch 26/100\n",
      "17/17 [==============================] - 0s 3ms/step - loss: 0.1533 - val_loss: 0.1396\n",
      "Epoch 27/100\n",
      "17/17 [==============================] - 0s 3ms/step - loss: 0.1516 - val_loss: 0.1395\n",
      "Epoch 28/100\n",
      "17/17 [==============================] - 0s 3ms/step - loss: 0.1506 - val_loss: 0.1467\n",
      "Epoch 29/100\n",
      "17/17 [==============================] - 0s 3ms/step - loss: 0.1532 - val_loss: 0.1436\n",
      "Epoch 30/100\n",
      "17/17 [==============================] - 0s 3ms/step - loss: 0.1514 - val_loss: 0.1736\n",
      "Epoch 31/100\n",
      "17/17 [==============================] - 0s 3ms/step - loss: 0.1569 - val_loss: 0.1443\n",
      "Epoch 32/100\n",
      "17/17 [==============================] - 0s 3ms/step - loss: 0.1516 - val_loss: 0.1401\n",
      "Epoch 33/100\n",
      "17/17 [==============================] - 0s 3ms/step - loss: 0.1514 - val_loss: 0.1588\n",
      "Epoch 34/100\n",
      "17/17 [==============================] - 0s 3ms/step - loss: 0.1535 - val_loss: 0.1412\n",
      "Epoch 35/100\n",
      "17/17 [==============================] - 0s 3ms/step - loss: 0.1502 - val_loss: 0.1411\n",
      "Epoch 35: early stopping\n",
      "Wall time: 2.81 s\n"
     ]
    }
   ],
   "source": [
    "%%time\n",
    "history_RFM = model_RFM.fit(          \n",
    "    X_train_RFM,             # входящая выборка\n",
    "    y_train_RFM,             # целевая выборка\n",
    "    batch_size = 32,         # вычисляем градиенты каждые 32 наблюдений\n",
    "    epochs=100,              # max 100 эпох, stop_RFM у нас создан\n",
    "    verbose=1,               # индикатор выполнения\n",
    "    validation_split = 0.2,  # доля обучающих данных, для проверки \n",
    "    callbacks = [stop_RFM]   # условие остановки при прекращении обучения в течении 10 эпох\n",
    "    )"
   ]
  },
  {
   "cell_type": "code",
   "execution_count": null,
   "id": "04ff4972-98cb-48ed-8398-c8873d64dcdb",
   "metadata": {},
   "outputs": [],
   "source": [
    "# Модел остановила работу на 35 эпохе - сработол стоппер!"
   ]
  },
  {
   "cell_type": "code",
   "execution_count": 33,
   "id": "c4098547-e55b-41a5-8cfd-ab7c9d095b49",
   "metadata": {},
   "outputs": [
    {
     "name": "stdout",
     "output_type": "stream",
     "text": [
      "9/9 [==============================] - 0s 1ms/step - loss: 0.1634\n",
      "Оценка модели =  0.1633787751197815\n"
     ]
    }
   ],
   "source": [
    "# Оценка модели по лучшему расчетному показателю MAE\n",
    "evaluation_model = model_RFM.evaluate(x= X_test_RFM, \n",
    "                                     y=y_test_RFM)\n",
    "print(\"Оценка модели = \", evaluation_model)"
   ]
  },
  {
   "cell_type": "code",
   "execution_count": null,
   "id": "bdf97d36-8e28-4b67-99a6-820da3a041ad",
   "metadata": {},
   "outputs": [],
   "source": [
    "# Лучший показатель MAE был достигнут во время 9 эпохи  и составил MAE(9) = 0.1633"
   ]
  },
  {
   "cell_type": "code",
   "execution_count": 34,
   "id": "177198ac-cfac-4a49-b300-668b56aae4ac",
   "metadata": {},
   "outputs": [
    {
     "name": "stdout",
     "output_type": "stream",
     "text": [
      "Model: \"sequential\"\n",
      "_________________________________________________________________\n",
      " Layer (type)                Output Shape              Param #   \n",
      "=================================================================\n",
      " dense (Dense)               (None, 12)                156       \n",
      "                                                                 \n",
      " dense_1 (Dense)             (None, 6)                 78        \n",
      "                                                                 \n",
      " alpha_dropout (AlphaDropout  (None, 6)                0         \n",
      " )                                                               \n",
      "                                                                 \n",
      " dense_2 (Dense)             (None, 3)                 21        \n",
      "                                                                 \n",
      " alpha_dropout_1 (AlphaDropo  (None, 3)                0         \n",
      " ut)                                                             \n",
      "                                                                 \n",
      " dense_3 (Dense)             (None, 1)                 4         \n",
      "                                                                 \n",
      "=================================================================\n",
      "Total params: 259\n",
      "Trainable params: 259\n",
      "Non-trainable params: 0\n",
      "_________________________________________________________________\n"
     ]
    }
   ],
   "source": [
    "model_RFM.summary()"
   ]
  },
  {
   "cell_type": "code",
   "execution_count": null,
   "id": "ab7f07a4-9af2-4ff8-8f7a-cac679e090b5",
   "metadata": {},
   "outputs": [],
   "source": [
    "# Всего обучены были 259 параметров"
   ]
  },
  {
   "cell_type": "code",
   "execution_count": 81,
   "id": "8a14da6e-2684-414e-a326-2f6a5e121e8d",
   "metadata": {},
   "outputs": [],
   "source": [
    "# Функции для обработки результатов работы нейронной сети\n",
    "\n",
    "# Функция model_loss_plot построения графика потерь модели на тренировочной и тестовой выборках\n",
    "# Параметры, передаваемые в функцию:\n",
    "# model_history- наша модель\n",
    "# graf_name_path - путь записи в директорию fig_block1_clean имени рисунка \n",
    "def model_loss_plot(model_history, graf_name_path):\n",
    "    plt.figure(figsize=(10, 5))\n",
    "    plt.plot(model_history.history['loss'], label = 'Точность обучающей выборки')\n",
    "    plt.plot(model_history.history['val_loss'], label = 'Точность тестовой выборки')\n",
    "    plt.title('График потерь модели', size=12)\n",
    "    plt.ylabel('Средняя абсолютная ошибка', size=12)\n",
    "    plt.xlabel('Эпоха', size=12)\n",
    "    plt.legend(loc='best')\n",
    "    plt.savefig(graf_name_path, dpi=100) # Сохраняем рисунок таблицы в папку save_fig\n",
    "    plt.show()\n",
    "\n",
    "# Функция actual_predict_plot для визуализации тестовых и прогнозных значений\n",
    "# Передаваемые в функцию параметры:\n",
    "# actual - значение y_Test_RFM_norm\n",
    "#'target_parameter' - целевая переменная\n",
    "# model_name - имя рассматриваемой модел\n",
    "\n",
    "def actual_predict_plot(actual, pred, target_param, model_name, graf_name_path): \n",
    "    plt.figure(figsize=(17,5))\n",
    "    plt.title(f'Динамика тестовых и прогнозных значения:', size =12)\n",
    "    plt.plot(actual, label='Тест')\n",
    "    plt.plot(pred, label='Прогноз')\n",
    "    plt.legend(loc='best')\n",
    "    plt.ylabel(target_param, size = 12)\n",
    "    plt.xlabel('Количество наблюдений', size = 12)\n",
    "    plt.savefig(graf_name_path, dpi=100) # Сохраняем рисунок таблицы в папку save_fig\n",
    "    plt.show()"
   ]
  },
  {
   "cell_type": "code",
   "execution_count": 80,
   "id": "76630e01-316f-4dd5-a30e-94450ac57ad7",
   "metadata": {
    "tags": []
   },
   "outputs": [
    {
     "data": {
      "image/png": "[encoded data removed]",
      "text/plain": [
       "<Figure size 1000x500 with 1 Axes>"
      ]
     },
     "metadata": {},
     "output_type": "display_data"
    }
   ],
   "source": [
    "# Построение графика ошибки MAE - mean_absolute_error функцией model_loss_plot\n",
    "model_loss_plot(history_RFM, graf_name_path = r'save_fig\\fig_block4_neuro\\model_loss_MAE_flask.png')"
   ]
  },
  {
   "cell_type": "code",
   "execution_count": null,
   "id": "10c70aff-49f0-4a80-b392-c2e432b97276",
   "metadata": {},
   "outputs": [],
   "source": [
    "# Динамическая оценка модели    \n",
    "y_pred_RFM = model_RFM.predict(np.array((X_test_RFM)))\n",
    "actual = y_test_RFM.values\n",
    "predicted = y_pred_RFM"
   ]
  },
  {
   "cell_type": "code",
   "execution_count": 37,
   "id": "bdd4cc3e-b392-49e9-a6db-4bf7bef511cb",
   "metadata": {
    "tags": []
   },
   "outputs": [
    {
     "data": {
      "text/plain": [
       "(281, 1)"
      ]
     },
     "execution_count": 37,
     "metadata": {},
     "output_type": "execute_result"
    }
   ],
   "source": [
    "y_pred_RFM.shape"
   ]
  },
  {
   "cell_type": "code",
   "execution_count": 48,
   "id": "6d5887d2-e2fe-4f49-8fca-8cf06ea22e16",
   "metadata": {},
   "outputs": [
    {
     "data": {
      "text/plain": [
       "0.4555432"
      ]
     },
     "execution_count": 48,
     "metadata": {},
     "output_type": "execute_result"
    }
   ],
   "source": [
    "# Выводим первое значений нашего предсказанного моделью model_RFM значения целевой переменной\n",
    "# для сравнения с  результатами из записаной и загруженой вновь модели\n",
    "y_pred_RFM[0][0]"
   ]
  },
  {
   "cell_type": "code",
   "execution_count": null,
   "id": "5968417e-7db2-499d-a0df-1a2e89ecb76d",
   "metadata": {},
   "outputs": [],
   "source": [
    "# Диапазон нашей целевой перемнной 'ratio_filler_matrix' действительно лежит в пределах 0.6 - 5.3!!!!"
   ]
  },
  {
   "cell_type": "code",
   "execution_count": 82,
   "id": "312d6a36-c7c8-40e7-b6cd-dcb5c11b5100",
   "metadata": {},
   "outputs": [
    {
     "data": {
      "image/png": "[encoded data removed]",
      "text/plain": [
       "<Figure size 1700x500 with 1 Axes>"
      ]
     },
     "metadata": {},
     "output_type": "display_data"
    }
   ],
   "source": [
    "# Построение графика Оценки модели Тест/Прогноз\n",
    "actual_predict_plot(actual, predicted, 'ratio_filler_matrix', model_RFM, \n",
    "                    graf_name_path = r'save_fig\\fig_block4_neuro\\test_predict_model_flask.png')"
   ]
  },
  {
   "cell_type": "code",
   "execution_count": 68,
   "id": "7166d561-20a3-48eb-a52d-e3ca137327c2",
   "metadata": {},
   "outputs": [
    {
     "name": "stdout",
     "output_type": "stream",
     "text": [
      "INFO:tensorflow:Assets written to: data_storage\\data_block5_flask\\model_RFM_flask\\assets\n"
     ]
    }
   ],
   "source": [
    "# Сохранение модели в папку\n",
    "model_RFM.save(r'data_storage\\data_block5_flask\\model_RFM_flask') "
   ]
  },
  {
   "cell_type": "code",
   "execution_count": 83,
   "id": "f842c832-ae49-49f6-98b3-9d04dfb62f3a",
   "metadata": {},
   "outputs": [],
   "source": [
    "#  Сохранение 'MinMaxScaler'\n",
    "with open(r'data_storage\\data_block5_flask\\model_RFM_flask\\scaler_y.pkl', 'wb') as f:\n",
    "    pickle.dump(scaler_y,f)"
   ]
  },
  {
   "cell_type": "code",
   "execution_count": 84,
   "id": "ad195219-9a54-4b79-9691-df6f31764c72",
   "metadata": {},
   "outputs": [],
   "source": [
    "with open(r'data_storage\\data_block5_flask\\model_RFM_flask\\scaler_X.pkl', 'wb') as f:\n",
    "    pickle.dump(scaler_X,f)"
   ]
  },
  {
   "cell_type": "code",
   "execution_count": 70,
   "id": "40f1aa2f-94dd-471a-af7e-de8634c45ea5",
   "metadata": {},
   "outputs": [
    {
     "name": "stdout",
     "output_type": "stream",
     "text": [
      "9/9 [==============================] - 0s 2ms/step\n"
     ]
    },
    {
     "data": {
      "text/plain": [
       "0.4555432"
      ]
     },
     "execution_count": 70,
     "metadata": {},
     "output_type": "execute_result"
    }
   ],
   "source": [
    "# Загрузка сохраненой модели из папки\n",
    "loaded_model_RFM = keras.models.load_model(r'data_storage\\data_block4_neuro\\model_RFM_flask')\n",
    "loaded_model_RFM.predict(X_test_RFM)[0][0] # проверка загруженой модели- совпадает с рабочей!"
   ]
  },
  {
   "cell_type": "code",
   "execution_count": 72,
   "id": "e0cf6ffe-c9df-4b34-9d7e-72c89f08a850",
   "metadata": {},
   "outputs": [],
   "source": [
    "# загрузка 'MinMaxScaler'\n",
    "with open(r'data_storage\\data_block5_flask\\model_RFM_flask\\scaler_y.pkl', 'rb') as f:\n",
    "    scaler_y = pickle.load(f)\n",
    "with open(r'data_storage\\data_block5_flask\\model_RFM_flask\\scaler_X.pkl', 'rb') as f:\n",
    "    scaler_X = pickle.load(f)"
   ]
  },
  {
   "cell_type": "code",
   "execution_count": 66,
   "id": "c64fe869-1964-4881-a5c7-0d88050d0389",
   "metadata": {},
   "outputs": [
    {
     "data": {
      "text/plain": [
       "2.7188525"
      ]
     },
     "execution_count": 66,
     "metadata": {},
     "output_type": "execute_result"
    }
   ],
   "source": [
    "# Переводим полученное значение y_pred_RFM в естественную шкалу значений по процедуре inverse_transform\n",
    "y_pred_origin_data = scaler_y.inverse_transform(np.array(y_pred_RFM))\n",
    "y_pred_origin_data[0][0]"
   ]
  },
  {
   "cell_type": "code",
   "execution_count": null,
   "id": "9dd62402-299c-4981-8617-c3b7399ff065",
   "metadata": {},
   "outputs": [],
   "source": [
    "# Результаты совпали с данными полученными перед сохранением модели  в папку"
   ]
  },
  {
   "cell_type": "markdown",
   "id": "216e84c1-9a4d-4d21-8260-10e41f18faca",
   "metadata": {},
   "source": [
    "Выводы:\n",
    "1. Для работы с нейросетью был применен полный очищенный от выбросов df df data_main_clean.csv, который получен в Блоке №1.\n",
    "\n",
    "2. Проведен обоснованный расчет количества слоев нейронной сети, количества нейронов в каждом слое и выбор активационных функции для каждого слоя.\n",
    "\n",
    "3. Для последующей работы при создании приложения на flask  целевой параметр'ratio_filler_matrix' был перемещен на первй столбец в data_main_clean_flask. Также создан df_min_max_flask для приложения flask с границами допусимых значений для ввода значений пользователя при расчете целевого парметра.\n",
    "\n",
    "4. Написана нейронная сеть, которая будет рекомендовать соотношение целевого параметра'ratio_filler_matrix' “Матрица-наполнитель”.\n",
    "\n",
    "5. Оценены точности моделей на тренировочном и тестовом датасете.\n",
    "\n",
    "6. Методом обратной инверсии проверено ,что предсказанные моделью данные y_pred , полученные в нормализованном виде при инверсии на сохраненной и вновь загруженой моделе, показывают отличное корреляцию с естественной размерностью данного параметра.\n",
    "\n",
    "6. Предобученная модел нейронной сети была сохранена в директории data_storage/data_block4_neuro/model_RFM_flask.\n",
    "\n",
    "7. Полученные в процессе работы Блока 4 графики записаны в соответствующую директорию save_fig/fig_block4_neuro."
   ]
  },
  {
   "cell_type": "code",
   "execution_count": null,
   "id": "9967d7a5-a098-4574-84bb-e5404c6f18da",
   "metadata": {},
   "outputs": [],
   "source": [
    "# конец Блока № 4 Создана нейронная сеть по прогнозированию\n",
    "# целевого парметра 'ratio_filler_matrix' RFM - Соотношение матрица-наполнитель"
   ]
  }
 ],
 "metadata": {
  "kernelspec": {
   "display_name": "Python 3 (ipykernel)",
   "language": "python",
   "name": "python3"
  },
  "language_info": {
   "codemirror_mode": {
    "name": "ipython",
    "version": 3
   },
   "file_extension": ".py",
   "mimetype": "text/x-python",
   "name": "python",
   "nbconvert_exporter": "python",
   "pygments_lexer": "ipython3",
   "version": "3.10.9"
  }
 },
 "nbformat": 4,
 "nbformat_minor": 5
}
