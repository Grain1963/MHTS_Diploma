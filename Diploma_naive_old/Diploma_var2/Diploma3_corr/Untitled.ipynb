{
 "cells": [
  {
   "cell_type": "code",
   "execution_count": null,
   "id": "3feaf64d-9851-4f66-ad38-7393df5ca7bf",
   "metadata": {},
   "outputs": [],
   "source": [
    "если хотите замерить время выполнения всей ячейки, то %time  ставится вначале ячейки  юпитера"
   ]
  },
  {
   "cell_type": "code",
   "execution_count": null,
   "id": "d7cebb67-99b9-45b5-bdc6-95f9d35560ff",
   "metadata": {},
   "outputs": [],
   "source": [
    "def train_validate_test_split(df, train_percent=.6, validate_percent=.2, seed=None):\n",
    "    np.random.seed(seed)\n",
    "    perm = np.random.permutation(df.index)\n",
    "    m = len(df.index)\n",
    "    train_end = int(train_percent * m)\n",
    "    validate_end = int(validate_percent * m) + train_end\n",
    "    train = df.iloc[perm[:train_end]]\n",
    "    validate = df.iloc[perm[train_end:validate_end]]\n",
    "    test = df.iloc[perm[validate_end:]]\n",
    "    return train, validate, test\n",
    "\n",
    "train, validate, test = train_validate_test_split(df)"
   ]
  },
  {
   "cell_type": "code",
   "execution_count": null,
   "id": "ad313ebe-5534-49b4-b4b6-4daf1f8ea692",
   "metadata": {},
   "outputs": [],
   "source": [
    "для картинок разбдиение"
   ]
  },
  {
   "cell_type": "code",
   "execution_count": null,
   "id": "4387e6a8-2f59-43da-b9bf-6ae931e80ee2",
   "metadata": {},
   "outputs": [],
   "source": [
    "!pip3 install split-folders"
   ]
  },
  {
   "cell_type": "code",
   "execution_count": null,
   "id": "7b22f4ad-3ae0-4a84-b385-b3e3d6b961ff",
   "metadata": {},
   "outputs": [],
   "source": [
    "import splitfolders"
   ]
  },
  {
   "cell_type": "code",
   "execution_count": null,
   "id": "a17d4ef0-3cdb-4491-8efa-631a76e8bee8",
   "metadata": {},
   "outputs": [],
   "source": [
    "# определяем путь к папке с исходными файлами\n",
    "input_folder = data_main"
   ]
  },
  {
   "cell_type": "code",
   "execution_count": null,
   "id": "7fe79c44-1d7a-4187-8e66-c2d1fd02a970",
   "metadata": {},
   "outputs": [],
   "source": []
  },
  {
   "cell_type": "code",
   "execution_count": null,
   "id": "9f4b07aa-0ba4-483d-bebe-9c252b4dd8e8",
   "metadata": {},
   "outputs": [],
   "source": [
    "# https://webtort.ru/%D0%BA%D0%B0%D0%BA-%D1%80%D0%B0%D0%B7%D0%B4%D0%B5%D0%BB%D0%B8%D1%82%D1%8C-%D0%B4%D0%B0%D1%82%D0%B0%D1%81%D0%B5%D1%82-%D0%BD%D0%B0-%D1%82%D1%80%D0%B5%D0%BD%D0%B8%D1%80%D0%BE%D0%B2%D0%BE%D1%87%D0%BD/\n",
    "# разбиваем датасет на папки с процентным соотношением числа файлов\n",
    "splitfolders.ratio(input_folder, 'data_main_splited', ratio = (0.65, 0.2, 0.15), seed=10, group_prefix=None)"
   ]
  },
  {
   "cell_type": "code",
   "execution_count": null,
   "id": "fc1d419f-cee3-4b77-aba2-9ed67fc6357f",
   "metadata": {},
   "outputs": [],
   "source": []
  }
 ],
 "metadata": {
  "kernelspec": {
   "display_name": "Python 3 (ipykernel)",
   "language": "python",
   "name": "python3"
  },
  "language_info": {
   "codemirror_mode": {
    "name": "ipython",
    "version": 3
   },
   "file_extension": ".py",
   "mimetype": "text/x-python",
   "name": "python",
   "nbconvert_exporter": "python",
   "pygments_lexer": "ipython3",
   "version": "3.10.9"
  }
 },
 "nbformat": 4,
 "nbformat_minor": 5
}
