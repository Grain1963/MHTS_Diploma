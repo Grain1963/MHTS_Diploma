{
 "cells": [
  {
   "cell_type": "code",
   "execution_count": 1,
   "id": "b778a1bb-ca56-47a4-b76d-fc79fe9ab1f5",
   "metadata": {},
   "outputs": [],
   "source": [
    "import pandas as pd\n",
    "import numpy as np\n",
    "import seaborn as sns\n",
    "\n",
    "import matplotlib\n",
    "import matplotlib.pyplot as plt\n",
    "from matplotlib import cm\n",
    "from mpl_toolkits.mplot3d import Axes3D\n",
    "\n",
    "import plotly\n",
    "import plotly.graph_objs as go\n",
    "import plotly.express as px\n",
    "from plotly.subplots import make_subplots\n",
    "\n",
    "%matplotlib inline\n",
    "sns.set_style('darkgrid')\n",
    "\n",
    "import ydata_profiling # pandas_profiling!!!! отменяется c 1-го апреля 2023 г\n",
    "\n",
    "import warnings\n",
    "warnings.filterwarnings(\"ignore\")\n",
    "\n",
    "np.random.seed(45) # чтобы выборки данных всегда были одни и теже берем любую цифру . мне нравится 45!"
   ]
  },
  {
   "cell_type": "code",
   "execution_count": 2,
   "id": "adc186d2-2977-4886-9be4-4702eb9ce986",
   "metadata": {},
   "outputs": [
    {
     "data": {
      "text/html": [
       "<div>\n",
       "<style scoped>\n",
       "    .dataframe tbody tr th:only-of-type {\n",
       "        vertical-align: middle;\n",
       "    }\n",
       "\n",
       "    .dataframe tbody tr th {\n",
       "        vertical-align: top;\n",
       "    }\n",
       "\n",
       "    .dataframe thead th {\n",
       "        text-align: right;\n",
       "    }\n",
       "</style>\n",
       "<table border=\"1\" class=\"dataframe\">\n",
       "  <thead>\n",
       "    <tr style=\"text-align: right;\">\n",
       "      <th></th>\n",
       "      <th>pattern_angle</th>\n",
       "      <th>step_strip</th>\n",
       "      <th>density_strip</th>\n",
       "      <th>ratio_filler_matrix</th>\n",
       "      <th>density</th>\n",
       "      <th>elasticity_module</th>\n",
       "      <th>number_hardeners</th>\n",
       "      <th>content_epoxy_groups</th>\n",
       "      <th>flash_temperature</th>\n",
       "      <th>surface_density</th>\n",
       "      <th>elasticity_module_stretching</th>\n",
       "      <th>strapery_strength</th>\n",
       "      <th>resin_consumption</th>\n",
       "    </tr>\n",
       "  </thead>\n",
       "  <tbody>\n",
       "    <tr>\n",
       "      <th>0</th>\n",
       "      <td>0.0</td>\n",
       "      <td>4.0</td>\n",
       "      <td>60.0</td>\n",
       "      <td>1.857</td>\n",
       "      <td>2030.0</td>\n",
       "      <td>738.737</td>\n",
       "      <td>50.00</td>\n",
       "      <td>23.750</td>\n",
       "      <td>284.615</td>\n",
       "      <td>210.0</td>\n",
       "      <td>70.0</td>\n",
       "      <td>3000.0</td>\n",
       "      <td>220.0</td>\n",
       "    </tr>\n",
       "    <tr>\n",
       "      <th>1</th>\n",
       "      <td>0.0</td>\n",
       "      <td>5.0</td>\n",
       "      <td>47.0</td>\n",
       "      <td>1.857</td>\n",
       "      <td>2030.0</td>\n",
       "      <td>738.737</td>\n",
       "      <td>129.00</td>\n",
       "      <td>21.250</td>\n",
       "      <td>300.000</td>\n",
       "      <td>210.0</td>\n",
       "      <td>70.0</td>\n",
       "      <td>3000.0</td>\n",
       "      <td>220.0</td>\n",
       "    </tr>\n",
       "    <tr>\n",
       "      <th>2</th>\n",
       "      <td>0.0</td>\n",
       "      <td>5.0</td>\n",
       "      <td>57.0</td>\n",
       "      <td>2.771</td>\n",
       "      <td>2030.0</td>\n",
       "      <td>753.000</td>\n",
       "      <td>111.86</td>\n",
       "      <td>22.268</td>\n",
       "      <td>284.615</td>\n",
       "      <td>210.0</td>\n",
       "      <td>70.0</td>\n",
       "      <td>3000.0</td>\n",
       "      <td>220.0</td>\n",
       "    </tr>\n",
       "    <tr>\n",
       "      <th>3</th>\n",
       "      <td>0.0</td>\n",
       "      <td>5.0</td>\n",
       "      <td>60.0</td>\n",
       "      <td>2.768</td>\n",
       "      <td>2000.0</td>\n",
       "      <td>748.000</td>\n",
       "      <td>111.86</td>\n",
       "      <td>22.268</td>\n",
       "      <td>284.615</td>\n",
       "      <td>210.0</td>\n",
       "      <td>70.0</td>\n",
       "      <td>3000.0</td>\n",
       "      <td>220.0</td>\n",
       "    </tr>\n",
       "    <tr>\n",
       "      <th>4</th>\n",
       "      <td>0.0</td>\n",
       "      <td>5.0</td>\n",
       "      <td>70.0</td>\n",
       "      <td>2.570</td>\n",
       "      <td>1910.0</td>\n",
       "      <td>807.000</td>\n",
       "      <td>111.86</td>\n",
       "      <td>22.268</td>\n",
       "      <td>284.615</td>\n",
       "      <td>210.0</td>\n",
       "      <td>70.0</td>\n",
       "      <td>3000.0</td>\n",
       "      <td>220.0</td>\n",
       "    </tr>\n",
       "  </tbody>\n",
       "</table>\n",
       "</div>"
      ],
      "text/plain": [
       "   pattern_angle  step_strip  density_strip  ratio_filler_matrix  density  \\\n",
       "0            0.0         4.0           60.0                1.857   2030.0   \n",
       "1            0.0         5.0           47.0                1.857   2030.0   \n",
       "2            0.0         5.0           57.0                2.771   2030.0   \n",
       "3            0.0         5.0           60.0                2.768   2000.0   \n",
       "4            0.0         5.0           70.0                2.570   1910.0   \n",
       "\n",
       "   elasticity_module  number_hardeners  content_epoxy_groups  \\\n",
       "0            738.737             50.00                23.750   \n",
       "1            738.737            129.00                21.250   \n",
       "2            753.000            111.86                22.268   \n",
       "3            748.000            111.86                22.268   \n",
       "4            807.000            111.86                22.268   \n",
       "\n",
       "   flash_temperature  surface_density  elasticity_module_stretching  \\\n",
       "0            284.615            210.0                          70.0   \n",
       "1            300.000            210.0                          70.0   \n",
       "2            284.615            210.0                          70.0   \n",
       "3            284.615            210.0                          70.0   \n",
       "4            284.615            210.0                          70.0   \n",
       "\n",
       "   strapery_strength  resin_consumption  \n",
       "0             3000.0              220.0  \n",
       "1             3000.0              220.0  \n",
       "2             3000.0              220.0  \n",
       "3             3000.0              220.0  \n",
       "4             3000.0              220.0  "
      ]
     },
     "execution_count": 2,
     "metadata": {},
     "output_type": "execute_result"
    }
   ],
   "source": [
    "data_main = pd.read_csv(r'C:\\Users\\grain\\Work_folder\\Diplom_MGTU\\Diploma2_inspect\\data_main.csv')\n",
    "data_main.head()"
   ]
  },
  {
   "cell_type": "code",
   "execution_count": 7,
   "id": "5bacdba2-62a1-4f6c-9462-47ec27ad13ac",
   "metadata": {},
   "outputs": [
    {
     "data": {
      "text/plain": [
       "(948, 13)"
      ]
     },
     "execution_count": 7,
     "metadata": {},
     "output_type": "execute_result"
    }
   ],
   "source": [
    "data_main.shape"
   ]
  },
  {
   "cell_type": "code",
   "execution_count": null,
   "id": "47a1aa7f-a0ce-4754-9c79-f198f053ea6d",
   "metadata": {},
   "outputs": [],
   "source": [
    "Продолжаем работу над исследованием нашего df - data_main"
   ]
  },
  {
   "cell_type": "code",
   "execution_count": null,
   "id": "da3f920f-1221-480d-8d66-52eb6ce97475",
   "metadata": {},
   "outputs": [],
   "source": [
    "# Начало блока исследования коэффициентов корреляции_________________________________________________________"
   ]
  },
  {
   "cell_type": "code",
   "execution_count": 3,
   "id": "97dcb035-6de4-4a25-8a62-e043bddecc5f",
   "metadata": {},
   "outputs": [
    {
     "data": {
      "image/png": "[encoded data removed]",
      "text/plain": [
       "<Figure size 1800x800 with 2 Axes>"
      ]
     },
     "metadata": {},
     "output_type": "display_data"
    }
   ],
   "source": [
    "# Построим корреляционную матрицу\n",
    "plt.figure(figsize=(18,8))\n",
    "corr_heatmap = sns.heatmap(data_main.corr(), vmin=-1, vmax=1, center=0, cmap=\"BrBG\",\n",
    "                           linewidths=0.1, annot=True)\n",
    "corr_heatmap.set_title('Корреляционная матрица', fontdict={'fontsize': 18}, pad=12)\n",
    "plt.show()\n",
    "#plt.savefig('corr_heatmap.png')"
   ]
  },
  {
   "cell_type": "code",
   "execution_count": 4,
   "id": "3fbbdf8c-ea1f-450c-933c-ea2a064b4d0d",
   "metadata": {},
   "outputs": [
    {
     "name": "stdout",
     "output_type": "stream",
     "text": [
      "pattern_angle                   0.093639\n",
      "step_strip                      0.055139\n",
      "density_strip                   0.093639\n",
      "ratio_filler_matrix             0.066974\n",
      "density                         0.076269\n",
      "elasticity_module               0.082671\n",
      "number_hardeners                0.067194\n",
      "content_epoxy_groups            0.055931\n",
      "flash_temperature               0.067194\n",
      "surface_density                 0.064925\n",
      "elasticity_module_stretching    0.065524\n",
      "strapery_strength               0.075987\n",
      "resin_consumption               0.066974\n",
      "dtype: float64\n"
     ]
    }
   ],
   "source": [
    "# Максимальные корреляции в нащем df для полного объема строк \n",
    "print(data_main.corr().abs().apply(lambda x: sorted(x)[-2]))"
   ]
  },
  {
   "cell_type": "code",
   "execution_count": null,
   "id": "a649496b-aaeb-49d5-b26d-1a88bda04c54",
   "metadata": {},
   "outputs": [],
   "source": [
    "# DF для максимумов коэффициентов корреляции для разных значений количества  строк выборки значений от 100 до 948\n",
    "df_corr_value = pd.DataFrame(columns= [100, 200, 300, 400, 500, 600, 700, 800, len(data_main)],\n",
    "                             index = list(data_main)\n",
    "                            )"
   ]
  },
  {
   "cell_type": "code",
   "execution_count": null,
   "id": "5978cdaa-0293-49ba-bb9e-5ea22b98402f",
   "metadata": {},
   "outputs": [],
   "source": [
    "df_corr_value.head(13)"
   ]
  },
  {
   "cell_type": "markdown",
   "id": "85be101c-7462-4fe2-a6e5-cfbe2e04c4c2",
   "metadata": {},
   "source": [
    "# Сначала сделаем для ПЕРВЫХ N-строк, а затем сделаем для СЛУЧАЙНЫХ N -строк\n",
    "# для ПЕРВЫХ N-строк"
   ]
  },
  {
   "cell_type": "code",
   "execution_count": null,
   "id": "161b84ce-ed56-44bc-a6eb-bd151da2750e",
   "metadata": {
    "tags": []
   },
   "outputs": [],
   "source": [
    "# Взято df.head(column).corr().abs().apply(lambda x: sorted(x)[-2]) \n",
    "# из https://stackoverflow.com/questions/29294983/how-to-calculate-correlation-between-all-columns-and-remove-highly-correlated-on\n",
    "\n",
    "# Функция value_corr_show заполняет df_corr_value максимальными значениями для коэффициентов корреляции по каждому параметру\n",
    "# при разных значениях N -числа СЛУЧАЙНЫХ выборок из нашего DataFrame от 100 до len(df)\n",
    "# df - наш основной исследуемый DF\n",
    "# df_corr_value - df для максимальных значений коэффициентов корреляции \n",
    "# при разных значениях N - количества СЛУЧАЙНЫХ  выбраных значений из DF\n",
    "\n",
    "def value_corr_show(df, df_corr_value):\n",
    "    for column in df_corr_value.columns:\n",
    "        df_corr_value[column] = df.head(column).corr().abs().apply(lambda x: sorted(x)[-2]) # sample(n=column)sample(n=7)head(column)\n",
    "    return(df_corr_value)"
   ]
  },
  {
   "cell_type": "code",
   "execution_count": null,
   "id": "b9c4ac7e-e117-4dba-9220-d1f2089c074b",
   "metadata": {
    "scrolled": true,
    "tags": []
   },
   "outputs": [],
   "source": [
    "value_corr_show(data_main, df_corr_value)"
   ]
  },
  {
   "cell_type": "code",
   "execution_count": null,
   "id": "70f99aac-68e8-463b-8a51-dd3e5dca5037",
   "metadata": {
    "tags": []
   },
   "outputs": [],
   "source": [
    "print('Графики изменения размереа корреляции от количества ПЕРВЫХ N строк выборки')\n",
    "fig, axs = plt.subplots(1, 1, figsize=(12, 7))\n",
    "for index in range(len(df_corr_value)):\n",
    "    x = df_corr_value.columns \n",
    "    y = df_corr_value.iloc[index]\n",
    "    plt.plot( x, y, label= df_corr_value.index[index])\n",
    "    plt.xlabel('Количество элементов в выборке N', fontsize=10, color='blue')\n",
    "    plt.ylabel('Коэффициент корреляции МАХ', fontsize=10, color='blue')\n",
    "    plt.legend()\n",
    "    plt.grid(True)   \n",
    "    #plt.show() # если включить , то будут рисоваться все 13 графиков на отдельных фреймах\n",
    "      "
   ]
  },
  {
   "cell_type": "code",
   "execution_count": null,
   "id": "b5b14e32-b0bb-4b5b-baa3-3221554b7973",
   "metadata": {},
   "outputs": [],
   "source": [
    "# Рассмотрим более внимательно каждый график отдельно"
   ]
  },
  {
   "cell_type": "code",
   "execution_count": null,
   "id": "0400b2b3-197f-4676-a338-5d6602ea2bf4",
   "metadata": {
    "scrolled": true,
    "tags": []
   },
   "outputs": [],
   "source": [
    "print('Графики изменения размереа корреляции от количества ПЕРВЫХ N строк выборки')\n",
    "fig, axs = plt.subplots(1, 1, figsize=(12, 7))\n",
    "for index in range(len(df_corr_value)):\n",
    "    x = df_corr_value.columns \n",
    "    y = df_corr_value.iloc[index]\n",
    "    plt.plot( x, y, label= df_corr_value.index[index])\n",
    "    plt.xlabel('Количество элементов в выборке N', fontsize=10, color='blue')\n",
    "    plt.ylabel('Коэффициент корреляции МАХ', fontsize=10, color='blue')\n",
    "    plt.legend()\n",
    "    plt.grid(True)   \n",
    "    plt.show() # если включить , то будут рисоваться все 13 графиков на отдельных фреймах\n",
    "      "
   ]
  },
  {
   "cell_type": "markdown",
   "id": "023e1fe9-435b-4776-b770-df76ba885c3d",
   "metadata": {},
   "source": [
    "# Максимальный коэффициент корреляции каждого параметра ПАДАЕТ при уменьшении количества элементов в выборке df.head(N)"
   ]
  },
  {
   "cell_type": "code",
   "execution_count": null,
   "id": "cac8155e-a351-45b8-a61e-3b4f52c96fc2",
   "metadata": {},
   "outputs": [],
   "source": [
    "# Максимальные корреляции в нащем df для 100  строк \n",
    "print(data_main.head(100).corr().abs().apply(lambda x: sorted(x)[-2]))"
   ]
  },
  {
   "cell_type": "code",
   "execution_count": null,
   "id": "89538126-dfc6-46b4-9c4b-74d8de70a23f",
   "metadata": {},
   "outputs": [],
   "source": [
    "# Максимум корреляции у нас наблюдается между параметром \n",
    "'surface_density'  и целевой переменной 'elasticity_module_stretching'   corr = 0.384 при выборке ПЕРВЫХ N =100"
   ]
  },
  {
   "cell_type": "code",
   "execution_count": null,
   "id": "ed9a7def-b13d-45b9-b43c-91f55f96ea39",
   "metadata": {},
   "outputs": [],
   "source": [
    "# Максимальные корреляции в нащем df для 948  строк \n",
    "print(data_main.head(948).corr().abs().apply(lambda x: sorted(x)[-2]))"
   ]
  },
  {
   "cell_type": "markdown",
   "id": "725267c5-f3d3-4969-b6ad-3d71485138a3",
   "metadata": {},
   "source": [
    "# Динамика максимальных коэффициентов корреляции для варианта :\n",
    "# СЛУЧАЙНЫХ N -строк"
   ]
  },
  {
   "cell_type": "code",
   "execution_count": null,
   "id": "8beec1b3-0ab4-4796-9dfb-75f294336067",
   "metadata": {},
   "outputs": [],
   "source": [
    "# DF для максимумов коэффициентов корреляции для разных значений количества  строк выборки значений от 100 до 948\n",
    "df_corr_value_random = pd.DataFrame(columns= [100, 200, 300, 400, 500, 600, 700, 800, len(data_main)],\n",
    "                             index = list(data_main)\n",
    "                            )"
   ]
  },
  {
   "cell_type": "code",
   "execution_count": null,
   "id": "6f5cf0d2-5f6b-4272-bf9e-ac626e447207",
   "metadata": {},
   "outputs": [],
   "source": [
    "df_corr_value_random.head(13)"
   ]
  },
  {
   "cell_type": "code",
   "execution_count": null,
   "id": "daad710a-f8e4-4a22-bc4f-b4142476e6f3",
   "metadata": {
    "tags": []
   },
   "outputs": [],
   "source": [
    "# Функция value_corr_show заполняет df_corr_value_random максимальными значениями для коэффициентов корреляции по каждому параметру\n",
    "# при разных значениях N -числа СЛУЧАЙНЫХ выборок из нашего DataFrame от 100 до len(df)\n",
    "# df - наш основной исследуемый DF\n",
    "# df_corr_value_random - df для максимальных значений коэффициентов корреляции \n",
    "# при разных значениях N - количества СЛУЧАЙНЫХ  выбраных значений из DF\n",
    "# random_state = 42!!\n",
    "\n",
    "def value_corr_show_random(df, df_corr_value_random):\n",
    "    for column in df_corr_value.columns:\n",
    "        df_corr_value_random[column] = df.sample(n=column, random_state=42).corr().abs().apply(lambda x: sorted(x)[-2]) # sample(n=7)head(column)\n",
    "    return(df_corr_value_random)"
   ]
  },
  {
   "cell_type": "code",
   "execution_count": null,
   "id": "6aa400e4-4312-4852-b013-6c1411475d19",
   "metadata": {
    "scrolled": true,
    "tags": []
   },
   "outputs": [],
   "source": [
    "value_corr_show_random(data_main, df_corr_value_random)"
   ]
  },
  {
   "cell_type": "code",
   "execution_count": null,
   "id": "24d3430d-207f-4922-838d-c8f29b7d48a7",
   "metadata": {},
   "outputs": [],
   "source": [
    "print('Графики изменения размереа корреляции от количества СЛУЧАЙНЫХ  N строк выборки')\n",
    "fig, axs = plt.subplots(1, 1, figsize=(12, 7))\n",
    "for index in range(len(df_corr_value_random)):\n",
    "    x = df_corr_value_random.columns \n",
    "    y = df_corr_value_random.iloc[index]\n",
    "    plt.plot( x, y, label= df_corr_value_random.index[index])\n",
    "    plt.xlabel('Количество элементов в выборке N', fontsize=10, color='blue')\n",
    "    plt.ylabel('Коэффициент корреляции МАХ', fontsize=10, color='blue')\n",
    "    plt.legend()\n",
    "    plt.grid(True)   \n",
    "    # plt.show() # если включить , то будут рисоваться все 13 графиков на отдельных фреймах\n",
    "      "
   ]
  },
  {
   "cell_type": "code",
   "execution_count": null,
   "id": "543b2151-b680-4bf8-a013-4ec46a5adb36",
   "metadata": {},
   "outputs": [],
   "source": [
    "# Рассмотрим более внимательно каждый график отдельно"
   ]
  },
  {
   "cell_type": "code",
   "execution_count": null,
   "id": "10c469f3-8a54-4769-97d8-2adff0908a2b",
   "metadata": {
    "scrolled": true,
    "tags": []
   },
   "outputs": [],
   "source": [
    "print('Графики изменения размереа корреляции от количества  N строк выборки')\n",
    "fig, axs = plt.subplots(1, 1, figsize=(12, 7))\n",
    "for index in range(len(df_corr_value_random)):\n",
    "    x = df_corr_value_random.columns \n",
    "    y = df_corr_value_random.iloc[index]\n",
    "    plt.plot( x, y, label= df_corr_value_random.index[index])\n",
    "    plt.xlabel('Количество элементов в выборке N', fontsize=10, color='blue')\n",
    "    plt.ylabel('Коэффициент корреляции МАХ', fontsize=10, color='blue')\n",
    "    plt.legend()\n",
    "    plt.grid(True)   \n",
    "    plt.show() # если включить , то будут рисоваться все 13 графиков на отдельных фреймах\n",
    "      "
   ]
  },
  {
   "cell_type": "markdown",
   "id": "75665c93-4d85-454c-8ed3-1530c73d8479",
   "metadata": {},
   "source": [
    "# Максимальный коэффициент корреляции каждого параметра ПАДАЕТ при увеличении количества элементов в выборке df.sample(n=N,random_state=42)"
   ]
  },
  {
   "cell_type": "code",
   "execution_count": null,
   "id": "08949b04-95dd-40fc-814d-3a89630e8bb3",
   "metadata": {},
   "outputs": [],
   "source": [
    "# Максимальные корреляции в нащем df для СЛУЧАЙНЫХ 100  строк \n",
    "print(data_main.sample(n=100, random_state=42).corr().abs().apply(lambda x: sorted(x)[-2]))"
   ]
  },
  {
   "cell_type": "code",
   "execution_count": null,
   "id": "77272d92-fb3b-405c-a07c-42dd1679d73d",
   "metadata": {},
   "outputs": [],
   "source": [
    "# Максимум корреляции у нас наблюдается между параметром \n",
    "'surface_density'  и целевой переменной 'elasticity_module_stretching'   corr = 0.384 при выборке N =100"
   ]
  },
  {
   "cell_type": "code",
   "execution_count": null,
   "id": "520a28c9-3861-4d33-8b07-9d8ed1964f5e",
   "metadata": {},
   "outputs": [],
   "source": [
    "# Максимальные корреляции в нащем df для 948  строк \n",
    "print(data_main.sample(n=948, random_state=42).corr().abs().apply(lambda x: sorted(x)[-2]))"
   ]
  },
  {
   "cell_type": "code",
   "execution_count": null,
   "id": "91ff95f7-662f-40ba-bb1c-b4b3f49fecda",
   "metadata": {},
   "outputs": [],
   "source": [
    "# Максимальные корреляции в нащем df для 948  строк \n",
    "print(data_main.head(948).corr().abs().apply(lambda x: sorted(x)[-2]))"
   ]
  },
  {
   "cell_type": "code",
   "execution_count": null,
   "id": "e2cd4115-0a05-4bc2-aad1-ef8c8c24a031",
   "metadata": {},
   "outputs": [],
   "source": [
    "# Конец блока исследования коэффициентов корреляции_________________________________________________________"
   ]
  },
  {
   "cell_type": "code",
   "execution_count": null,
   "id": "d571231e-fc19-4953-a750-8a7f9a194837",
   "metadata": {},
   "outputs": [],
   "source": [
    "# Рассмотрим другие типы графиков 2D. "
   ]
  },
  {
   "cell_type": "code",
   "execution_count": null,
   "id": "7f449b07-9371-4a62-8a3a-46fb9fb2f0cd",
   "metadata": {},
   "outputs": [],
   "source": [
    "# перед проведением больших  расчетов и графических построений понизим размерность нашего df"
   ]
  },
  {
   "cell_type": "code",
   "execution_count": null,
   "id": "6aa22ca0-bb39-4370-8e9c-7efde875a010",
   "metadata": {
    "tags": []
   },
   "outputs": [],
   "source": [
    "# Функция оптимизации типов в dataframe.\n",
    "\n",
    "# !!!! Код взят из источника https://github.com/ellavs/python-pandas-optimize-dataframe-memory-usage\n",
    "\n",
    "def optimize_memory_usage(df, print_size=True):\n",
    "\n",
    "    # Типы, которые будем проверять на оптимизацию.\n",
    "    numerics = ['int16', 'int32', 'int64', 'float16', 'float32', 'float64']\n",
    "    # Memory usage size before optimize (Mb).\n",
    "    # (RU) Размер занимаемой памяти до оптимизации (в Мб).\n",
    "    before_size = df.memory_usage().sum() / 1024**2    \n",
    "    for column in df.columns:\n",
    "        column_type = df[column].dtypes\n",
    "        if column_type in numerics:\n",
    "            column_min = df[column].min()\n",
    "            column_max = df[column].max()\n",
    "            if str(column_type).startswith('int'):\n",
    "                if column_min > np.iinfo(np.int32).min and column_max < np.iinfo(np.int32).max:\n",
    "                    df[column] = df[column].astype(np.int32)\n",
    "                elif column_min > np.iinfo(np.int64).min and column_max < np.iinfo(np.int64).max:\n",
    "                    df[column] = df[column].astype(np.int64)  \n",
    "            else:\n",
    "                if column_min > np.finfo(np.float32).min and column_max < np.finfo(np.float32).max:\n",
    "                    df[column] = df[column].astype(np.float32)\n",
    "                else:\n",
    "                    df[column] = df[column].astype(np.float64)    \n",
    "    # Memory usage size after optimize (Mb).\n",
    "    # Размер занимаемой памяти после оптимизации (в Мб).\n",
    "    after_size = df.memory_usage().sum() / 1024**2\n",
    "    if print_size: print('Memory usage size: before {:5.4f} Mb - after {:5.4f} Mb ({:.1f}%).'.format(before_size, after_size, 100 * (before_size - after_size) / before_size))\n",
    "    return df\n",
    "\n",
    "def import_data_from_csv(df):\n",
    "    # Показать информацию о таблице до оптимизации.\n",
    "    print('-' * 80)\n",
    "    print(df.info())\n",
    "    print('-' * 80)\n",
    "    # Оптимизация типов в dataframe.\n",
    "    df = optimize_memory_usage(df) # используем функцию optimize_memory_usage , созданую выше\n",
    "    # Показать информацию о таблице после оптимизации.\n",
    "    print('-' * 80)\n",
    "    print(df.info())\n",
    "    print('-' * 80)\n",
    "    return df"
   ]
  },
  {
   "cell_type": "code",
   "execution_count": null,
   "id": "56afcc15-4710-4c3e-881d-6b506c2ae64b",
   "metadata": {
    "scrolled": true,
    "tags": []
   },
   "outputs": [],
   "source": [
    "# Вызываем функцию import_data_from_csv для уменьшения размерности переменных в файле df_bp_new\n",
    "\n",
    "data_main = import_data_from_csv(data_main)"
   ]
  },
  {
   "cell_type": "code",
   "execution_count": null,
   "id": "c72fe0cb-22d7-4ceb-994a-13f8059a97cd",
   "metadata": {},
   "outputs": [],
   "source": [
    "# В нашем DF data_main уменьшилась размерность до float32 и размер памяти уменьшился с 96,4 кв до 48,3 кв"
   ]
  },
  {
   "cell_type": "code",
   "execution_count": null,
   "id": "a82153b3-dd7d-426e-b602-248cf31d7449",
   "metadata": {
    "scrolled": true,
    "tags": []
   },
   "outputs": [],
   "source": [
    "# График зависимости парметров друг от друга\n",
    "# Взято из https://pyprog.pro/sns/sns_6_visualization_of_dist.html\n",
    "# При построении точечных диаграмм зависимостей используем график прямой регрессии в правом верхнем углу.\n",
    "# Наблюдения проведем при выборке 100  и 948 значений.\n",
    "\n",
    "# Создаем экземпляр класса:\n",
    "g = sns.PairGrid(data_main)\n",
    "\n",
    "# задаем тип графиков над главной диагональю:это графики точек с линией регрессии\n",
    "g.map_upper(sns.regplot)\n",
    "\n",
    "# задаем тип графиков под главной диагональю: \n",
    "g.map_lower(sns.kdeplot, bw_adjust= 0.5, lw=3)\n",
    "\n",
    "# задаем тип графиков на главной диагонали:\n",
    "g.map_diag(sns.histplot, kde=True, bins = 30, fill = True);"
   ]
  },
  {
   "cell_type": "markdown",
   "id": "9c070c0c-b9bb-4ace-983a-cb6263b52bb1",
   "metadata": {},
   "source": [
    "У нас пока не наблюдается регрессия в параметрах.\n",
    "Проведем юолее тщательные графические ислледования возможных зависимых парметров"
   ]
  },
  {
   "cell_type": "code",
   "execution_count": null,
   "id": "89866dce-1d23-4526-8b2a-37f4d4ee8167",
   "metadata": {},
   "outputs": [],
   "source": [
    "В задании к ВКР целевыми переменными заданы 'elasticity_module_stretching' и 'strapery_strength'\n",
    "Проверим для каждой целевой переменной зависимости от параметров с выедением регрессионной прямой на графиках зависимости"
   ]
  },
  {
   "cell_type": "code",
   "execution_count": null,
   "id": "cfb51596-b4a0-40e7-9f28-929436669885",
   "metadata": {},
   "outputs": [],
   "source": [
    "# Функция печати зависимости  параметров  от целевой переменной с выводом линии регрессии\n",
    "# Параметры для передачи в функцию:\n",
    "# df - наш dataframe\n",
    "# N - количество случайных элементов для выборки графика\n",
    "# f_x - размер в figsize по оси Х\n",
    "# f_y - размер в figsize по оси Y\n",
    "\n",
    "# name_у - исследуемая целевая переменная по оси У\n",
    "\n",
    "def regplot_plt(df, N, fig_x, fig_y, name_Y):\n",
    "    for column in df.columns:\n",
    "        if column == name_Y:\n",
    "            continue\n",
    "        fig, axes = plt.subplots(1, 1, figsize=(fig_x, fig_y,))\n",
    "        sns.regplot(data = df.head(N),\n",
    "                    x = df.head(N)[column], \n",
    "                    y = name_Y,\n",
    "                    ci=None,\n",
    "                ) # ci=None- без доверительного интервала!\n",
    "    plt.show()\n",
    "    return     "
   ]
  },
  {
   "cell_type": "code",
   "execution_count": null,
   "id": "439fae54-2643-49cc-a87c-880bb8f1d79c",
   "metadata": {
    "scrolled": true,
    "tags": []
   },
   "outputs": [],
   "source": [
    "# Построим графики при N = 100 для целевой переменной 'elasticity_module_stretching'\n",
    "regplot_plt(data_main, N=100, fig_x= 6, fig_y = 4, name_Y=  'elasticity_module_stretching')"
   ]
  },
  {
   "cell_type": "code",
   "execution_count": null,
   "id": "37f323c3-02dc-4b0d-aaad-4386dff3bfa2",
   "metadata": {},
   "outputs": [],
   "source": [
    "data_main.columns.tolist()"
   ]
  },
  {
   "cell_type": "code",
   "execution_count": null,
   "id": "18ef65c7-3755-40f7-b2b7-7bb4885bb53e",
   "metadata": {},
   "outputs": [],
   "source": [
    "Как видно из графиков при N = 100 между  целевой переменной 'elasticity_module_stretching'\n",
    "а) практически не наблюдается корреляция с параметрами:\n",
    "'pattern_angle', 'step_strip', 'density_strip', 'density', 'elasticity_module',content_epoxy_groups',\n",
    "б) слабая корреляция наблюдается  с параметрами :\n",
    "'ratio_filler_matrix', 'number_hardeners', 'flash_temperature', 'resin_consumption'\n",
    "в) наблюдается более сильная корреляцияа с парметрами:\n",
    "'surface_density', 'strapery_strength' "
   ]
  },
  {
   "cell_type": "code",
   "execution_count": null,
   "id": "db565a99-c967-43e1-9720-6e10bd3a0820",
   "metadata": {},
   "outputs": [],
   "source": []
  },
  {
   "cell_type": "code",
   "execution_count": null,
   "id": "a0702efd-eba8-4c1c-9a07-9cecf0cdae2e",
   "metadata": {
    "scrolled": true,
    "tags": []
   },
   "outputs": [],
   "source": [
    "# Построим графики при N = len(data_main) для целевой переменной 'elasticity_module_stretching'\n",
    "regplot_plt(data_main, N= len(data_main), fig_x= 6, fig_y = 4, name_Y=  'elasticity_module_stretching')"
   ]
  },
  {
   "cell_type": "code",
   "execution_count": null,
   "id": "c28278da-1388-41be-a76d-bb4a6aabd19f",
   "metadata": {},
   "outputs": [],
   "source": [
    "Как видно из графиков при N = 948 между  целевой переменной 'elasticity_module_stretching'\n",
    "а) практически не наблюдается корреляция с параметрами:\n",
    "'pattern_angle', 'step_strip', 'density_strip', 'density',  'flash_temperature','elasticity_module','content_epoxy_groups','strapery_strength' \n",
    "б) слабая корреляция наблюдается  с параметрами :\n",
    "'number_hardeners', 'surface_density','resin_consumption'"
   ]
  },
  {
   "cell_type": "code",
   "execution_count": null,
   "id": "a327efdf-7ec8-44e4-abec-a3c51364dbb6",
   "metadata": {
    "tags": []
   },
   "outputs": [],
   "source": [
    "## Вероятно, можно проводить регрессивный анализ по целевой переменной  'elasticity_module_stretching'\n",
    "с параметрами 'number_hardeners', 'surface_density','resin_consumption'"
   ]
  },
  {
   "cell_type": "code",
   "execution_count": null,
   "id": "50e28c9c-ff9e-4e26-ad59-ab7b7fbde40d",
   "metadata": {},
   "outputs": [],
   "source": [
    "Проведем такой же анаализ при N = 100 и N = 948 для второй целевой переменной 'strapery_strength'"
   ]
  },
  {
   "cell_type": "code",
   "execution_count": null,
   "id": "8887271d-a58e-4fbb-85d3-ad6c991a5503",
   "metadata": {
    "scrolled": true,
    "tags": []
   },
   "outputs": [],
   "source": [
    "# Построим графики при N = 100 для целевой переменной 'elasticity_module_stretching'\n",
    "regplot_plt(data_main, N=100, fig_x= 6, fig_y = 4, name_Y= 'strapery_strength')"
   ]
  },
  {
   "cell_type": "code",
   "execution_count": null,
   "id": "1b4502a4-9679-4fff-8fdd-a576e4a6aee5",
   "metadata": {},
   "outputs": [],
   "source": [
    "Как видно из графиков при N = 100 между  целевой переменной 'strapery_strength'\n",
    "а) практически не наблюдается корреляция с параметрами:\n",
    "'pattern_angle', 'step_strip', 'density_strip','ratio_filler_matrix', 'density', content_epoxy_groups','resin_consumption'\n",
    "б) слабая корреляция наблюдается  с параметрами :\n",
    "'number_hardeners', 'flash_temperature', 'elasticity_module'\n",
    "в) наблюдается более сильная корреляцияа с парметрами:\n",
    "'surface_density', 'elasticity_module_stretching' "
   ]
  },
  {
   "cell_type": "code",
   "execution_count": null,
   "id": "6f962014-1400-4899-9648-3371b2d2e6d3",
   "metadata": {
    "scrolled": true,
    "tags": []
   },
   "outputs": [],
   "source": [
    "# Построим графики при N = len(data_main) для целевой переменной 'elasticity_module_stretching'\n",
    "regplot_plt(data_main, N= len(data_main), fig_x= 6, fig_y = 4, name_Y= 'strapery_strength')"
   ]
  },
  {
   "cell_type": "code",
   "execution_count": null,
   "id": "67023630-56e4-48f6-a6b4-099244776f65",
   "metadata": {},
   "outputs": [],
   "source": [
    "Как видно из графиков при N = 948 между  целевой переменной 'strapery_strength'\n",
    "а) практически не наблюдается корреляция с параметрами:\n",
    "'pattern_angle', 'step_strip', 'density_strip', 'flash_temperature','elasticity_module','content_epoxy_groups',\n",
    "'elasticity_module_stretching', 'resin_consumption'\n",
    "б) слабая корреляция наблюдается  с параметрами :\n",
    "'density' 'number_hardeners','surface_density'"
   ]
  },
  {
   "cell_type": "markdown",
   "id": "97608712-6c80-4d12-bbee-343778babf79",
   "metadata": {
    "tags": []
   },
   "source": [
    "# Вероятно, можно проводить регрессивный анализ по целевой переменной  'strapery_strength'с параметрами 'density', 'number_hardeners','surface_density'"
   ]
  },
  {
   "cell_type": "code",
   "execution_count": null,
   "id": "3a8e0dd2-0cf4-446a-984d-f578e13fff93",
   "metadata": {},
   "outputs": [],
   "source": []
  },
  {
   "cell_type": "markdown",
   "id": "0fc37da3-b715-472e-b9e4-425d6b3fb963",
   "metadata": {},
   "source": [
    "# В соответствии с теорией хрупкого разрушения (теория Гриффита) прочность (σр) определяется удельной энергией (α)\n",
    "# вновь образованной поверхности разрушения: (σр) = f( α * Е) где Е – модуль упругости материала\n",
    "т.е. (σр) это 'Прочность при растяжении' - 'strapery_strength' (размерность в Мпа),  \n",
    "а E  это 'Модуль упругости при растяжении' - 'elasticity_module_stretching'(размерность в ГПа ,т.е в 1000 раз болье чем σр)\n",
    "введем еще оди признак/столбец - 'удельную энергию ' - 'energy density' (α) = σр / Е\n"
   ]
  },
  {
   "cell_type": "code",
   "execution_count": null,
   "id": "a7085dfe-a33d-4314-88f4-e3ee41fc55e7",
   "metadata": {},
   "outputs": [],
   "source": [
    "# Функция расчта нового признака ALFA\n",
    "# df - Передаем в функцию dataframe\n",
    "# data_main_add_col - возвращаем df- с новым добавленым столбцом ALFA,  \n",
    "# а также удалим два столбца:  'strapery_strength' и 'elasticity_module_stretching'\n",
    "\n",
    "def add_column_alfa(df):\n",
    "    df_add_col = df.assign(alfa = df.strapery_strength /df.elasticity_module_stretching)\n",
    "    df_add_col =  df_add_col.drop(['strapery_strength', 'elasticity_module_stretching'], axis=1)\n",
    "    return(df_add_col)"
   ]
  },
  {
   "cell_type": "code",
   "execution_count": null,
   "id": "fb5b9e16-d659-43dd-8f87-2535bcae105e",
   "metadata": {},
   "outputs": [],
   "source": [
    "df_add_col = add_column_alfa(data_main)"
   ]
  },
  {
   "cell_type": "code",
   "execution_count": null,
   "id": "7b1a3959-8a0c-41b3-a585-8b1f0e951510",
   "metadata": {},
   "outputs": [],
   "source": [
    "df_add_col.info()"
   ]
  },
  {
   "cell_type": "code",
   "execution_count": null,
   "id": "43762db3-bdf5-4311-ac83-b5d7f2ad3b1d",
   "metadata": {},
   "outputs": [],
   "source": [
    "Проведем такой же анаализ при N = 100 и N = 948 для новой целевой переменной 'alfa'"
   ]
  },
  {
   "cell_type": "code",
   "execution_count": null,
   "id": "05e8eee9-b64a-4103-97d3-b1fe261f9ec8",
   "metadata": {
    "scrolled": true,
    "tags": []
   },
   "outputs": [],
   "source": [
    "# Построим графики при N = 100 для целевой переменной 'alfa'\n",
    "regplot_plt(df_add_col, N= 100, fig_x= 6, fig_y = 4, name_Y= 'alfa')"
   ]
  },
  {
   "cell_type": "code",
   "execution_count": null,
   "id": "6c1201bf-5fd4-4330-a06f-f6ec38045963",
   "metadata": {},
   "outputs": [],
   "source": []
  },
  {
   "cell_type": "markdown",
   "id": "40ab3611-5d18-4edf-96c6-af2d90111108",
   "metadata": {},
   "source": [
    "Как видно из графиков при N = 100 между  целевой переменной 'alfa'\n",
    "а) практически не наблюдается корреляция с параметрами:\n",
    "'pattern_angle', 'step_strip', 'density_strip', 'density',  'resin_consumption',  'content_epoxy_groups' \n",
    "б) слабая корреляция наблюдается  с параметрами :\n",
    "ratio_filler_matrix, 'elasticity_module','number_hardeners', 'surface_density','flash_temperature'"
   ]
  },
  {
   "cell_type": "code",
   "execution_count": null,
   "id": "ec2d93d2-d621-4c13-8454-3f21279c9193",
   "metadata": {
    "scrolled": true,
    "tags": []
   },
   "outputs": [],
   "source": [
    "# Построим графики при N = len(df_add_col) для целевой переменной 'alfa'\n",
    "regplot_plt(df_add_col, N= len(df_add_col), fig_x= 6, fig_y = 4, name_Y= 'alfa')"
   ]
  },
  {
   "cell_type": "markdown",
   "id": "0d5c7e2f-da19-47ae-be9a-38242aadcdd8",
   "metadata": {},
   "source": [
    "Можно сделать вывод, что можно попробовать сделать регрессивный анализ \n",
    "для целевой переменной ALFA по параметрам 'number_hardeners','surface_density'"
   ]
  },
  {
   "cell_type": "markdown",
   "id": "6645214b-b023-4ecb-bd58-f66719213346",
   "metadata": {},
   "source": [
    "# Выбор признаков (фич)"
   ]
  },
  {
   "cell_type": "markdown",
   "id": "9e02cf5a-0075-4f17-b34f-bc496edea277",
   "metadata": {
    "tags": []
   },
   "source": [
    "## Вероятно, можно проводить регрессивный анализ по целевой переменной  'elasticity_module_stretching'\n",
    "с параметрами 'number_hardeners', 'surface_density','resin_consumption'"
   ]
  },
  {
   "cell_type": "markdown",
   "id": "4fd4e806-4743-4dd1-9f45-97c80607f60d",
   "metadata": {
    "tags": []
   },
   "source": [
    "# Вероятно, можно проводить регрессивный анализ по целевой переменной  'strapery_strength'\n",
    "с параметрами 'density', 'number_hardeners','surface_density'"
   ]
  },
  {
   "cell_type": "markdown",
   "id": "12024fb0-12b8-4268-a966-ac8d9b336a79",
   "metadata": {
    "tags": []
   },
   "source": [
    "# Вероятно, можно проводить регрессивный анализ по целевой переменной  'alfa'\n",
    "с параметрами 'density', elasticity_module, 'number_hardeners','surface_density'"
   ]
  },
  {
   "cell_type": "code",
   "execution_count": null,
   "id": "8f056b76-ebdc-4846-9a36-97209c5fdd49",
   "metadata": {},
   "outputs": [],
   "source": [
    "# Анализируя 3 проанализированные варианта целевых переменных, \n",
    "# вероятно можно проводить регрессивный анализ по целевой переменной ALFA \n",
    "# и параметрами 'density', 'number_hardeners','surface_density'"
   ]
  },
  {
   "cell_type": "code",
   "execution_count": null,
   "id": "c1692d6f-c48f-4c60-9f94-ff2088277902",
   "metadata": {},
   "outputs": [],
   "source": [
    "df_add_col.describe()"
   ]
  },
  {
   "cell_type": "code",
   "execution_count": null,
   "id": "e72e33c4-239c-4415-b9f9-00e646181ede",
   "metadata": {},
   "outputs": [],
   "source": [
    "# Попробуем проверить будет ли улучшение зависимости целевой переменной ALFA от параметров при изменение их характера - 3 метода:\n",
    "1) возведение в квадрат\n",
    "2) возведение в 3 степень \n",
    "3) логарифмирование параметров"
   ]
  },
  {
   "cell_type": "markdown",
   "id": "87d6bf86-62be-4ab0-bd31-3a5d087bd411",
   "metadata": {},
   "source": [
    "Вариант 1. Попробуем возвести параметры в квадрат и провести графический анализ нового df"
   ]
  },
  {
   "cell_type": "code",
   "execution_count": null,
   "id": "f04c9c12-d751-49e5-928a-93881cdf6ce8",
   "metadata": {},
   "outputs": [],
   "source": [
    "df_sqwer = df_add_col ** 2"
   ]
  },
  {
   "cell_type": "code",
   "execution_count": null,
   "id": "c4f1d774-b006-4389-a6f9-bff2fcd93cd7",
   "metadata": {},
   "outputs": [],
   "source": [
    "df_sqwer.describe()"
   ]
  },
  {
   "cell_type": "code",
   "execution_count": null,
   "id": "67ff8ef8-f786-4bce-8fa0-82a10e9deebe",
   "metadata": {},
   "outputs": [],
   "source": [
    "# Построим корреляционную матрицу\n",
    "plt.figure(figsize=(24, 12))\n",
    "corr_heatmap = sns.heatmap(df_sqwer.corr(), vmin=-1, vmax=1, center=0, cmap=\"BrBG\",\n",
    "                           linewidths=0.1, annot=True)\n",
    "corr_heatmap.set_title('Correlation Heatmap', fontdict={'fontsize': 18}, pad=12)\n",
    "plt.show()\n",
    "#plt.savefig('corr_heatmap.png')"
   ]
  },
  {
   "cell_type": "code",
   "execution_count": null,
   "id": "1625fe4a-b3f8-44ae-844c-303235b4592c",
   "metadata": {},
   "outputs": [],
   "source": [
    "# Максимальные корреляции в нащем df для полного объема строк \n",
    "print(df_sqwer.corr().abs().apply(lambda x: sorted(x)[-2]))"
   ]
  },
  {
   "cell_type": "code",
   "execution_count": null,
   "id": "be04c897-3bb2-4a1a-b3b6-1f9c36789e1e",
   "metadata": {
    "scrolled": true,
    "tags": []
   },
   "outputs": [],
   "source": [
    "# Построим графики при N = len(df_sqwer) для целевой переменной 'alfa'\n",
    "regplot_plt(df_sqwer, N= len(df_sqwer), fig_x= 6, fig_y = 4, name_Y= 'alfa')"
   ]
  },
  {
   "cell_type": "code",
   "execution_count": null,
   "id": "e9693ae4-fbd9-4fba-b525-5ea05e41da10",
   "metadata": {},
   "outputs": [],
   "source": [
    "# Проверим графики зависимости целевой переменной \"elasticity_module_stretching\" от квадратов других параметров\n",
    "sns.pairplot(df_sqwer, diag_kind='kde', hue=\"alfa\")"
   ]
  },
  {
   "cell_type": "code",
   "execution_count": null,
   "id": "31d61f3c-6c2d-4b95-9c48-fb6012c65de8",
   "metadata": {},
   "outputs": [],
   "source": [
    "# В этом варианте № 1 не просматривается зависимости параметров с целевой переменной ALFA"
   ]
  },
  {
   "cell_type": "code",
   "execution_count": null,
   "id": "b3029af9-560c-47e7-a07b-825e695f74a4",
   "metadata": {},
   "outputs": [],
   "source": []
  },
  {
   "cell_type": "code",
   "execution_count": null,
   "id": "9c60e2a8-0adc-412a-91f9-c8449297cc6c",
   "metadata": {},
   "outputs": [],
   "source": [
    "Вариант 2. Попробуем возвести параметры в куб и провести графический анализ нового df"
   ]
  },
  {
   "cell_type": "code",
   "execution_count": null,
   "id": "a4709042-3cd2-4e1e-af0a-c615c0d2c263",
   "metadata": {},
   "outputs": [],
   "source": [
    "df_trio = df_add_col ** 3"
   ]
  },
  {
   "cell_type": "code",
   "execution_count": null,
   "id": "8d6ae5d9-6fa8-4d13-98d3-540b77f793b3",
   "metadata": {},
   "outputs": [],
   "source": [
    "# Построим корреляционную матрицу\n",
    "plt.figure(figsize=(18, 8))\n",
    "corr_heatmap = sns.heatmap(df_trio.corr(), vmin=-1, vmax=1, center=0, cmap=\"BrBG\",\n",
    "                           linewidths=0.1, annot=True)\n",
    "corr_heatmap.set_title('Correlation Heatmap', fontdict={'fontsize': 18}, pad=12)\n",
    "plt.show()\n",
    "#plt.savefig('corr_heatmap.png')"
   ]
  },
  {
   "cell_type": "code",
   "execution_count": null,
   "id": "ec19de4a-f3f1-4c67-8137-9cbbb6b71adf",
   "metadata": {},
   "outputs": [],
   "source": [
    "# Максимальные корреляции в нащем df для полного объема строк \n",
    "print(df_trio.corr().abs().apply(lambda x: sorted(x)[-2]))"
   ]
  },
  {
   "cell_type": "code",
   "execution_count": null,
   "id": "45bdf5ff-1229-4dcb-9415-d50da03feb32",
   "metadata": {
    "scrolled": true,
    "tags": []
   },
   "outputs": [],
   "source": [
    "# Построим графики при N = len(df_sqwer) для целевой переменной 'alfa'\n",
    "regplot_plt(df_trio, N= len(df_sqwer), fig_x= 6, fig_y = 4, name_Y= 'alfa')"
   ]
  },
  {
   "cell_type": "code",
   "execution_count": null,
   "id": "3a3b0339-e6d6-47f3-bd21-fb28bd52ca03",
   "metadata": {},
   "outputs": [],
   "source": [
    "# Проверим графики зависимости целевой переменной \"elasticity_module_stretching\" от квадратов других параметров\n",
    "sns.pairplot(df_trio, diag_kind='kde', hue=\"alfa\")"
   ]
  },
  {
   "cell_type": "code",
   "execution_count": null,
   "id": "cc9225e3-e766-48fd-bd29-a55d92aeda3f",
   "metadata": {},
   "outputs": [],
   "source": [
    "# В этом варианте № 2 не просматривается зависимости параметров с целевой переменной ALFA"
   ]
  },
  {
   "cell_type": "code",
   "execution_count": null,
   "id": "2d8f51d1-b9e3-429e-a783-64de3caad0c1",
   "metadata": {},
   "outputs": [],
   "source": []
  },
  {
   "cell_type": "code",
   "execution_count": null,
   "id": "c4aed385-456e-4489-a962-b43da627dff6",
   "metadata": {},
   "outputs": [],
   "source": [
    "Вариант 3. Попробуем возвести параметры в логарифм и провести графический анализ нового df"
   ]
  },
  {
   "cell_type": "code",
   "execution_count": null,
   "id": "35abd62b-0f27-4f31-bf8a-b764ef65ec8a",
   "metadata": {},
   "outputs": [],
   "source": [
    "df_log = np.log10(df_add_col)"
   ]
  },
  {
   "cell_type": "code",
   "execution_count": null,
   "id": "be5b9e13-c87f-4a48-ac05-dc27f11ce983",
   "metadata": {},
   "outputs": [],
   "source": [
    "df_log.describe() "
   ]
  },
  {
   "cell_type": "code",
   "execution_count": null,
   "id": "f2542829-6a1a-4404-b1fb-a9c072b3d37c",
   "metadata": {},
   "outputs": [],
   "source": [
    "# Удалим первый столбец pattern_angle так как там есть значения NaN\n",
    "df_log_drop = df_log.drop(['pattern_angle'], axis=1)"
   ]
  },
  {
   "cell_type": "code",
   "execution_count": null,
   "id": "483b5d2d-39a3-4d82-a028-47f80eb65814",
   "metadata": {},
   "outputs": [],
   "source": [
    "df_log_drop.describe()"
   ]
  },
  {
   "cell_type": "code",
   "execution_count": null,
   "id": "46975fe0-3cc5-4b01-a88c-543af7f4d997",
   "metadata": {},
   "outputs": [],
   "source": [
    "# Построим корреляционную матрицу\n",
    "plt.figure(figsize=(18, 8))\n",
    "corr_heatmap = sns.heatmap(df_log_drop.corr(), vmin=-1, vmax=1, center=0, cmap=\"BrBG\",\n",
    "                           linewidths=0.1, annot=True)\n",
    "corr_heatmap.set_title('Correlation Heatmap', fontdict={'fontsize': 18}, pad=12)\n",
    "plt.show()\n",
    "#plt.savefig('corr_heatmap.png')"
   ]
  },
  {
   "cell_type": "code",
   "execution_count": null,
   "id": "b49fc197-d773-450d-87f2-4e7b3c8fe8ab",
   "metadata": {},
   "outputs": [],
   "source": [
    "# Максимальные корреляции в нащем df для полного объема строк \n",
    "print(df_log_drop.corr().abs().apply(lambda x: sorted(x)[-2]))"
   ]
  },
  {
   "cell_type": "code",
   "execution_count": null,
   "id": "d005d0cd-a94b-4af0-be3a-fcd68fa104a2",
   "metadata": {},
   "outputs": [],
   "source": [
    "# Сравним  Максимальные корреляции в нащем основном df data_main для 948  строк с мах коррр варианта 3 \n",
    "print(data_main.head(948).corr().abs().apply(lambda x: sorted(x)[-2]))"
   ]
  },
  {
   "cell_type": "code",
   "execution_count": null,
   "id": "9c895c03-7dc5-4b53-a4a9-b33440e1f890",
   "metadata": {},
   "outputs": [],
   "source": [
    "# Практически никаких улучшений этот вариант 3 нам не дал."
   ]
  },
  {
   "cell_type": "code",
   "execution_count": null,
   "id": "c81a0d98-b6a4-4a36-99cf-ee725b6c8d2c",
   "metadata": {
    "scrolled": true,
    "tags": []
   },
   "outputs": [],
   "source": [
    "# Построим графики при N = len(df_sqwer) для целевой переменной 'alfa'\n",
    "regplot_plt(df_log_drop, N= len(df_log_drop), fig_x= 6, fig_y = 4, name_Y= 'alfa')"
   ]
  },
  {
   "cell_type": "code",
   "execution_count": null,
   "id": "1f006096-7b52-4070-80b4-fb5edca499f8",
   "metadata": {},
   "outputs": [],
   "source": [
    "# Вероятно, по варианту3  можно проводить регрессивный анализ по целевой переменной  'ALFA'\n",
    "с параметрами 'step_strip', 'density', 'surface_density'"
   ]
  },
  {
   "cell_type": "markdown",
   "id": "2ef69856-7bb7-454c-839d-da53a62c845f",
   "metadata": {},
   "source": [
    "# Вывод! Наши 3 варианта - х2, х3 и log -  не дали явного улучшения выявления зависимости целевой переменной  ALFA от параметров основного df - data-main."
   ]
  },
  {
   "cell_type": "code",
   "execution_count": null,
   "id": "6e21efad-b849-4592-927a-50ee5d37527e",
   "metadata": {},
   "outputs": [],
   "source": []
  },
  {
   "cell_type": "markdown",
   "id": "799134a9-18e3-4ae0-a301-695cde46260c",
   "metadata": {},
   "source": [
    "# ________________________________"
   ]
  },
  {
   "cell_type": "code",
   "execution_count": null,
   "id": "0d5e1c4c-5101-4b18-b489-6da9ee279cb2",
   "metadata": {
    "tags": []
   },
   "outputs": [],
   "source": [
    "# Разделим наш df 'df_add_col' (в котором введен новый целевой параметр 'alfa' и удалены два параметра 'strapery_strength', 'elasticity_module_stretching'\n",
    "# на 2 dataframe по признаку  Угол нашивки - pattern_angle, так как этот признак имеет всего 2 значения 0 и 90 градусов и посмотрим возможные корреляции."
   ]
  },
  {
   "cell_type": "code",
   "execution_count": null,
   "id": "cb8740d9-bfdd-41dc-8158-434d8c9b3039",
   "metadata": {},
   "outputs": [],
   "source": [
    "df_0 = df_add_col[df_add_col['pattern_angle'] == 0.0]\n",
    "\n",
    "df_90 = df_add_col[df_add_col['pattern_angle'] == 90.0]"
   ]
  },
  {
   "cell_type": "code",
   "execution_count": null,
   "id": "0a77effe-dd28-47cd-ae02-8fd4fb1b82d7",
   "metadata": {},
   "outputs": [],
   "source": [
    "# Удалим столбец Угол нашивки - pattern_angle в обоих df"
   ]
  },
  {
   "cell_type": "code",
   "execution_count": null,
   "id": "b10a9af2-3bd0-4f54-b116-d5e23908be1d",
   "metadata": {},
   "outputs": [],
   "source": [
    "df_0 = df_0.drop(['pattern_angle'], axis=1)"
   ]
  },
  {
   "cell_type": "code",
   "execution_count": null,
   "id": "bbe3f85b-9246-4c3e-946f-17a20471d245",
   "metadata": {},
   "outputs": [],
   "source": [
    "df_90 = df_90.drop(['pattern_angle'], axis=1)"
   ]
  },
  {
   "cell_type": "code",
   "execution_count": null,
   "id": "5c9415b8-9cdc-4f33-ac0b-7f39002db622",
   "metadata": {},
   "outputs": [],
   "source": [
    "df_0.describe()"
   ]
  },
  {
   "cell_type": "code",
   "execution_count": null,
   "id": "0dd74ebd-c417-4dda-b2fb-95a3c7d75e35",
   "metadata": {},
   "outputs": [],
   "source": [
    "df_0.info()"
   ]
  },
  {
   "cell_type": "code",
   "execution_count": null,
   "id": "a7a626ae-c986-4378-b638-b7396ac907bb",
   "metadata": {},
   "outputs": [],
   "source": [
    "df_90.describe()"
   ]
  },
  {
   "cell_type": "code",
   "execution_count": null,
   "id": "5d3bb817-359f-40de-8fba-8bc2a283c04c",
   "metadata": {},
   "outputs": [],
   "source": [
    "df_90.info()"
   ]
  },
  {
   "cell_type": "markdown",
   "id": "41b1e567-0289-45eb-ad86-61b499e742a6",
   "metadata": {},
   "source": [
    "Угол нашивки, град                      0\n",
    "Шаг нашивки                             0\n",
    "Плотность нашивки                       0\n",
    "Соотношение матрица-наполнитель         0\n",
    "Плотность, кг/м3                        0\n",
    "модуль упругости, ГПа                   0\n",
    "Количество отвердителя, м.%             0\n",
    "Содержание эпоксидных групп,%_2         0\n",
    "Температура вспышки, С_2                0\n",
    "Поверхностная плотность, г/м2           0\n",
    "Модуль упругости при растяжении, ГПа    0\n",
    "Прочность при растяжении, МПа           0\n",
    "Потребление смолы, г/м2                 0"
   ]
  },
  {
   "cell_type": "code",
   "execution_count": null,
   "id": "ab21b466-ac18-433a-9ba2-eecb861e9527",
   "metadata": {},
   "outputs": [],
   "source": [
    "# Проведем исследование df df_0"
   ]
  },
  {
   "cell_type": "code",
   "execution_count": null,
   "id": "63875b68-8255-4f06-8962-6e7aafa6a9dc",
   "metadata": {
    "scrolled": true,
    "tags": []
   },
   "outputs": [],
   "source": [
    "# Проверим графики зависимости целевой переменной \"alfa\" от других параметров\n",
    "sns.pairplot(df_0.head(470), diag_kind='kde', hue=\"alfa\")"
   ]
  },
  {
   "cell_type": "code",
   "execution_count": null,
   "id": "b02db5a4-b613-4933-8960-e74858f74390",
   "metadata": {},
   "outputs": [],
   "source": [
    "# ПАроверим корреляцию "
   ]
  },
  {
   "cell_type": "code",
   "execution_count": null,
   "id": "15fbb020",
   "metadata": {
    "scrolled": true,
    "tags": []
   },
   "outputs": [],
   "source": [
    "fig, ax = plt.subplots(figsize=(10, 5))\n",
    "sns.heatmap(df_0.corr(), vmin=-1, vmax=1, center=0, cmap=\"BrBG\",\n",
    "                           linewidths=0.1, annot=True)"
   ]
  },
  {
   "cell_type": "code",
   "execution_count": null,
   "id": "0589ae3d-f934-43a5-a6f8-bd55c8ed1d72",
   "metadata": {},
   "outputs": [],
   "source": [
    "# Максимальные корреляции в нащем основном df df_0 для 470  строк\n",
    "print(df_0.head(470).corr().abs().apply(lambda x: sorted(x)[-2]))"
   ]
  },
  {
   "cell_type": "code",
   "execution_count": null,
   "id": "52f3a5f8-7aca-4a0f-95f9-46781adedcf3",
   "metadata": {},
   "outputs": [],
   "source": [
    "# В связи с уменьшением количества элементов-строк в df df_0 - у нас увеличились макс коэффициенты корреляции"
   ]
  },
  {
   "cell_type": "code",
   "execution_count": null,
   "id": "50b2cda2-347a-43c4-a2c7-cb78ae42ab11",
   "metadata": {},
   "outputs": [],
   "source": [
    "# Проверим  получится ли близким коэф корреляции на основном df df_add_col при N = 470"
   ]
  },
  {
   "cell_type": "code",
   "execution_count": null,
   "id": "7fca7988-5ceb-4521-850b-da00f19fc43f",
   "metadata": {},
   "outputs": [],
   "source": [
    "print(df_0.head(470).corr().abs().apply(lambda x: sorted(x)[-2]))"
   ]
  },
  {
   "cell_type": "code",
   "execution_count": null,
   "id": "1c1daf98-6110-4d3e-8c49-44d82c156ad9",
   "metadata": {},
   "outputs": [],
   "source": [
    "# Как видим существенных отличий нет"
   ]
  },
  {
   "cell_type": "code",
   "execution_count": null,
   "id": "c41f0621-33ec-4dd8-a78f-54df2358eae6",
   "metadata": {},
   "outputs": [],
   "source": [
    "# Проведем исследование df df_90"
   ]
  },
  {
   "cell_type": "code",
   "execution_count": null,
   "id": "5ac9f2ea-99b4-43bf-89ff-f2a9bfae98be",
   "metadata": {
    "scrolled": true,
    "tags": []
   },
   "outputs": [],
   "source": [
    "# Проверим графики зависимости целевой переменной \"alfa\" от других параметров\n",
    "sns.pairplot(df_90.head(478), diag_kind='kde', hue=\"alfa\")"
   ]
  },
  {
   "cell_type": "code",
   "execution_count": null,
   "id": "bdec4136-b0d3-45e0-b224-29e6a1ba7d6c",
   "metadata": {},
   "outputs": [],
   "source": [
    "fig, ax = plt.subplots(figsize=(10, 5))\n",
    "sns.heatmap(df_90.corr(), vmin=-1, vmax=1, center=0, cmap=\"BrBG\",\n",
    "                           linewidths=0.1, annot=True)"
   ]
  },
  {
   "cell_type": "code",
   "execution_count": null,
   "id": "24156dce-4da5-4a36-a07c-9f2ecf5bb2e4",
   "metadata": {},
   "outputs": [],
   "source": [
    "# Максимальные корреляции в нащем основном df df_0 для 470  строк\n",
    "print(df_90.head(478).corr().abs().apply(lambda x: sorted(x)[-2]))"
   ]
  },
  {
   "cell_type": "code",
   "execution_count": null,
   "id": "6d97ab51-e303-4b74-9277-9ce3b0611356",
   "metadata": {},
   "outputs": [],
   "source": [
    "# Как видим, коэффициенты корреляции для df df_90 - оказались еще ниже , чем для df df_0!!!!!"
   ]
  },
  {
   "cell_type": "markdown",
   "id": "b2c6ad49-7092-4167-a029-940e6c7c08f0",
   "metadata": {
    "tags": []
   },
   "source": [
    "# Выбор признаков (фич)"
   ]
  },
  {
   "cell_type": "markdown",
   "id": "0847b705-ff70-47ea-a857-4bcc2e159b8a",
   "metadata": {},
   "source": [
    "Таким образом, предлагается взять df_add_col,  т.е. df в котором введен новый целевой пармаетр \"alfa\", \n",
    "как функция от двух целевых связанных параметров 'elasticity_module_stretching', 'strapery_strength'.\n",
    "Удалим из рассмотрения параметр \"pattern_angle', как парметр имеющий всего 2 значения и неоказывающий влияния на конечные данные.\n",
    "Также, для более быстрого и более квалифицированного расчета, мы в качестве целевого параметра принимаем \"alfa\".\n",
    "Из проведенного анализа  полного нашего df data_main и сравнения различных вариантов обработки нелинейными функциями, \n",
    "уберем парметры с минимальной или полностью отсутствующей корреляцией к нашим целевым парметрам, а именно : 'pattern_angle',\n",
    " 'step_strip', 'density_strip', 'ratio_filler_matrix', 'elasticity_module','number_hardeners', 'content_epoxy_groups',\n",
    " 'flash_temperature','resin_consumption'\n",
    "\n",
    "И оставим только парметры :'density', 'number_hardeners','surface_density'"
   ]
  },
  {
   "cell_type": "code",
   "execution_count": null,
   "id": "73a802f9-aae5-4431-8055-5cb614c679da",
   "metadata": {},
   "outputs": [],
   "source": [
    "data_research = df_add_col"
   ]
  },
  {
   "cell_type": "code",
   "execution_count": null,
   "id": "48e577c1-029b-4189-acb9-7543aacd1b1e",
   "metadata": {},
   "outputs": [],
   "source": [
    "data_research.columns"
   ]
  },
  {
   "cell_type": "code",
   "execution_count": null,
   "id": "6e84745c-ff13-4970-bd83-07ba1db4ad4f",
   "metadata": {},
   "outputs": [],
   "source": [
    "data_research = data_research.drop(['pattern_angle', 'step_strip', 'density_strip', 'ratio_filler_matrix',\n",
    "               'elasticity_module', 'content_epoxy_groups', 'flash_temperature', 'resin_consumption'], axis=1)"
   ]
  },
  {
   "cell_type": "code",
   "execution_count": null,
   "id": "7f76a880-b6fa-47ba-8b35-314721b615bc",
   "metadata": {},
   "outputs": [],
   "source": [
    "data_research.describe()"
   ]
  },
  {
   "cell_type": "code",
   "execution_count": null,
   "id": "2b59e70e-d705-40e7-a309-602e65ab3765",
   "metadata": {
    "papermill": {
     "duration": 0.168349,
     "end_time": "2022-02-21T21:06:57.213943",
     "exception": false,
     "start_time": "2022-02-21T21:06:57.045594",
     "status": "completed"
    },
    "tags": []
   },
   "outputs": [],
   "source": [
    "data_research.to_csv('data_research.csv', index=False, float_format=\"%.3f\")"
   ]
  },
  {
   "cell_type": "code",
   "execution_count": null,
   "id": "895b548f-a784-4fad-abdc-a7cbfa5c6fa9",
   "metadata": {},
   "outputs": [],
   "source": [
    "В следующей части нашей работы мы попробуем провести анализ реграссии применительно к нашему набору данных data_research."
   ]
  }
 ],
 "metadata": {
  "kernelspec": {
   "display_name": "Python 3 (ipykernel)",
   "language": "python",
   "name": "python3"
  },
  "language_info": {
   "codemirror_mode": {
    "name": "ipython",
    "version": 3
   },
   "file_extension": ".py",
   "mimetype": "text/x-python",
   "name": "python",
   "nbconvert_exporter": "python",
   "pygments_lexer": "ipython3",
   "version": "3.10.9"
  }
 },
 "nbformat": 4,
 "nbformat_minor": 5
}
