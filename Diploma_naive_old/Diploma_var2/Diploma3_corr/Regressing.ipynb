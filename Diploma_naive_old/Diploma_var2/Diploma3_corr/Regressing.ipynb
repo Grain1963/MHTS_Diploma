{
 "cells": [
  {
   "cell_type": "code",
   "execution_count": null,
   "id": "e1f5a9f9-965b-4afa-a92c-0526aa4db1a8",
   "metadata": {},
   "outputs": [],
   "source": []
  },
  {
   "cell_type": "code",
   "execution_count": null,
   "id": "423f140f-b548-4013-aa8b-72335936b3bd",
   "metadata": {},
   "outputs": [],
   "source": [
    "# Функция печати зависимости 2-x параметров  с выводом линии регрессии\n",
    "# Параметры для передачи в функцию:\n",
    "# df - наш dataframe\n",
    "# N - количество случайных элементов для выборки графика\n",
    "# f_x - размер в figsize по оси Х\n",
    "# f_y - размер в figsize по оси Y\n",
    "# name_x - исследуемый столбец по оси Х\n",
    "# name_у - исследуемый столбец по оси У\n",
    "\n",
    "def regplot_plt(df, N, fig_x, fig_y, name_x, name_y):\n",
    "   \n",
    "    fig, axes = plt.subplots(1, 1, figsize=(fig_x, fig_y,))\n",
    "    sns.regplot(data = data_main.head(N),\n",
    "                x = name_x, \n",
    "                y =  name_y,\n",
    "                ci=None,\n",
    "                ) # ci=None- без доверительного интервала!\n",
    "    plt.show()\n",
    "    return\n",
    "            "
   ]
  },
  {
   "cell_type": "code",
   "execution_count": null,
   "id": "23de0f84-8db7-49bc-9bc0-7c910d1e7188",
   "metadata": {},
   "outputs": [],
   "source": [
    "# # разбиваем датасет на файлы с процентным соотношением числа файлов train, validate, test  - 60/20/20\n",
    "# взято из https://qastack.ru/programming/38250710/how-to-split-data-into-3-sets-train-validation-and-test\n",
    "def train_validate_test_split(df, train_percent=.60, validate_percent=.20, seed=10):\n",
    "    np.random.seed(seed)\n",
    "    perm = np.random.permutation(df.index)\n",
    "    m = len(df.index)\n",
    "    train_end = int(train_percent * m)\n",
    "    validate_end = int(validate_percent * m) + train_end\n",
    "    train = df.iloc[perm[:train_end]]\n",
    "    validate = df.iloc[perm[train_end:validate_end]]\n",
    "    test = df.iloc[perm[validate_end:]]\n",
    "    return train, validate, test"
   ]
  },
  {
   "cell_type": "code",
   "execution_count": null,
   "id": "795154b7-083c-4f44-9975-09aeb7e28e62",
   "metadata": {},
   "outputs": [],
   "source": [
    "train, validate, test = train_validate_test_split(data_main)"
   ]
  },
  {
   "cell_type": "code",
   "execution_count": null,
   "id": "ca640c6c-3793-4217-8456-7f8bc46bf697",
   "metadata": {},
   "outputs": [],
   "source": [
    "train.shape"
   ]
  },
  {
   "cell_type": "code",
   "execution_count": null,
   "id": "2f27c410-8cf8-4926-82fe-3df9d0181932",
   "metadata": {},
   "outputs": [],
   "source": [
    "validate.shape"
   ]
  },
  {
   "cell_type": "code",
   "execution_count": null,
   "id": "bfdc1da2-ebd3-415a-a993-17f0954b062c",
   "metadata": {},
   "outputs": [],
   "source": [
    "test.shape"
   ]
  },
  {
   "cell_type": "markdown",
   "id": "a0b3bd16-6ab7-446f-bea9-a55f877da423",
   "metadata": {
    "tags": []
   },
   "source": [
    "# Собираем датасет"
   ]
  },
  {
   "cell_type": "code",
   "execution_count": null,
   "id": "63424698-8f46-4a76-9b9e-63a20b8b6d86",
   "metadata": {},
   "outputs": [],
   "source": [
    "data_main.columns"
   ]
  },
  {
   "cell_type": "code",
   "execution_count": null,
   "id": "ba921b96-7d01-411b-9671-c78b5259b7e0",
   "metadata": {
    "papermill": {
     "duration": 0.168349,
     "end_time": "2022-02-21T21:06:57.213943",
     "exception": false,
     "start_time": "2022-02-21T21:06:57.045594",
     "status": "completed"
    },
    "tags": []
   },
   "outputs": [],
   "source": [
    "X=data_main.drop(['step_strip', 'density_strip', 'ratio_filler_matrix', 'density',\n",
    "       'elasticity_module', 'flash_temperature'], axis=1)\n",
    "\n",
    "y=data_main['elasticity_module_stretching']"
   ]
  },
  {
   "cell_type": "code",
   "execution_count": null,
   "id": "ff0638c4-4aae-4b42-973e-07cd29e1245f",
   "metadata": {
    "papermill": {
     "duration": 0.167205,
     "end_time": "2022-02-21T21:06:57.538050",
     "exception": false,
     "start_time": "2022-02-21T21:06:57.370845",
     "status": "completed"
    },
    "tags": []
   },
   "outputs": [],
   "source": [
    "X.shape, y.shape valid"
   ]
  },
  {
   "cell_type": "code",
   "execution_count": null,
   "id": "6a26f033-3a29-4d39-a943-27c277d6c560",
   "metadata": {},
   "outputs": [],
   "source": [
    "Разбиваем X на X_train_full и X_test_full в пропорции 80/20, а y  на  y_train_full и y_test_full"
   ]
  },
  {
   "cell_type": "code",
   "execution_count": null,
   "id": "f8b122dd-b8dd-4acc-8699-346c31b5fbf0",
   "metadata": {},
   "outputs": [],
   "source": [
    "X_train_full, X_test_full, y_train_full, y_test_full = train_test_split(X, y, train_size = 0.8, test_size=0.2, random_state = 10) # 10!!!"
   ]
  },
  {
   "cell_type": "markdown",
   "id": "e13b1a3a-4070-4ea6-a297-92f0450eb8da",
   "metadata": {},
   "source": [
    "Разбиваем X_train_full на X_train и X_valid в пропорции 80/20, а y_train_full на  y_train и y_valid"
   ]
  },
  {
   "cell_type": "code",
   "execution_count": null,
   "id": "2e2fa252-c883-4525-96e1-1a7f276efe72",
   "metadata": {
    "papermill": {
     "duration": 0.17132,
     "end_time": "2022-02-21T21:06:58.184124",
     "exception": false,
     "start_time": "2022-02-21T21:06:58.012804",
     "status": "completed"
    },
    "tags": []
   },
   "outputs": [],
   "source": [
    "X_train, X_valid, y_train, y_valid = train_test_split(X_train_full, y_train_full, train_size = 0.8, test_size=0.2, random_state = 10) # 10!!!"
   ]
  },
  {
   "cell_type": "markdown",
   "id": "38547c4b-0d48-4f07-9819-ff0c3ec410cf",
   "metadata": {},
   "source": [
    "# Логистическая регрессия"
   ]
  },
  {
   "cell_type": "code",
   "execution_count": null,
   "id": "55be0c47-0d5b-44ae-9a39-7991d8463c0b",
   "metadata": {},
   "outputs": [],
   "source": [
    "model = LogisticRegression(max_iter=500, random_state=0, verbose=1)\n",
    "model.fit(X_train, y_train)"
   ]
  },
  {
   "cell_type": "markdown",
   "id": "90658857-c445-481d-bab5-2cf02de037a1",
   "metadata": {
    "papermill": {
     "duration": 0.147952,
     "end_time": "2022-02-21T21:06:59.146712",
     "exception": false,
     "start_time": "2022-02-21T21:06:58.998760",
     "status": "completed"
    },
    "tags": []
   },
   "source": [
    "# Линейная регрессия"
   ]
  },
  {
   "cell_type": "code",
   "execution_count": null,
   "id": "4b1afbe1-08e4-401e-91c1-fd7d0518d221",
   "metadata": {
    "papermill": {
     "duration": 0.159518,
     "end_time": "2022-02-21T21:06:59.459130",
     "exception": false,
     "start_time": "2022-02-21T21:06:59.299612",
     "status": "completed"
    },
    "tags": []
   },
   "outputs": [],
   "source": [
    "model = LinearRegression()"
   ]
  },
  {
   "cell_type": "code",
   "execution_count": null,
   "id": "57e9990f-d7d2-4c39-af7a-3e5fdffd9952",
   "metadata": {
    "papermill": {
     "duration": 0.343056,
     "end_time": "2022-02-21T21:06:59.952909",
     "exception": false,
     "start_time": "2022-02-21T21:06:59.609853",
     "status": "completed"
    },
    "tags": []
   },
   "outputs": [],
   "source": [
    "model.fit(X_train_full, y_train)"
   ]
  },
  {
   "cell_type": "code",
   "execution_count": null,
   "id": "be49046d-3f69-441f-8b13-b600e907cd2d",
   "metadata": {
    "papermill": {
     "duration": 0.162208,
     "end_time": "2022-02-21T21:07:00.574372",
     "exception": false,
     "start_time": "2022-02-21T21:07:00.412164",
     "status": "completed"
    },
    "tags": []
   },
   "outputs": [],
   "source": [
    "model.coef_"
   ]
  },
  {
   "cell_type": "code",
   "execution_count": null,
   "id": "cb486188-8891-49aa-9f55-b8f3a2e8b660",
   "metadata": {
    "papermill": {
     "duration": 0.170612,
     "end_time": "2022-02-21T21:07:00.897282",
     "exception": false,
     "start_time": "2022-02-21T21:07:00.726670",
     "status": "completed"
    },
    "tags": []
   },
   "outputs": [],
   "source": [
    "pd.DataFrame(model.coef_, X_train.columns)"
   ]
  },
  {
   "cell_type": "markdown",
   "id": "a7d2d7d3-ba12-4e3f-ba62-e59086fda5c7",
   "metadata": {
    "papermill": {
     "duration": 0.159347,
     "end_time": "2022-02-21T21:07:01.220996",
     "exception": false,
     "start_time": "2022-02-21T21:07:01.061649",
     "status": "completed"
    },
    "tags": []
   },
   "source": [
    "# Оценка модели"
   ]
  },
  {
   "cell_type": "code",
   "execution_count": null,
   "id": "db643ad9-dc31-4e54-ae2c-cc7d500c40b5",
   "metadata": {
    "papermill": {
     "duration": 0.17301,
     "end_time": "2022-02-21T21:07:01.556867",
     "exception": false,
     "start_time": "2022-02-21T21:07:01.383857",
     "status": "completed"
    },
    "tags": []
   },
   "outputs": [],
   "source": [
    "y_pred = model.predict(X_test)"
   ]
  },
  {
   "cell_type": "code",
   "execution_count": null,
   "id": "fd521c78-bcb0-4d67-a7c5-1b42d3c5731a",
   "metadata": {
    "papermill": {
     "duration": 0.162738,
     "end_time": "2022-02-21T21:07:02.470219",
     "exception": false,
     "start_time": "2022-02-21T21:07:02.307481",
     "status": "completed"
    },
    "tags": []
   },
   "outputs": [],
   "source": [
    "MAE = metrics.mean_absolute_error(y_test, y_pred)\n",
    "MSE = metrics.mean_squared_error(y_test, y_pred)"
   ]
  },
  {
   "cell_type": "code",
   "execution_count": null,
   "id": "f89816c4-8511-44b6-bb69-954b01dd0a83",
   "metadata": {
    "papermill": {
     "duration": 0.161021,
     "end_time": "2022-02-21T21:07:02.782544",
     "exception": false,
     "start_time": "2022-02-21T21:07:02.621523",
     "status": "completed"
    },
    "tags": []
   },
   "outputs": [],
   "source": [
    "MAE"
   ]
  },
  {
   "cell_type": "code",
   "execution_count": null,
   "id": "ab5e86df-bf84-4c92-b9f8-6570aa921a37",
   "metadata": {
    "papermill": {
     "duration": 0.171091,
     "end_time": "2022-02-21T21:07:03.108712",
     "exception": false,
     "start_time": "2022-02-21T21:07:02.937621",
     "status": "completed"
    },
    "tags": []
   },
   "outputs": [],
   "source": [
    "MSE"
   ]
  },
  {
   "cell_type": "code",
   "execution_count": null,
   "id": "d529caa1-b8fc-41ac-8a52-985959ff41be",
   "metadata": {
    "papermill": {
     "duration": 0.167669,
     "end_time": "2022-02-21T21:07:03.773400",
     "exception": false,
     "start_time": "2022-02-21T21:07:03.605731",
     "status": "completed"
    },
    "tags": []
   },
   "outputs": [],
   "source": [
    "MAE / y_train.mean()"
   ]
  },
  {
   "cell_type": "code",
   "execution_count": null,
   "id": "3d9fbca5-5441-41d5-8f6e-0e4c019b59dc",
   "metadata": {},
   "outputs": [],
   "source": []
  },
  {
   "cell_type": "code",
   "execution_count": null,
   "id": "09059c0a-af4d-4b83-b447-2098c02d1589",
   "metadata": {},
   "outputs": [],
   "source": [
    "вариант 2 взято у Яны"
   ]
  },
  {
   "cell_type": "markdown",
   "id": "18f3400e-8346-477a-afc3-46293453a17c",
   "metadata": {
    "_uuid": "1c10d5d48b611a9c66e1c99e66c44f6b36191a92",
    "tags": []
   },
   "source": [
    "# Линейная регрессия"
   ]
  },
  {
   "cell_type": "markdown",
   "id": "1060c444-9d0b-462a-801d-9f2bce437ca7",
   "metadata": {},
   "source": [
    "$y = w_0 + w_1x_1$"
   ]
  },
  {
   "cell_type": "code",
   "execution_count": null,
   "id": "f840bfc1-3b78-4603-a9a1-00596a709e48",
   "metadata": {},
   "outputs": [],
   "source": [
    "import statsmodels.api as sm"
   ]
  },
  {
   "cell_type": "code",
   "execution_count": null,
   "id": "d0a0feab-a978-4906-b728-ec205847e63b",
   "metadata": {
    "_uuid": "b80a766082e6c9c40c3f09499fec4cfc51f62763"
   },
   "outputs": [],
   "source": [
    "# Добавляем константу w0, так как в библиотеке sm она не предусмотрена\n",
    "X_train_full = sm.add_constant(X_train)\n",
    "X_train_full"
   ]
  },
  {
   "cell_type": "code",
   "execution_count": null,
   "id": "cdff1b04-af89-4dfd-a7eb-76715b382903",
   "metadata": {},
   "outputs": [],
   "source": [
    "# OLS - ordinary least squares\n",
    "model = sm.OLS(y_train, X_train_full).fit()"
   ]
  },
  {
   "cell_type": "code",
   "execution_count": null,
   "id": "c39a855c-7e9d-490b-a45c-f44e4fbbdd43",
   "metadata": {
    "_uuid": "fd4287b550d2f05555ae3e18d6f497912424f8cf"
   },
   "outputs": [],
   "source": [
    "model.params"
   ]
  },
  {
   "cell_type": "code",
   "execution_count": null,
   "id": "c0153907-15ad-406c-9cf9-b3975e8fdd91",
   "metadata": {
    "_uuid": "f841995801587a25a9b4c4b77ef396e538e9ad1f"
   },
   "outputs": [],
   "source": [
    "model.summary()"
   ]
  },
  {
   "cell_type": "markdown",
   "id": "17cde549-88dd-4b31-ad95-8a2f17aab9ef",
   "metadata": {},
   "source": [
    "# Коллинеа́рность — отношение параллельности векторов: два ненулевых вектора называются коллинеарными, \n",
    "# если они лежат на параллельных прямых или на одной прямой."
   ]
  },
  {
   "cell_type": "code",
   "execution_count": null,
   "id": "53a749cf-c410-4236-81ce-93059492a8da",
   "metadata": {
    "_uuid": "6e0dc97a88b9fc1d4e975c2fe511e59bd0cd2b8a",
    "scrolled": true
   },
   "outputs": [],
   "source": [
    "plt.scatter(X_train, y_train)\n",
    "plt.plot(X_train, 7.143822 + 0.054732 * X_train, 'r')\n",
    "plt.show()"
   ]
  },
  {
   "cell_type": "markdown",
   "id": "22d8cce3-aea6-40af-ad6f-b0f8c05bf53f",
   "metadata": {
    "_uuid": "70d9188db6c5b404c66c0a1bc2b9002a86121318"
   },
   "source": [
    "# Оценка модели"
   ]
  },
  {
   "cell_type": "code",
   "execution_count": null,
   "id": "acc25f0a-a615-4e80-9bcb-41f90c3abe7b",
   "metadata": {
    "_uuid": "f0bed7ce820292dceee1c3b00b9ecbcb9fdbbd37"
   },
   "outputs": [],
   "source": [
    "X_test_full = sm.add_constant(X_test)\n",
    "y_pred = model.predict(X_test_full)"
   ]
  },
  {
   "cell_type": "code",
   "execution_count": null,
   "id": "59635604-de55-4995-8f40-401d9514c5e7",
   "metadata": {
    "_uuid": "58863bc73dfa751e6bade66b3b71f80be51d9ca6"
   },
   "outputs": [],
   "source": [
    "mean_squared_error(y_test, y_pred)"
   ]
  },
  {
   "cell_type": "code",
   "execution_count": null,
   "id": "a2166b82-32a3-423a-9075-f6a9a04e1236",
   "metadata": {},
   "outputs": [],
   "source": [
    "mean_absolute_error(y_test, y_pred)"
   ]
  },
  {
   "cell_type": "code",
   "execution_count": null,
   "id": "d21d0aa3-e3e8-40ac-99cc-d764c832edd3",
   "metadata": {
    "_uuid": "eb08ac34d4e148e3221adfe126072f108adbfa24",
    "scrolled": true
   },
   "outputs": [],
   "source": [
    "plt.scatter(X_test, y_test)\n",
    "plt.plot(X_test, 7.143822 + 0.054732 * X_test, 'r')\n",
    "plt.show()"
   ]
  },
  {
   "cell_type": "code",
   "execution_count": null,
   "id": "1a69eaff-a91b-492f-93bc-02b8c8e643a2",
   "metadata": {},
   "outputs": [],
   "source": []
  },
  {
   "cell_type": "code",
   "execution_count": null,
   "id": "a6e98c7d-bceb-47fc-9964-93d5f3326105",
   "metadata": {},
   "outputs": [],
   "source": [
    "sns.set(style = 'darkgrid')\n",
    "fit, axis = plt.subplots(1, 3, figsiz = 12, 4)\n",
    "sns.histplt(data=X, x='name_column 1', kse = True, ax = axs[0], olor = 'green'\n",
    "sns.histplt(data=X, x='name_column 2', kse = True, ax = axs[1], olor = 'skblue')\n",
    "sns.histplt(data=X, x='name_column 3', kse = True, ax = axs[2], olor = 'orange')"
   ]
  },
  {
   "cell_type": "code",
   "execution_count": null,
   "id": "ace428be-8382-486c-8ca3-65a21f53d067",
   "metadata": {},
   "outputs": [],
   "source": [
    "sns.pairplot(f.had(100), diag_kind"
   ]
  }
 ],
 "metadata": {
  "kernelspec": {
   "display_name": "Python 3 (ipykernel)",
   "language": "python",
   "name": "python3"
  },
  "language_info": {
   "codemirror_mode": {
    "name": "ipython",
    "version": 3
   },
   "file_extension": ".py",
   "mimetype": "text/x-python",
   "name": "python",
   "nbconvert_exporter": "python",
   "pygments_lexer": "ipython3",
   "version": "3.10.9"
  }
 },
 "nbformat": 4,
 "nbformat_minor": 5
}
