{
 "cells": [
  {
   "cell_type": "code",
   "execution_count": null,
   "id": "6bf243c3-16ca-45f2-bb5e-47b0bc497ce8",
   "metadata": {},
   "outputs": [],
   "source": [
    "# Блок 2 Корреляционные зависимости"
   ]
  },
  {
   "cell_type": "code",
   "execution_count": null,
   "id": "4b0aa8ba-cc58-433d-b026-a3c97000a175",
   "metadata": {},
   "outputs": [],
   "source": [
    "# Импортируем в проект требуемые библиотеки\n",
    "\n",
    "# Блок основных библиотек\n",
    "import pandas as pd # библиотека для обработки и анализа данных\n",
    "import numpy as np\n",
    "import seaborn as sns # библиотека для создания статистических графиков\n",
    "import random #  генераторатор случайных чисел и данных\n",
    "import os # библиотека функций для работы с операционной системой.\n",
    "\n",
    "# Блок модулей и библиотек для построения графиков\n",
    "import matplotlib\n",
    "import matplotlib.pyplot as plt\n",
    "from matplotlib import cm\n",
    "import plotly\n",
    "import plotly.graph_objs as go\n",
    "import plotly.express as px\n",
    "from plotly.subplots import make_subplots\n",
    "from scipy.interpolate import make_interp_spline\n",
    "from scipy.interpolate import interp1d\n",
    "%matplotlib inline\n",
    "sns.set_style('darkgrid')\n",
    "# from mpl_toolkits.mplot3d import Axes3D\n",
    "\n",
    "# Блок библиотек и модулей для статистического и корреляционного анализа\n",
    "from sklearn.preprocessing import MinMaxScaler\n",
    "from sklearn.preprocessing import StandardScaler\n",
    "import scipy\n",
    "from scipy import stats # для метода обнаружения Q и IQR,  а также z-корреляции\n",
    "from scipy.stats import mstats\n",
    "import ydata_profiling  # Модуль статистического отчета. Форма pandas_profiling!!!! отменяется c 1-го апреля 2023 г\n",
    "\n",
    "# Блок исключеия вывода предупреждающих ошибок\n",
    "import warnings\n",
    "warnings.simplefilter(action='ignore', category=FutureWarning)\n",
    "warnings.simplefilter(action='ignore', category=UserWarning)"
   ]
  },
  {
   "cell_type": "code",
   "execution_count": null,
   "id": "adc186d2-2977-4886-9be4-4702eb9ce986",
   "metadata": {},
   "outputs": [],
   "source": [
    "data_main_clean = pd.read_csv(r'C:\\Users\\grain\\Work_folder\\Diplom_MGTU\\Diploma_var\\data_main_clean.csv')\n"
   ]
  },
  {
   "cell_type": "code",
   "execution_count": null,
   "id": "8f410bb3-5e48-456e-a10a-f7a4eaaebfc8",
   "metadata": {},
   "outputs": [],
   "source": [
    "data_main_clean.head().T"
   ]
  },
  {
   "cell_type": "code",
   "execution_count": null,
   "id": "5bacdba2-62a1-4f6c-9462-47ec27ad13ac",
   "metadata": {},
   "outputs": [],
   "source": [
    "data_main_clean.info()"
   ]
  },
  {
   "cell_type": "markdown",
   "id": "7f718734-a256-414d-af63-01c5c03c37c8",
   "metadata": {},
   "source": [
    "# В соответствии с теорией хрупкого разрушения (теория Гриффита) прочность (σр) определяется удельной энергией (α)\n",
    "# вновь образованной поверхности разрушения: (σр) = f( α * Е) где Е – модуль упругости материала\n",
    "т.е. (σр) это 'Прочность при растяжении' - 'strapery_strength' (размерность в Мпа),  \n",
    "а E  это 'Модуль упругости при растяжении' - 'elasticity_module_stretching'(размерность в ГПа ,т.е в 1000 раз болье чем σр)\n",
    "введем еще оди признак/столбец - 'удельную энергию ' - 'energy density' (α) = σр / Е\n"
   ]
  },
  {
   "cell_type": "code",
   "execution_count": null,
   "id": "a7085dfe-a33d-4314-88f4-e3ee41fc55e7",
   "metadata": {},
   "outputs": [],
   "source": [
    "# введем новый признак ALFA\n",
    "df_add_col = data_main_clean.assign(alfa = data_main_clean.strapery_strength /data_main_clean.elasticity_module_stretching)"
   ]
  },
  {
   "cell_type": "code",
   "execution_count": null,
   "id": "7b1a3959-8a0c-41b3-a585-8b1f0e951510",
   "metadata": {},
   "outputs": [],
   "source": [
    "df_add_col.info()"
   ]
  },
  {
   "cell_type": "code",
   "execution_count": null,
   "id": "178a6b14-bd36-4149-99ff-0ccd2a7c1673",
   "metadata": {},
   "outputs": [],
   "source": [
    "# Уменьшим размерности переменных в файле df_add_col"
   ]
  },
  {
   "cell_type": "code",
   "execution_count": null,
   "id": "8210326f-545e-47ed-8ef8-ef4418b12a40",
   "metadata": {
    "tags": []
   },
   "outputs": [],
   "source": [
    "# Функция оптимизации типов в dataframe.\n",
    "# !!!! Код взят из источника https://github.com/ellavs/python-pandas-optimize-dataframe-memory-usage\n",
    "\n",
    "def optimize_memory_usage(df, print_size=True):\n",
    "\n",
    "# Types for optimization.\n",
    "    # Типы, которые будем проверять на оптимизацию.\n",
    "    numerics = ['int16', 'int32', 'int64', 'float16', 'float32', 'float64']\n",
    "    # Memory usage size before optimize (Mb).\n",
    "    # (RU) Размер занимаемой памяти до оптимизации (в Мб).\n",
    "    before_size = df.memory_usage().sum() / 1024**2    \n",
    "    for column in df.columns:\n",
    "        column_type = df[column].dtypes\n",
    "        if column_type in numerics:\n",
    "            column_min = df[column].min()\n",
    "            column_max = df[column].max()\n",
    "            if str(column_type).startswith('int'):\n",
    "                if column_min > np.iinfo(np.int32).min and column_max < np.iinfo(np.int32).max:\n",
    "                    df[column] = df[column].astype(np.int32)\n",
    "                elif column_min > np.iinfo(np.int64).min and column_max < np.iinfo(np.int64).max:\n",
    "                    df[column] = df[column].astype(np.int64)  \n",
    "            else:\n",
    "                if column_min > np.finfo(np.float32).min and column_max < np.finfo(np.float32).max:\n",
    "                    df[column] = df[column].astype(np.float32)\n",
    "                else:\n",
    "                    df[column] = df[column].astype(np.float64)    \n",
    "    # Memory usage size after optimize (Mb).\n",
    "    # (RU) Размер занимаемой памяти после оптимизации (в Мб).\n",
    "    after_size = df.memory_usage().sum() / 1024**2\n",
    "    if print_size: print('Memory usage size: before {:5.4f} Mb - after {:5.4f} Mb ({:.1f}%).'.format(before_size, after_size, 100 * (before_size - after_size) / before_size))\n",
    "    return df\n",
    "\n",
    "def import_data_from_csv(df):\n",
    "    # Show dataframe info before optimize.\n",
    "    # (RU) Показать информацию о таблице до оптимизации.\n",
    "    print('-' * 80)\n",
    "    print(df.info())\n",
    "    print('-' * 80)\n",
    "    # (RU) Оптимизация типов в dataframe.\n",
    "    df = optimize_memory_usage(df) # используем функцию optimize_memory_usage , созданую выше\n",
    "    # Show dataframe info after optimize.\n",
    "    # (RU) Показать информацию о таблице после оптимизации.\n",
    "    print('-' * 80)\n",
    "    print(df.info())\n",
    "    print('-' * 80)\n",
    "    return df"
   ]
  },
  {
   "cell_type": "code",
   "execution_count": null,
   "id": "bcaeb255-5198-4d2c-837d-d864315e7e98",
   "metadata": {
    "scrolled": true,
    "tags": []
   },
   "outputs": [],
   "source": [
    "# Вызываем функцию import_data_from_csv для уменьшения размерности переменных в файле \n",
    "\n",
    "df_add_col = import_data_from_csv(df_add_col)"
   ]
  },
  {
   "cell_type": "code",
   "execution_count": null,
   "id": "0a6a9107-c43d-4071-aa94-2303debbd373",
   "metadata": {},
   "outputs": [],
   "source": [
    "df_add_col.apply(lambda x: x.nunique())"
   ]
  },
  {
   "cell_type": "code",
   "execution_count": null,
   "id": "eb6805bb-d86f-4bb3-8060-90afe4bbe2b9",
   "metadata": {},
   "outputs": [],
   "source": [
    "df_add_col.profile_report()"
   ]
  },
  {
   "cell_type": "code",
   "execution_count": null,
   "id": "47a1aa7f-a0ce-4754-9c79-f198f053ea6d",
   "metadata": {},
   "outputs": [],
   "source": [
    "Продолжаем работу над исследованием нашего df - df_add_col"
   ]
  },
  {
   "cell_type": "code",
   "execution_count": null,
   "id": "da3f920f-1221-480d-8d66-52eb6ce97475",
   "metadata": {},
   "outputs": [],
   "source": [
    "# Начало блока исследования коэффициентов корреляции_________________________________________________________"
   ]
  },
  {
   "cell_type": "code",
   "execution_count": null,
   "id": "97dcb035-6de4-4a25-8a62-e043bddecc5f",
   "metadata": {},
   "outputs": [],
   "source": [
    "# Построим корреляционную матрицу\n",
    "plt.figure(figsize=(18,8))\n",
    "corr_heatmap = sns.heatmap(df_add_col.corr(), vmin=-1, vmax=1, center=0, cmap=\"BrBG\",\n",
    "                           linewidths=0.1, annot=True)\n",
    "corr_heatmap.set_title('Корреляционная матрица', fontdict={'fontsize': 18}, pad=12)\n",
    "plt.show()\n",
    "#plt.savefig('corr_heatmap.png')"
   ]
  },
  {
   "cell_type": "code",
   "execution_count": null,
   "id": "3fbbdf8c-ea1f-450c-933c-ea2a064b4d0d",
   "metadata": {},
   "outputs": [],
   "source": [
    "# Максимальные корреляции в нащем df для полного объема строк \n",
    "print(df_add_col.corr().abs().apply(lambda x: sorted(x)[-2]))"
   ]
  },
  {
   "cell_type": "code",
   "execution_count": null,
   "id": "46272481-921c-4b4f-863b-44a3c7d8d54d",
   "metadata": {},
   "outputs": [],
   "source": [
    "# Максимальные корреляции в нащем df для первых 100 строк \n",
    "print(df_add_col.head(100).corr().abs().apply(lambda x: sorted(x)[-2]))"
   ]
  },
  {
   "cell_type": "code",
   "execution_count": null,
   "id": "7b22b15b-b657-4222-98ca-741aa6b0544b",
   "metadata": {},
   "outputs": [],
   "source": [
    "# Максимальные коэффициенты корреляции увеличились. \n",
    "# Исследуем влияние количества строк в выборке  на максимальные коэффициенты кореляции"
   ]
  },
  {
   "cell_type": "code",
   "execution_count": null,
   "id": "72055985-e92d-4242-be7a-5d44ef3097ba",
   "metadata": {},
   "outputs": [],
   "source": [
    "list(df_add_col)"
   ]
  },
  {
   "cell_type": "code",
   "execution_count": null,
   "id": "a649496b-aaeb-49d5-b26d-1a88bda04c54",
   "metadata": {},
   "outputs": [],
   "source": [
    "# Создадим DF для максимумов коэффициентов корреляции для разных значений количества  строк выборки значений от 100 до len(data_main_clean)\n",
    "df_corr_value = pd.DataFrame(columns= [100, 150, 200, 250, 300, 350, 400, 450, 500, 550, 600, 650,  700, 750, 800, 850, 900, len(data_main_clean)],\n",
    "                             index = list(df_add_col)\n",
    "                            )"
   ]
  },
  {
   "cell_type": "code",
   "execution_count": null,
   "id": "5978cdaa-0293-49ba-bb9e-5ea22b98402f",
   "metadata": {},
   "outputs": [],
   "source": [
    "df_corr_value.head(13)"
   ]
  },
  {
   "cell_type": "markdown",
   "id": "85be101c-7462-4fe2-a6e5-cfbe2e04c4c2",
   "metadata": {
    "tags": []
   },
   "source": [
    "# Сначала сделаем для ПЕРВЫХ N-строк, а затем сделаем для СЛУЧАЙНЫХ N -строк\n",
    "# для ПЕРВЫХ N-строк"
   ]
  },
  {
   "cell_type": "code",
   "execution_count": null,
   "id": "161b84ce-ed56-44bc-a6eb-bd151da2750e",
   "metadata": {
    "tags": []
   },
   "outputs": [],
   "source": [
    "# Взято df.head(column).corr().abs().apply(lambda x: sorted(x)[-2]) \n",
    "# из https://stackoverflow.com/questions/29294983/how-to-calculate-correlation-between-all-columns-and-remove-highly-correlated-on\n",
    "\n",
    "# Функция value_corr_show заполняет df_corr_value максимальными значениями для коэффициентов корреляции по каждому параметру\n",
    "# при разных значениях N -числа СЛУЧАЙНЫХ выборок из нашего DataFrame от 100 до 1000\n",
    "# df - наш основной исследуемый DF\n",
    "# df_corr_value - df для максимальных значений коэффициентов корреляции \n",
    "# при разных значениях N - количества СЛУЧАЙНЫХ  выбраных значений из DF\n",
    "\n",
    "def value_corr_show(df, df_corr_value):\n",
    "    for column in df_corr_value.columns:\n",
    "        df_corr_value[column] = df.head(column).corr().abs().apply(lambda x: sorted(x)[-2]).round(3)\n",
    "    return(df_corr_value)"
   ]
  },
  {
   "cell_type": "code",
   "execution_count": null,
   "id": "b9c4ac7e-e117-4dba-9220-d1f2089c074b",
   "metadata": {
    "tags": []
   },
   "outputs": [],
   "source": [
    "value_corr_show(df_add_col, df_corr_value)"
   ]
  },
  {
   "cell_type": "code",
   "execution_count": null,
   "id": "dbf140b3-67bd-4cf9-893a-984b37efd498",
   "metadata": {
    "tags": []
   },
   "outputs": [],
   "source": [
    "df_corr_value.isna().sum()  # в df  есть пропущенные значения в параметре pattern_angle"
   ]
  },
  {
   "cell_type": "code",
   "execution_count": null,
   "id": "dde36561-7569-4064-9564-96f3be463b3c",
   "metadata": {},
   "outputs": [],
   "source": [
    "df_corr_value.fillna(0.082, inplace= True) #.round(3) # Заменили занчения Nan на 0.082 - ближайшее известное значение"
   ]
  },
  {
   "cell_type": "code",
   "execution_count": null,
   "id": "90759f90-0096-4c56-b844-7894183b4b6d",
   "metadata": {},
   "outputs": [],
   "source": [
    "df_corr_value.isna().sum()"
   ]
  },
  {
   "cell_type": "code",
   "execution_count": null,
   "id": "b5b14e32-b0bb-4b5b-baa3-3221554b7973",
   "metadata": {},
   "outputs": [],
   "source": [
    "# Рассмотрим Графики изменения размера корреляции от количества  N строк выборки"
   ]
  },
  {
   "cell_type": "code",
   "execution_count": null,
   "id": "0e2f2d48-9683-47b7-b289-7dc8ddf17ffa",
   "metadata": {},
   "outputs": [],
   "source": [
    "print('Графики изменения размереа корреляции от количества N строк выборки')\n",
    "fig, axs = plt.subplots(1, 1, figsize=(12, 7))\n",
    "for index in range(len(df_corr_value)):\n",
    "    if index  == 13:\n",
    "        continue\n",
    "    x = df_corr_value.columns \n",
    "    y = df_corr_value.iloc[index]\n",
    "    plt.plot( x, y, label= df_corr_value.index[index])\n",
    "    plt.xlabel('Количество элементов в выборке N', fontsize=10, color='blue')\n",
    "    plt.ylabel('Коэффициент корреляции МАХ', fontsize=10, color='blue')\n",
    "    plt.legend()\n",
    "    plt.grid(True)   \n",
    "    # plt.show() # если включить , то будут рисоваться все 13 графиков на отдельных фреймах\n",
    "      "
   ]
  },
  {
   "cell_type": "code",
   "execution_count": null,
   "id": "2cacb5e4-9d1d-4904-8426-59301161d7ec",
   "metadata": {
    "tags": []
   },
   "outputs": [],
   "source": [
    "plt.figure(figsize = (20,10))\n",
    "plt.title('Графики изменения размера корреляции от количества  N строк выборки')\n",
    "a = 5 # количество строк\n",
    "b = 3 # количество столцбцов\n",
    "c = 1 # инициализация plot counter\n",
    "for index in range(len(df_corr_value)):\n",
    "    plt.subplot(a, b, c)\n",
    "    \n",
    "    x = df_corr_value.columns \n",
    "    y = df_corr_value.iloc[index]\n",
    "    plt.plot( x, y, label= df_corr_value.index[index])\n",
    "    plt.xlabel('Количество элементов в выборке N', fontsize=5, color='blue')\n",
    "    plt.ylabel('Коэффициент корреляции МАХ', fontsize=5, color='blue')\n",
    "    plt.legend()\n",
    "    plt.grid(True) \n",
    "    c = c +1   "
   ]
  },
  {
   "cell_type": "markdown",
   "id": "3bf471f1-f440-465a-b19d-dd05b26a9f5f",
   "metadata": {
    "tags": []
   },
   "source": [
    "Рассмотрим более внимательно каждый график отдельно\n",
    "Нарисуем плавный график используюя модуль сглаживания X_Y_Spline = make_interp_spline(x, y)\n",
    "или кубической функции cubic_interpolation_model = interp1d(x, y, kind = \"cubic\"\n",
    "plt.title('Графики изменения размера корреляции параметров от количества  N строк выборки')\n",
    "index_param = df_corr_value.index.tolist()\n",
    "\n",
    "for i in range(len(df_corr_value)):\n",
    "  \n",
    "    x = df_corr_value.columns \n",
    "    y = df_corr_value.iloc[i]\n",
    "    '''\n",
    "    # Плавная кривая сплайна\n",
    "    X_Y_Spline = make_interp_spline(x, y) \n",
    "    # Возвращает равномерно распределенные числа\n",
    "    # через указанный интервал - 50\n",
    "    X_ = np.linspace(x.min(), x.max(), 50)\n",
    "    Y_ = X_Y_Spline(X_)\n",
    "    '''\n",
    "    # Плавная кубическая кривая сплайна\n",
    "    cubic_interpolation_model = interp1d(x, y, kind = \"cubic\")\n",
    "    X_=np.linspace(x.min(), x.max(), 500)\n",
    "    Y_=cubic_interpolation_model(X_)\n",
    "    print('Параметр - ', index_param[i])\n",
    "    plt.plot(X_, Y_)\n",
    "    plt.xlabel('Количество элементов в выборке N', fontsize=10, color='blue')\n",
    "    plt.ylabel('Коэффициент корреляции МАХ', fontsize=10, color='blue')\n",
    "    plt.grid(True)   \n",
    "    plt.show() "
   ]
  },
  {
   "cell_type": "markdown",
   "id": "023e1fe9-435b-4776-b770-df76ba885c3d",
   "metadata": {},
   "source": [
    "# Максимальный коэффициент корреляции  при N= 100 каждого параметра ПАДАЕТ при увеличении количества элементов в выборке df.head(N)"
   ]
  },
  {
   "cell_type": "code",
   "execution_count": null,
   "id": "cac8155e-a351-45b8-a61e-3b4f52c96fc2",
   "metadata": {},
   "outputs": [],
   "source": [
    "# Максимальные корреляции в нащем df для 100  строк \n",
    "print(data_main_clean.head(100).corr().abs().apply(lambda x: sorted(x)[-2]))"
   ]
  },
  {
   "cell_type": "code",
   "execution_count": null,
   "id": "89538126-dfc6-46b4-9c4b-74d8de70a23f",
   "metadata": {},
   "outputs": [],
   "source": [
    "# Максимум корреляции у нас наблюдается между параметром \n",
    "'elasticity_module'  и  'number_hardeners'   corr = 0.365 при выборке ПЕРВЫХ N =100"
   ]
  },
  {
   "cell_type": "code",
   "execution_count": null,
   "id": "e5664f75-e668-4127-93b0-e54f09e257d3",
   "metadata": {},
   "outputs": [],
   "source": [
    "plt.figure(figsize=(18,8))\n",
    "corr_heatmap = sns.heatmap(data_main_clean.head(100).corr(), vmin=-1, vmax=1, center=0, cmap=\"BrBG\",\n",
    "                           linewidths=0.1, annot=True)\n",
    "corr_heatmap.set_title('Корреляционная матрица для N=100 ПЕРВЫХ строк', fontdict={'fontsize': 18}, pad=12)\n",
    "plt.show()\n",
    "#plt.savefig('corr_heatmap.png')"
   ]
  },
  {
   "cell_type": "code",
   "execution_count": null,
   "id": "08949b04-95dd-40fc-814d-3a89630e8bb3",
   "metadata": {},
   "outputs": [],
   "source": [
    "# Максимальные корреляции в нащем df для СЛУЧАЙНЫХ 100  строк \n",
    "print(data_main_clean.sample(n=100, random_state=42).corr().abs().apply(lambda x: sorted(x)[-2]))"
   ]
  },
  {
   "cell_type": "code",
   "execution_count": null,
   "id": "35e966b5-fa82-4f77-8b55-f494eb0f5cda",
   "metadata": {},
   "outputs": [],
   "source": [
    "# Построим корреляционную матрицу для СЛУЧАЙНЫХ 100 строк"
   ]
  },
  {
   "cell_type": "code",
   "execution_count": null,
   "id": "6f876c3d-fc40-45ea-b149-781c771a45fc",
   "metadata": {},
   "outputs": [],
   "source": [
    "plt.figure(figsize=(18,8))\n",
    "corr_heatmap = sns.heatmap(data_main_clean.sample(n=100, random_state=42).corr(), vmin=-1, vmax=1, center=0, cmap=\"BrBG\",\n",
    "                           linewidths=0.1, annot=True)\n",
    "corr_heatmap.set_title('Корреляционная матрица для N=100 СЛУЧАЙНЫХ строк', fontdict={'fontsize': 18}, pad=12)\n",
    "plt.show()\n",
    "#plt.savefig('corr_heatmap.png')"
   ]
  },
  {
   "cell_type": "code",
   "execution_count": null,
   "id": "8f071360-6d73-481a-b768-209cc25c9742",
   "metadata": {},
   "outputs": [],
   "source": [
    "df_for_lineReg = data_main_clean.sample(n=100, random_state=42)"
   ]
  },
  {
   "cell_type": "code",
   "execution_count": null,
   "id": "68061bd5-3989-4185-b517-013abb06d80c",
   "metadata": {},
   "outputs": [],
   "source": [
    "df_for_lineReg"
   ]
  },
  {
   "cell_type": "code",
   "execution_count": null,
   "id": "39aca0f9-0ee0-4c8d-8e8c-d4991c1052e3",
   "metadata": {},
   "outputs": [],
   "source": [
    "df_for_lineReg.info()"
   ]
  },
  {
   "cell_type": "code",
   "execution_count": null,
   "id": "e35990f2-9b40-4c39-9224-3d7e48071bd3",
   "metadata": {},
   "outputs": [],
   "source": [
    "df_for_lineReg.sort_index(ascending=True, inplace= True) # Сортируем по возрастанию индексы"
   ]
  },
  {
   "cell_type": "code",
   "execution_count": null,
   "id": "fbe08257-024d-48a3-be88-7bdb32c7ba79",
   "metadata": {},
   "outputs": [],
   "source": [
    "df_for_lineReg"
   ]
  },
  {
   "cell_type": "code",
   "execution_count": null,
   "id": "d20a43c8-79d3-42d0-98ea-b6c8c1fa96a0",
   "metadata": {},
   "outputs": [],
   "source": [
    "df_for_lineReg_test = data_main_clean.sample(n=100, random_state=42)"
   ]
  },
  {
   "cell_type": "code",
   "execution_count": null,
   "id": "6f5d0b0e-a055-4a04-bc3f-d2388345d145",
   "metadata": {},
   "outputs": [],
   "source": []
  },
  {
   "cell_type": "code",
   "execution_count": null,
   "id": "2189de09-29f1-4371-acb1-e5f60391dc18",
   "metadata": {},
   "outputs": [],
   "source": []
  },
  {
   "cell_type": "code",
   "execution_count": null,
   "id": "b20c0ff7-d984-4890-b426-2eec95f31072",
   "metadata": {},
   "outputs": [],
   "source": []
  },
  {
   "cell_type": "code",
   "execution_count": null,
   "id": "d571231e-fc19-4953-a750-8a7f9a194837",
   "metadata": {},
   "outputs": [],
   "source": [
    "# Рассмотрим другие типы графиков для исследования . "
   ]
  },
  {
   "cell_type": "code",
   "execution_count": null,
   "id": "a82153b3-dd7d-426e-b602-248cf31d7449",
   "metadata": {
    "scrolled": true,
    "tags": []
   },
   "outputs": [],
   "source": [
    "# График зависимости парметров друг от друга\n",
    "# Взято из https://pyprog.pro/sns/sns_6_visualization_of_dist.html\n",
    "# При построении точечных диаграмм зависимостей используем график прямой регрессии в правом верхнем углу.\n",
    "# Наблюдения проведем при выборке 100  и 948 значений.\n",
    "\n",
    "# Создаем экземпляр класса:\n",
    "g = sns.PairGrid(df_add_col)\n",
    "\n",
    "# задаем тип графиков над главной диагональю:это графики точек с линией регрессии\n",
    "g.map_upper(sns.regplot)\n",
    "\n",
    "# задаем тип графиков под главной диагональю: \n",
    "g.map_lower(sns.kdeplot, bw_adjust= 0.5, lw=3)\n",
    "\n",
    "# задаем тип графиков на главной диагонали:\n",
    "g.map_diag(sns.histplot, kde=True, bins = 30, fill = True);"
   ]
  },
  {
   "cell_type": "code",
   "execution_count": null,
   "id": "89866dce-1d23-4526-8b2a-37f4d4ee8167",
   "metadata": {},
   "outputs": [],
   "source": [
    "В задании к ВКР целевыми переменными заданы 'elasticity_module_stretching' и 'strapery_strength'\n",
    "Проверим для каждой целевой переменной зависимости от параметров с выведением регрессионной прямой на графиках зависимости"
   ]
  },
  {
   "cell_type": "code",
   "execution_count": null,
   "id": "cfb51596-b4a0-40e7-9f28-929436669885",
   "metadata": {},
   "outputs": [],
   "source": [
    "# Функция печати зависимости  параметров  от целевой переменной с выводом линии регрессии\n",
    "# Параметры для передачи в функцию:\n",
    "# df - наш dataframe\n",
    "# N - количество случайных элементов для выборки графика\n",
    "# f_x - размер в figsize по оси Х\n",
    "# f_y - размер в figsize по оси Y\n",
    "\n",
    "# name_у - исследуемая целевая переменная по оси У\n",
    "\n",
    "def regplot_plt(df, N, fig_x, fig_y, name_Y):\n",
    "    plt.figure(figsize = (fig_x, fig_y))\n",
    "    plt.title('Графики при N = 100 СЛУЧАЙНЫХ значений для целевой переменной elasticity_module_stretching')\n",
    "    a = 5 # количество строк\n",
    "    b = 3 # количество столцбцов\n",
    "    c = 1 # инициализация plot counter\n",
    "    for column in df.columns:\n",
    "        if column == name_Y:\n",
    "            continue\n",
    "        plt.subplot(a, b, c)\n",
    "        sns.regplot(data = df.head(N),\n",
    "                    x = df.head(N)[column],\n",
    "                    y = name_Y,\n",
    "                    ci=None,\n",
    "                   ) # ci=None- без доверительного интервала!#x = , \n",
    "        plt.grid(True)\n",
    "       # plt.show()\n",
    "        c = c +1 \n",
    "    return     "
   ]
  },
  {
   "cell_type": "code",
   "execution_count": null,
   "id": "439fae54-2643-49cc-a87c-880bb8f1d79c",
   "metadata": {
    "scrolled": true,
    "tags": []
   },
   "outputs": [],
   "source": [
    "# Построим графики при N = 100 СЛУЧАЙНЫХ значений для целевой переменной 'elasticity_module_stretching'\n",
    "regplot_plt(df_add_col, N=100, fig_x= 30, fig_y = 30, name_Y=  'elasticity_module_stretching')"
   ]
  },
  {
   "cell_type": "code",
   "execution_count": null,
   "id": "18ef65c7-3755-40f7-b2b7-7bb4885bb53e",
   "metadata": {},
   "outputs": [],
   "source": [
    "Как видно из графиков при N = 100 между  целевой переменной 'elasticity_module_stretching'\n",
    "а) практически не наблюдается корреляция с параметрами:\n",
    "'pattern_angle', 'step_strip', 'density_strip', 'density', 'elasticity_module', 'content_epoxy_groups', 'flash_temperature',\n",
    " 'surface_density' и 'resin_consumption'\n",
    "б) корреляция наблюдается  с параметрами :\n",
    "'ratio_filler_matrix','density', 'number_hardeners', 'flash_temperature', 'strapery_strength', 'alfa' "
   ]
  },
  {
   "cell_type": "markdown",
   "id": "d8aba6b2-83de-4d26-b23d-d38f84f231a0",
   "metadata": {
    "tags": []
   },
   "source": [
    "# Вероятно, можно проводить регрессивный анализ по целевой переменной  'elasticity_module_stretching'\n",
    "с параметрами 'ratio_filler_matrix','density', 'number_hardeners', 'flash_temperature', 'strapery_strength' "
   ]
  },
  {
   "cell_type": "code",
   "execution_count": null,
   "id": "50e28c9c-ff9e-4e26-ad59-ab7b7fbde40d",
   "metadata": {},
   "outputs": [],
   "source": [
    "Проведем такой же анализ при N = 100  для второй целевой переменной 'strapery_strength'"
   ]
  },
  {
   "cell_type": "code",
   "execution_count": null,
   "id": "8887271d-a58e-4fbb-85d3-ad6c991a5503",
   "metadata": {
    "scrolled": true,
    "tags": []
   },
   "outputs": [],
   "source": [
    "# Построим графики при N = 100 для целевой переменной 'elasticity_module_stretching'\n",
    "regplot_plt(df_add_col, N=100, fig_x= 30, fig_y = 30, name_Y= 'strapery_strength')"
   ]
  },
  {
   "cell_type": "code",
   "execution_count": null,
   "id": "1b4502a4-9679-4fff-8fdd-a576e4a6aee5",
   "metadata": {},
   "outputs": [],
   "source": [
    "Как видно из графиков при N = 100 между  целевой переменной 'strapery_strength'\n",
    "а) практически не наблюдается корреляция с параметрами:\n",
    "'pattern_angle', 'step_strip', 'density_strip', 'number_hardeners', \n",
    "'ratio_filler_matrix', 'content_epoxy_groups','flash_temperature','resin_consumption'\n",
    "б) корреляция наблюдается  с параметрами :\n",
    "'density', 'elasticity_module',  'elasticity_module_stretching', 'alfa'"
   ]
  },
  {
   "cell_type": "markdown",
   "id": "2322150b-1fe3-407b-9ec1-256cae4bb75e",
   "metadata": {
    "tags": []
   },
   "source": [
    "# Вероятно, можно проводить регрессивный анализ по целевой переменной  'strapery_strength'с параметрами: \n",
    "'density', 'elasticity_module',  'elasticity_module_stretching', 'alfa'"
   ]
  },
  {
   "cell_type": "code",
   "execution_count": null,
   "id": "f52792ff-11fb-4704-85e9-7aad74e06de4",
   "metadata": {},
   "outputs": [],
   "source": [
    "# Построим корреляционную матрицу  для df_add_col\n",
    "plt.figure(figsize=(18,8))\n",
    "corr_heatmap = sns.heatmap(df_add_col.corr(), vmin=-1, vmax=1, center=0, cmap=\"BrBG\",\n",
    "                           linewidths=0.1, annot=True)\n",
    "corr_heatmap.set_title('Корреляционная матрица', fontdict={'fontsize': 18}, pad=12)\n",
    "plt.show()\n",
    "#plt.savefig('corr_heatmap.png')"
   ]
  },
  {
   "cell_type": "markdown",
   "id": "6645214b-b023-4ecb-bd58-f66719213346",
   "metadata": {},
   "source": [
    "# Выбор признаков (фич)"
   ]
  },
  {
   "cell_type": "code",
   "execution_count": null,
   "id": "c08a2f7b-26d2-44f3-ba9e-ca6cc3a8797c",
   "metadata": {},
   "outputs": [],
   "source": [
    "# Вероятно, можно проводить регрессивный анализ по целевой переменной  'strapery_strength'с параметрами: \n",
    "'density', 'elasticity_module',  'elasticity_module_stretching','alfa'"
   ]
  },
  {
   "cell_type": "code",
   "execution_count": null,
   "id": "4012e1df-2cd0-48db-8f66-529cbec97644",
   "metadata": {},
   "outputs": [],
   "source": [
    "# Вероятно, можно проводить регрессивный анализ по целевой переменной  'elasticity_module_stretching'\n",
    "с параметрами 'ratio_filler_matrix','density', 'number_hardeners', 'strapery_strength' , 'alfa'"
   ]
  },
  {
   "cell_type": "code",
   "execution_count": null,
   "id": "c1692d6f-c48f-4c60-9f94-ff2088277902",
   "metadata": {},
   "outputs": [],
   "source": [
    "df_add_col.describe().T"
   ]
  },
  {
   "cell_type": "markdown",
   "id": "b2c6ad49-7092-4167-a029-940e6c7c08f0",
   "metadata": {
    "tags": []
   },
   "source": [
    "# Выбор признаков (фич)"
   ]
  },
  {
   "cell_type": "markdown",
   "id": "0847b705-ff70-47ea-a857-4bcc2e159b8a",
   "metadata": {},
   "source": [
    "Таким образом, предлагается взять df_add_col,  т.е. df в котором введен новый целевой пармаетр \"alfa\", \n",
    "как функция от двух целевых связанных параметров 'elasticity_module_stretching', 'strapery_strength'.\n",
    "Удалим из рассмотрения параметр \"pattern_angle', как парметр имеющий всего 2 значения и неоказывающий влияния на конечные данные.\n",
    "Также, для более быстрого и более квалифицированного расчета, мы в качестве целевого параметра принимаем \"alfa\".\n",
    "Из проведенного анализа  полного нашего df data_main и сравнения различных вариантов обработки нелинейными функциями, \n",
    "уберем парметры с минимальной или полностью отсутствующей корреляцией к нашим целевым парметрам, а именно : 'pattern_angle',\n",
    " 'step_strip', 'density_strip', 'ratio_filler_matrix', 'elasticity_module','number_hardeners', 'content_epoxy_groups',\n",
    " 'flash_temperature','resin_consumption'\n",
    "\n",
    "И оставим только парметры :'density', 'number_hardeners','surface_density'"
   ]
  },
  {
   "cell_type": "code",
   "execution_count": null,
   "id": "2b59e70e-d705-40e7-a309-602e65ab3765",
   "metadata": {
    "papermill": {
     "duration": 0.168349,
     "end_time": "2022-02-21T21:06:57.213943",
     "exception": false,
     "start_time": "2022-02-21T21:06:57.045594",
     "status": "completed"
    },
    "tags": []
   },
   "outputs": [],
   "source": [
    "df_add_col.to_csv('data_research_ML.csv', index=False, float_format=\"%.3f\")"
   ]
  },
  {
   "cell_type": "code",
   "execution_count": null,
   "id": "895b548f-a784-4fad-abdc-a7cbfa5c6fa9",
   "metadata": {},
   "outputs": [],
   "source": [
    "В следующей части нашей работы мы попробуем провести анализ реграссии применительно к нашему набору данных data_research."
   ]
  },
  {
   "cell_type": "markdown",
   "id": "5d9635ca-c985-46f6-a084-17fecb7b95f7",
   "metadata": {
    "tags": []
   },
   "source": [
    "#  Нормализуем наш dataset по методу MinMaxskaler, чтобы привести наши данные к близким размерностям"
   ]
  },
  {
   "cell_type": "code",
   "execution_count": null,
   "id": "6867d335-dde9-4877-8875-10f3c423482a",
   "metadata": {
    "tags": []
   },
   "outputs": [],
   "source": [
    "# список наших столбцов\n",
    "list_data = list(data_main_clean)"
   ]
  },
  {
   "cell_type": "code",
   "execution_count": null,
   "id": "4f1ffa84-1bdf-496d-bb74-d56b3eb0eb70",
   "metadata": {},
   "outputs": [],
   "source": [
    "minmax_scaler = MinMaxScaler() # вызываем метод MinMaxskaler"
   ]
  },
  {
   "cell_type": "code",
   "execution_count": null,
   "id": "7c879b3c-26ae-4df5-943f-e2a3a1545d12",
   "metadata": {},
   "outputs": [],
   "source": [
    "#  обучаем MinMaxScaler() -передаем только числовые значения столбцов  ,указанных списком list_data или можно перечислить какие нужны\n",
    "data_main_norm = minmax_scaler.fit_transform(np.array(data_main_clean[list_data])) \n",
    "                                                           "
   ]
  },
  {
   "cell_type": "code",
   "execution_count": null,
   "id": "7ef7d7ed-4320-4b77-acdf-d175758eedf3",
   "metadata": {},
   "outputs": [],
   "source": [
    "data_main_norm[:1] # Проверим первую строку"
   ]
  },
  {
   "cell_type": "code",
   "execution_count": null,
   "id": "86535f0a-a33b-4ca7-a5f7-99520d4384f7",
   "metadata": {},
   "outputs": [],
   "source": [
    "# создадим новый df с нормализованными данными с названием наших столбцов \n",
    "data_main_norm_df = pd.DataFrame(data = data_main_norm, columns = list_data)\n",
    "data_main_norm_df.head().T"
   ]
  },
  {
   "cell_type": "code",
   "execution_count": null,
   "id": "2b9d2cac-b732-4337-92b1-d55726ad972e",
   "metadata": {},
   "outputs": [],
   "source": [
    "data_main_norm_df.describe().T"
   ]
  },
  {
   "cell_type": "markdown",
   "id": "8e79841e-1275-4a44-bf6c-894bd5d9ace9",
   "metadata": {},
   "source": [
    "# Запишем нормализованный очищеный от выбросов df\n",
    "data_main_norm_df.to_csv('data_main_norm.csv', index=False, float_format=\"%.3f\")"
   ]
  }
 ],
 "metadata": {
  "kernelspec": {
   "display_name": "Python 3 (ipykernel)",
   "language": "python",
   "name": "python3"
  },
  "language_info": {
   "codemirror_mode": {
    "name": "ipython",
    "version": 3
   },
   "file_extension": ".py",
   "mimetype": "text/x-python",
   "name": "python",
   "nbconvert_exporter": "python",
   "pygments_lexer": "ipython3",
   "version": "3.10.9"
  }
 },
 "nbformat": 4,
 "nbformat_minor": 5
}
