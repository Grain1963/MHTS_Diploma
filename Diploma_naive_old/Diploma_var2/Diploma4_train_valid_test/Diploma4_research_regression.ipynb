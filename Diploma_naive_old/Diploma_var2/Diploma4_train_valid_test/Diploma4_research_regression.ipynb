{
 "cells": [
  {
   "cell_type": "code",
   "execution_count": 33,
   "id": "7aac4af8-930d-4e2a-9fe4-3bb68d785602",
   "metadata": {
    "tags": []
   },
   "outputs": [],
   "source": [
    "import pandas as pd\n",
    "import numpy as np\n",
    "\n",
    "import matplotlib\n",
    "import matplotlib.pyplot as plt\n",
    "from matplotlib import cm\n",
    "import seaborn as sns\n",
    "import plotly\n",
    "import plotly.graph_objs as go\n",
    "import plotly.express as px\n",
    "from plotly.subplots import make_subplots\n",
    "%matplotlib inline\n",
    "sns.set_style('darkgrid')\n",
    "from scipy.interpolate import make_interp_spline\n",
    "from scipy.interpolate import interp1d\n",
    "import pylab\n",
    "\n",
    "from sklearn import preprocessing\n",
    "from sklearn.preprocessing import MinMaxScaler\n",
    "from sklearn.preprocessing import StandardScaler\n",
    "from sklearn.model_selection import train_test_split\n",
    "# from imblearn.over_sampling import SMOTE\n",
    "\n",
    "from sklearn.linear_model import LinearRegression\n",
    "from sklearn.ensemble import RandomForestRegressor\n",
    "from sklearn.svm import SVR\n",
    "from sklearn.model_selection import GridSearchCV\n",
    "from sklearn.model_selection import cross_val_score, cross_val_predict\n",
    "from sklearn import metrics\n",
    "from sklearn.metrics import mean_squared_error #, classification_report, confusion_matrix\n",
    "from sklearn.metrics import r2_score\n",
    "from sklearn import decomposition\n",
    "from sklearn import linear_model\n",
    "from sklearn.pipeline import Pipeline\n",
    "\n",
    "import statsmodels.api as sm\n",
    "\n",
    "from sklearn.neural_network import MLPRegressor\n",
    "\n",
    "import tensorflow \n",
    "import tensorflow.keras as keras\n",
    "from tensorflow.keras.models import Sequential\n",
    "from tensorflow.keras.layers import  Flatten, Dense, Dropout, Flatten, Conv2D, MaxPooling2D\n",
    "from tensorflow.keras.optimizers import Adam, SGD, RMSprop\n",
    "\n",
    "import warnings\n",
    "warnings.filterwarnings(\"ignore\")\n",
    "\n",
    "# from tensorflow.keras import utils\n",
    "# from tensorflow.keras.utils import to_categorical\n",
    "\n",
    "np.random.seed(42) # чтобы выборки данных всегда были одни и теже берем любую цифру . мне нравится 42"
   ]
  },
  {
   "cell_type": "code",
   "execution_count": 34,
   "id": "6700f467-9ea4-4e89-a234-74bb2ee5f098",
   "metadata": {},
   "outputs": [],
   "source": [
    "data_research = pd.read_csv(r'C:\\Users\\grain\\Work_folder\\Diplom_MGTU\\Diploma3_corr\\data_research.csv')"
   ]
  },
  {
   "cell_type": "code",
   "execution_count": null,
   "id": "379debad-c9da-4fda-9d66-c1b00ffe01e9",
   "metadata": {},
   "outputs": [],
   "source": [
    "data_research.describe()"
   ]
  },
  {
   "cell_type": "code",
   "execution_count": null,
   "id": "e538961b-4f27-4a31-82b4-283894abb214",
   "metadata": {},
   "outputs": [],
   "source": [
    "data_research.info()"
   ]
  },
  {
   "cell_type": "code",
   "execution_count": 35,
   "id": "6aa22ca0-bb39-4370-8e9c-7efde875a010",
   "metadata": {
    "tags": []
   },
   "outputs": [],
   "source": [
    "# Функция оптимизации типов в dataframe.\n",
    "# !!!! Код взят из источника https://github.com/ellavs/python-pandas-optimize-dataframe-memory-usage\n",
    "\n",
    "def optimize_memory_usage(df, print_size=True):\n",
    "\n",
    "# Types for optimization.\n",
    "    # Типы, которые будем проверять на оптимизацию.\n",
    "    numerics = ['int16', 'int32', 'int64', 'float16', 'float32', 'float64']\n",
    "    # Memory usage size before optimize (Mb).\n",
    "    # (RU) Размер занимаемой памяти до оптимизации (в Мб).\n",
    "    before_size = df.memory_usage().sum() / 1024**2    \n",
    "    for column in df.columns:\n",
    "        column_type = df[column].dtypes\n",
    "        if column_type in numerics:\n",
    "            column_min = df[column].min()\n",
    "            column_max = df[column].max()\n",
    "            if str(column_type).startswith('int'):\n",
    "                if column_min > np.iinfo(np.int32).min and column_max < np.iinfo(np.int32).max:\n",
    "                    df[column] = df[column].astype(np.int32)\n",
    "                elif column_min > np.iinfo(np.int64).min and column_max < np.iinfo(np.int64).max:\n",
    "                    df[column] = df[column].astype(np.int64)  \n",
    "            else:\n",
    "                if column_min > np.finfo(np.float32).min and column_max < np.finfo(np.float32).max:\n",
    "                    df[column] = df[column].astype(np.float32)\n",
    "                else:\n",
    "                    df[column] = df[column].astype(np.float64)    \n",
    "    # Memory usage size after optimize (Mb).\n",
    "    # (RU) Размер занимаемой памяти после оптимизации (в Мб).\n",
    "    after_size = df.memory_usage().sum() / 1024**2\n",
    "    if print_size: print('Memory usage size: before {:5.4f} Mb - after {:5.4f} Mb ({:.1f}%).'.format(before_size, after_size, 100 * (before_size - after_size) / before_size))\n",
    "    return df\n",
    "\n",
    "def import_data_from_csv(df):\n",
    "    # Show dataframe info before optimize.\n",
    "    # (RU) Показать информацию о таблице до оптимизации.\n",
    "    print('-' * 80)\n",
    "    print(df.info())\n",
    "    print('-' * 80)\n",
    "    # (RU) Оптимизация типов в dataframe.\n",
    "    df = optimize_memory_usage(df) # используем функцию optimize_memory_usage , созданую выше\n",
    "    # Show dataframe info after optimize.\n",
    "    # (RU) Показать информацию о таблице после оптимизации.\n",
    "    print('-' * 80)\n",
    "    print(df.info())\n",
    "    print('-' * 80)\n",
    "    return df"
   ]
  },
  {
   "cell_type": "code",
   "execution_count": 36,
   "id": "56afcc15-4710-4c3e-881d-6b506c2ae64b",
   "metadata": {
    "scrolled": true,
    "tags": []
   },
   "outputs": [
    {
     "name": "stdout",
     "output_type": "stream",
     "text": [
      "--------------------------------------------------------------------------------\n",
      "<class 'pandas.core.frame.DataFrame'>\n",
      "RangeIndex: 948 entries, 0 to 947\n",
      "Data columns (total 4 columns):\n",
      " #   Column            Non-Null Count  Dtype  \n",
      "---  ------            --------------  -----  \n",
      " 0   density           948 non-null    float64\n",
      " 1   number_hardeners  948 non-null    float64\n",
      " 2   surface_density   948 non-null    float64\n",
      " 3   alfa              948 non-null    float64\n",
      "dtypes: float64(4)\n",
      "memory usage: 29.8 KB\n",
      "None\n",
      "--------------------------------------------------------------------------------\n",
      "Memory usage size: before 0.0291 Mb - after 0.0146 Mb (49.8%).\n",
      "--------------------------------------------------------------------------------\n",
      "<class 'pandas.core.frame.DataFrame'>\n",
      "RangeIndex: 948 entries, 0 to 947\n",
      "Data columns (total 4 columns):\n",
      " #   Column            Non-Null Count  Dtype  \n",
      "---  ------            --------------  -----  \n",
      " 0   density           948 non-null    float32\n",
      " 1   number_hardeners  948 non-null    float32\n",
      " 2   surface_density   948 non-null    float32\n",
      " 3   alfa              948 non-null    float32\n",
      "dtypes: float32(4)\n",
      "memory usage: 14.9 KB\n",
      "None\n",
      "--------------------------------------------------------------------------------\n"
     ]
    }
   ],
   "source": [
    "# Вызываем функцию import_data_from_csv для уменьшения размерности переменных в файле df_bp_new\n",
    "\n",
    "data_research = import_data_from_csv(data_research)"
   ]
  },
  {
   "cell_type": "code",
   "execution_count": null,
   "id": "cbfa33a3-e69b-4c5c-93a3-5ab2969427b2",
   "metadata": {
    "tags": []
   },
   "outputs": [],
   "source": [
    "#  Этап 4 Нормализуем  наш dataset - data_research, чтобы привести наши данные к близким размерностям"
   ]
  },
  {
   "cell_type": "code",
   "execution_count": null,
   "id": "c0ba7908-3f5f-491b-86e8-1aead58db0fc",
   "metadata": {},
   "outputs": [],
   "source": [
    "# Этап 4.1 Нормализация по методу MinMaxskaler"
   ]
  },
  {
   "cell_type": "code",
   "execution_count": 37,
   "id": "f524144c-e31f-46eb-b724-2375d659d042",
   "metadata": {
    "tags": []
   },
   "outputs": [],
   "source": [
    "# список наших столбцов\n",
    "list_data = list(data_research)"
   ]
  },
  {
   "cell_type": "code",
   "execution_count": 38,
   "id": "4f5c22d2-1054-4884-99eb-dce58e2746da",
   "metadata": {},
   "outputs": [],
   "source": [
    "minmax_scaler = MinMaxScaler() # вызываем метод MinMaxskaler"
   ]
  },
  {
   "cell_type": "code",
   "execution_count": 39,
   "id": "69a3223d-bcdc-4e43-ac35-799791693974",
   "metadata": {},
   "outputs": [],
   "source": [
    "#  обучаем MinMaxScaler() -передаем только числовые значения столбцов, указанных списком list_data или можно перечислить какие нужны\n",
    "data_research_norm = minmax_scaler.fit_transform(np.array(data_research[list_data])) \n",
    "                                                           "
   ]
  },
  {
   "cell_type": "code",
   "execution_count": 40,
   "id": "a09e4b92-8a8d-4672-aeea-304b2488825a",
   "metadata": {},
   "outputs": [
    {
     "data": {
      "text/plain": [
       "array([[0.65250635, 0.07914975, 0.14827019, 0.76760995]], dtype=float32)"
      ]
     },
     "execution_count": 40,
     "metadata": {},
     "output_type": "execute_result"
    }
   ],
   "source": [
    "data_research_norm[:1] # Проверим первую строку"
   ]
  },
  {
   "cell_type": "code",
   "execution_count": 41,
   "id": "0568a9c9-1472-4123-aa41-b7ed84d54583",
   "metadata": {},
   "outputs": [
    {
     "name": "stdout",
     "output_type": "stream",
     "text": [
      "<class 'pandas.core.frame.DataFrame'>\n",
      "RangeIndex: 948 entries, 0 to 947\n",
      "Data columns (total 4 columns):\n",
      " #   Column            Non-Null Count  Dtype  \n",
      "---  ------            --------------  -----  \n",
      " 0   density           948 non-null    float32\n",
      " 1   number_hardeners  948 non-null    float32\n",
      " 2   surface_density   948 non-null    float32\n",
      " 3   alfa              948 non-null    float32\n",
      "dtypes: float32(4)\n",
      "memory usage: 14.9 KB\n"
     ]
    }
   ],
   "source": [
    "# создадим новый df с нормализованными данными с названием наших столбцов \n",
    "data_research_norm = pd.DataFrame(data = data_research_norm, columns = list_data)\n",
    "data_research_norm.info()"
   ]
  },
  {
   "cell_type": "code",
   "execution_count": null,
   "id": "6ef372c4-db6a-4e75-b066-af6e7464ae3c",
   "metadata": {},
   "outputs": [],
   "source": [
    "data_research_norm.describe()"
   ]
  },
  {
   "cell_type": "code",
   "execution_count": null,
   "id": "73a802f9-aae5-4431-8055-5cb614c679da",
   "metadata": {},
   "outputs": [],
   "source": [
    "data_research_norm.head()"
   ]
  },
  {
   "cell_type": "code",
   "execution_count": null,
   "id": "ffea2c47-d903-4c6a-9ccb-ef7220f87b49",
   "metadata": {
    "tags": []
   },
   "outputs": [],
   "source": [
    "# Собираем датасет"
   ]
  },
  {
   "cell_type": "code",
   "execution_count": 42,
   "id": "2b59e70e-d705-40e7-a309-602e65ab3765",
   "metadata": {
    "papermill": {
     "duration": 0.168349,
     "end_time": "2022-02-21T21:06:57.213943",
     "exception": false,
     "start_time": "2022-02-21T21:06:57.045594",
     "status": "completed"
    },
    "tags": []
   },
   "outputs": [],
   "source": [
    "y = data_research_norm['alfa']"
   ]
  },
  {
   "cell_type": "code",
   "execution_count": 43,
   "id": "adfa6343-b6af-4fa3-84a6-ffb2475f330a",
   "metadata": {
    "tags": []
   },
   "outputs": [],
   "source": [
    "X = data_research_norm.drop(['alfa'], axis=1)"
   ]
  },
  {
   "cell_type": "code",
   "execution_count": null,
   "id": "419ecb31-7c23-4417-a430-338d17202f1e",
   "metadata": {},
   "outputs": [],
   "source": [
    "X.shape"
   ]
  },
  {
   "cell_type": "code",
   "execution_count": null,
   "id": "5f8a6b53-669d-4ff1-959a-b70ea91c9fb5",
   "metadata": {},
   "outputs": [],
   "source": [
    "# Разделяем датасет на тестовые, проверочные и обучающие выборки за 2 приема"
   ]
  },
  {
   "cell_type": "code",
   "execution_count": null,
   "id": "13ebd0fa-49be-41dc-94d6-1a13996edad2",
   "metadata": {},
   "outputs": [],
   "source": [
    "# Разделяем датасет на тестовы (test) и 1-ю обучающие выборки\n",
    "# Разбиваем X на X_train_full и X_test_full в пропорции 80/20, а y  на  y_train_full и y_test_full"
   ]
  },
  {
   "cell_type": "code",
   "execution_count": 44,
   "id": "0f7db510-4b72-4687-9cc9-2fbd68e7492a",
   "metadata": {
    "tags": []
   },
   "outputs": [],
   "source": [
    "X_train_full, X_test_full, y_train_full, y_test_full = train_test_split(X, y, \n",
    "                                                    train_size=0.8, \n",
    "                                                    random_state=45\n",
    "                                                    )"
   ]
  },
  {
   "cell_type": "code",
   "execution_count": null,
   "id": "1376579c-e862-4771-a816-1dea5942ecc3",
   "metadata": {},
   "outputs": [],
   "source": [
    "# X_test_full и y_test_full будут использованы в конце при проверке нашей моддели\n",
    "## НУЖНО из записать в папку!!!"
   ]
  },
  {
   "cell_type": "code",
   "execution_count": null,
   "id": "5001b76d-3239-492a-b9f1-2d00f562961d",
   "metadata": {},
   "outputs": [],
   "source": [
    "X_test_full.shape"
   ]
  },
  {
   "cell_type": "code",
   "execution_count": null,
   "id": "956c885b-6367-47f1-8d0d-e38da96be51c",
   "metadata": {},
   "outputs": [],
   "source": [
    "y_test_full.shape"
   ]
  },
  {
   "cell_type": "code",
   "execution_count": null,
   "id": "8b9b5ead-3c5b-4565-a78e-555a7e240d3d",
   "metadata": {},
   "outputs": [],
   "source": [
    "X_train_full.shape"
   ]
  },
  {
   "cell_type": "code",
   "execution_count": null,
   "id": "51447b0a-04cf-4a08-a75b-6218651f18a8",
   "metadata": {},
   "outputs": [],
   "source": [
    "y_train_full.shape"
   ]
  },
  {
   "cell_type": "code",
   "execution_count": null,
   "id": "5e575de8-35b6-4722-afca-0448c071ca6b",
   "metadata": {},
   "outputs": [],
   "source": [
    "# Разделяем датасет на проверочную (validation) и 2-ю обучающую выборки"
   ]
  },
  {
   "cell_type": "code",
   "execution_count": 45,
   "id": "eace91de-feb5-40ed-8728-019528620d3c",
   "metadata": {},
   "outputs": [],
   "source": [
    "X_train, X_val, y_train, y_val = train_test_split(X_train_full, y_train_full, \n",
    "                                                    train_size=0.8, \n",
    "                                                    random_state=45\n",
    "                                                    )"
   ]
  },
  {
   "cell_type": "code",
   "execution_count": null,
   "id": "5a00162f-b22a-412a-beca-e0a781d8cdbe",
   "metadata": {},
   "outputs": [],
   "source": [
    "# X_val и y_val будут использованы при проверке работоспособности нашей модели после обучения "
   ]
  },
  {
   "cell_type": "code",
   "execution_count": null,
   "id": "b78615b0-3607-4362-9271-afe137eb43d5",
   "metadata": {},
   "outputs": [],
   "source": [
    "X_train.shape"
   ]
  },
  {
   "cell_type": "code",
   "execution_count": null,
   "id": "36c405d6-c013-4066-ae1f-b0700c39e48f",
   "metadata": {},
   "outputs": [],
   "source": [
    "X_val.shape"
   ]
  },
  {
   "cell_type": "code",
   "execution_count": null,
   "id": "d72533e9-2125-43c7-9ecf-5f65b57a673d",
   "metadata": {},
   "outputs": [],
   "source": [
    "y_train.shape"
   ]
  },
  {
   "cell_type": "code",
   "execution_count": null,
   "id": "9ebadb26-b9d7-41e3-927a-4c1f0714f980",
   "metadata": {},
   "outputs": [],
   "source": [
    "y_val.shape"
   ]
  },
  {
   "cell_type": "code",
   "execution_count": null,
   "id": "038b5e2a-3c41-413f-8a3a-c67127f9a60c",
   "metadata": {
    "papermill": {
     "duration": 0.147952,
     "end_time": "2022-02-21T21:06:59.146712",
     "exception": false,
     "start_time": "2022-02-21T21:06:58.998760",
     "status": "completed"
    },
    "tags": []
   },
   "outputs": [],
   "source": [
    "# Линейная регрессия"
   ]
  },
  {
   "cell_type": "code",
   "execution_count": null,
   "id": "76969a42-8864-43ef-a318-8d5dd14df82a",
   "metadata": {},
   "outputs": [],
   "source": [
    "# 1. Математическая линейная регрессия\n",
    "# Гипотеза: между X и y должна быть линейная зависимость"
   ]
  },
  {
   "cell_type": "code",
   "execution_count": null,
   "id": "f1911906-0e4b-4c9d-9802-e67fa8a3e8fa",
   "metadata": {},
   "outputs": [],
   "source": [
    "# Опциональные параметры класса LinearRegression:\n",
    "# fit_intercept – логический (True по умолчанию) параметр, который решает, вычислять отрезок b₀ (True) или рассматривать его как равный нулю (False).\n",
    "# normalize – логический (False по умолчанию) параметр, который решает, нормализовать входные переменные (True) или нет (False).\n",
    "# copy_X – логический (True по умолчанию) параметр, который решает, копировать (True) или перезаписывать входные переменные (False).\n",
    "# n_jobs – целое или None (по умолчанию), представляющее количество процессов, задействованных в параллельных вычислениях. \n",
    "# None означает отсутствие процессов, при -1 используются все доступные процессоры."
   ]
  },
  {
   "cell_type": "code",
   "execution_count": 46,
   "id": "e1bdc0ad-47e9-42e0-b311-125e85e1a9a7",
   "metadata": {
    "papermill": {
     "duration": 0.159518,
     "end_time": "2022-02-21T21:06:59.459130",
     "exception": false,
     "start_time": "2022-02-21T21:06:59.299612",
     "status": "completed"
    },
    "tags": []
   },
   "outputs": [],
   "source": [
    "model_LR = LinearRegression(n_jobs = -1)"
   ]
  },
  {
   "cell_type": "code",
   "execution_count": 47,
   "id": "cf1a6da8-5bb6-494f-9a40-6fb7ac204e28",
   "metadata": {
    "papermill": {
     "duration": 0.343056,
     "end_time": "2022-02-21T21:06:59.952909",
     "exception": false,
     "start_time": "2022-02-21T21:06:59.609853",
     "status": "completed"
    },
    "tags": []
   },
   "outputs": [
    {
     "data": {
      "text/html": [
       "<style>#sk-container-id-2 {color: black;background-color: white;}#sk-container-id-2 pre{padding: 0;}#sk-container-id-2 div.sk-toggleable {background-color: white;}#sk-container-id-2 label.sk-toggleable__label {cursor: pointer;display: block;width: 100%;margin-bottom: 0;padding: 0.3em;box-sizing: border-box;text-align: center;}#sk-container-id-2 label.sk-toggleable__label-arrow:before {content: \"▸\";float: left;margin-right: 0.25em;color: #696969;}#sk-container-id-2 label.sk-toggleable__label-arrow:hover:before {color: black;}#sk-container-id-2 div.sk-estimator:hover label.sk-toggleable__label-arrow:before {color: black;}#sk-container-id-2 div.sk-toggleable__content {max-height: 0;max-width: 0;overflow: hidden;text-align: left;background-color: #f0f8ff;}#sk-container-id-2 div.sk-toggleable__content pre {margin: 0.2em;color: black;border-radius: 0.25em;background-color: #f0f8ff;}#sk-container-id-2 input.sk-toggleable__control:checked~div.sk-toggleable__content {max-height: 200px;max-width: 100%;overflow: auto;}#sk-container-id-2 input.sk-toggleable__control:checked~label.sk-toggleable__label-arrow:before {content: \"▾\";}#sk-container-id-2 div.sk-estimator input.sk-toggleable__control:checked~label.sk-toggleable__label {background-color: #d4ebff;}#sk-container-id-2 div.sk-label input.sk-toggleable__control:checked~label.sk-toggleable__label {background-color: #d4ebff;}#sk-container-id-2 input.sk-hidden--visually {border: 0;clip: rect(1px 1px 1px 1px);clip: rect(1px, 1px, 1px, 1px);height: 1px;margin: -1px;overflow: hidden;padding: 0;position: absolute;width: 1px;}#sk-container-id-2 div.sk-estimator {font-family: monospace;background-color: #f0f8ff;border: 1px dotted black;border-radius: 0.25em;box-sizing: border-box;margin-bottom: 0.5em;}#sk-container-id-2 div.sk-estimator:hover {background-color: #d4ebff;}#sk-container-id-2 div.sk-parallel-item::after {content: \"\";width: 100%;border-bottom: 1px solid gray;flex-grow: 1;}#sk-container-id-2 div.sk-label:hover label.sk-toggleable__label {background-color: #d4ebff;}#sk-container-id-2 div.sk-serial::before {content: \"\";position: absolute;border-left: 1px solid gray;box-sizing: border-box;top: 0;bottom: 0;left: 50%;z-index: 0;}#sk-container-id-2 div.sk-serial {display: flex;flex-direction: column;align-items: center;background-color: white;padding-right: 0.2em;padding-left: 0.2em;position: relative;}#sk-container-id-2 div.sk-item {position: relative;z-index: 1;}#sk-container-id-2 div.sk-parallel {display: flex;align-items: stretch;justify-content: center;background-color: white;position: relative;}#sk-container-id-2 div.sk-item::before, #sk-container-id-2 div.sk-parallel-item::before {content: \"\";position: absolute;border-left: 1px solid gray;box-sizing: border-box;top: 0;bottom: 0;left: 50%;z-index: -1;}#sk-container-id-2 div.sk-parallel-item {display: flex;flex-direction: column;z-index: 1;position: relative;background-color: white;}#sk-container-id-2 div.sk-parallel-item:first-child::after {align-self: flex-end;width: 50%;}#sk-container-id-2 div.sk-parallel-item:last-child::after {align-self: flex-start;width: 50%;}#sk-container-id-2 div.sk-parallel-item:only-child::after {width: 0;}#sk-container-id-2 div.sk-dashed-wrapped {border: 1px dashed gray;margin: 0 0.4em 0.5em 0.4em;box-sizing: border-box;padding-bottom: 0.4em;background-color: white;}#sk-container-id-2 div.sk-label label {font-family: monospace;font-weight: bold;display: inline-block;line-height: 1.2em;}#sk-container-id-2 div.sk-label-container {text-align: center;}#sk-container-id-2 div.sk-container {/* jupyter's `normalize.less` sets `[hidden] { display: none; }` but bootstrap.min.css set `[hidden] { display: none !important; }` so we also need the `!important` here to be able to override the default hidden behavior on the sphinx rendered scikit-learn.org. See: https://github.com/scikit-learn/scikit-learn/issues/21755 */display: inline-block !important;position: relative;}#sk-container-id-2 div.sk-text-repr-fallback {display: none;}</style><div id=\"sk-container-id-2\" class=\"sk-top-container\"><div class=\"sk-text-repr-fallback\"><pre>LinearRegression(n_jobs=-1)</pre><b>In a Jupyter environment, please rerun this cell to show the HTML representation or trust the notebook. <br />On GitHub, the HTML representation is unable to render, please try loading this page with nbviewer.org.</b></div><div class=\"sk-container\" hidden><div class=\"sk-item\"><div class=\"sk-estimator sk-toggleable\"><input class=\"sk-toggleable__control sk-hidden--visually\" id=\"sk-estimator-id-2\" type=\"checkbox\" checked><label for=\"sk-estimator-id-2\" class=\"sk-toggleable__label sk-toggleable__label-arrow\">LinearRegression</label><div class=\"sk-toggleable__content\"><pre>LinearRegression(n_jobs=-1)</pre></div></div></div></div></div>"
      ],
      "text/plain": [
       "LinearRegression(n_jobs=-1)"
      ]
     },
     "execution_count": 47,
     "metadata": {},
     "output_type": "execute_result"
    }
   ],
   "source": [
    "model_LR.fit(X_train, y_train)"
   ]
  },
  {
   "cell_type": "code",
   "execution_count": 48,
   "id": "6f2d36e0-9ade-4262-a025-47e5445fc523",
   "metadata": {},
   "outputs": [
    {
     "data": {
      "text/plain": [
       "dict_keys(['copy_X', 'fit_intercept', 'n_jobs', 'normalize', 'positive'])"
      ]
     },
     "execution_count": 48,
     "metadata": {},
     "output_type": "execute_result"
    }
   ],
   "source": [
    "# Получаем парметры LinearRegression\n",
    "model_LR.get_params().keys() "
   ]
  },
  {
   "cell_type": "markdown",
   "id": "be163015-c437-4cfd-a373-6d7f3959a1f5",
   "metadata": {},
   "source": [
    "# !!!!! Когда fit_intercept=True линия наилучшего соответствия может «соответствовать» оси Y. При fit_intercept=False пере"
   ]
  },
  {
   "cell_type": "code",
   "execution_count": 49,
   "id": "6d68fc0f-b654-4231-bb11-94a46f2454ef",
   "metadata": {},
   "outputs": [
    {
     "data": {
      "text/plain": [
       "{'copy_X': True,\n",
       " 'fit_intercept': True,\n",
       " 'n_jobs': -1,\n",
       " 'normalize': 'deprecated',\n",
       " 'positive': False}"
      ]
     },
     "execution_count": 49,
     "metadata": {},
     "output_type": "execute_result"
    }
   ],
   "source": [
    "# Получаем текущие парметры нашей модели LinearRegression\n",
    "model_LR.get_params()"
   ]
  },
  {
   "cell_type": "code",
   "execution_count": null,
   "id": "7b756ca2-34b7-4232-b650-69aa5ad04241",
   "metadata": {},
   "outputs": [],
   "source": [
    "# Расчетные параметры рассчитаные LinearRegression для  нашего массива (X_train, y_train)"
   ]
  },
  {
   "cell_type": "code",
   "execution_count": 50,
   "id": "69690ff3-ad2a-406d-960b-4c3f777006bd",
   "metadata": {
    "papermill": {
     "duration": 0.162208,
     "end_time": "2022-02-21T21:07:00.574372",
     "exception": false,
     "start_time": "2022-02-21T21:07:00.412164",
     "status": "completed"
    },
    "tags": []
   },
   "outputs": [
    {
     "name": "stdout",
     "output_type": "stream",
     "text": [
      "Коеэффициенты для параметров : [-0.06732082  0.01082223 -0.06388463]\n"
     ]
    }
   ],
   "source": [
    "# Коеэффициенты для парметров\n",
    "print('Коеэффициенты для параметров :', model_LR.coef_)"
   ]
  },
  {
   "cell_type": "code",
   "execution_count": 51,
   "id": "b2623d8b-30b7-44cd-9ffa-0cb5e3f894ec",
   "metadata": {
    "papermill": {
     "duration": 0.170612,
     "end_time": "2022-02-21T21:07:00.897282",
     "exception": false,
     "start_time": "2022-02-21T21:07:00.726670",
     "status": "completed"
    },
    "tags": []
   },
   "outputs": [
    {
     "data": {
      "text/html": [
       "<div>\n",
       "<style scoped>\n",
       "    .dataframe tbody tr th:only-of-type {\n",
       "        vertical-align: middle;\n",
       "    }\n",
       "\n",
       "    .dataframe tbody tr th {\n",
       "        vertical-align: top;\n",
       "    }\n",
       "\n",
       "    .dataframe thead th {\n",
       "        text-align: right;\n",
       "    }\n",
       "</style>\n",
       "<table border=\"1\" class=\"dataframe\">\n",
       "  <thead>\n",
       "    <tr style=\"text-align: right;\">\n",
       "      <th></th>\n",
       "      <th>0</th>\n",
       "    </tr>\n",
       "  </thead>\n",
       "  <tbody>\n",
       "    <tr>\n",
       "      <th>density</th>\n",
       "      <td>-0.067321</td>\n",
       "    </tr>\n",
       "    <tr>\n",
       "      <th>number_hardeners</th>\n",
       "      <td>0.010822</td>\n",
       "    </tr>\n",
       "    <tr>\n",
       "      <th>surface_density</th>\n",
       "      <td>-0.063885</td>\n",
       "    </tr>\n",
       "  </tbody>\n",
       "</table>\n",
       "</div>"
      ],
      "text/plain": [
       "                         0\n",
       "density          -0.067321\n",
       "number_hardeners  0.010822\n",
       "surface_density  -0.063885"
      ]
     },
     "execution_count": 51,
     "metadata": {},
     "output_type": "execute_result"
    }
   ],
   "source": [
    "# Представляем коэффициенты в виде DF\n",
    "pd.DataFrame(model_LR.coef_, X_train.columns)"
   ]
  },
  {
   "cell_type": "code",
   "execution_count": 52,
   "id": "c76e3164-9019-4d72-bf80-ebf439f9509b",
   "metadata": {},
   "outputs": [
    {
     "name": "stdout",
     "output_type": "stream",
     "text": [
      "Константа: 0.53328943\n"
     ]
    }
   ],
   "source": [
    "# Константа для линейного графика для наших параметров (сдвиг по оси Х)\n",
    "print('Константа:', model_LR.intercept_)"
   ]
  },
  {
   "cell_type": "code",
   "execution_count": 53,
   "id": "c090d2e6-736b-4c30-b023-810a36e64f33",
   "metadata": {
    "tags": []
   },
   "outputs": [
    {
     "name": "stdout",
     "output_type": "stream",
     "text": [
      "коэффициент детерминации R2 = 0.010340765035596666\n"
     ]
    }
   ],
   "source": [
    "# Расчитаем коэффициент детерминации R2\n",
    "r_sq = model_LR.score(X_train, y_train) # .round(3)!!!!! Округление до 3 знаков после запятой\n",
    "print('коэффициент детерминации R2 =', r_sq)"
   ]
  },
  {
   "cell_type": "code",
   "execution_count": 54,
   "id": "35cec7c4-76ec-4cbd-81ca-b7497d53b193",
   "metadata": {},
   "outputs": [
    {
     "name": "stdout",
     "output_type": "stream",
     "text": [
      "scores/Значение оценки при CV =  5 : [-0.01277288 -0.00536927  0.01188085 -0.05035614 -0.00025261]\n",
      "\n",
      "Mean Cross Validation Score:  -0.01137401173229422\n",
      "\n",
      "Стандартное отколение оценки: 0.021081245260560592\n"
     ]
    }
   ],
   "source": [
    "# Далее мы проводим перекрестную проверку, которая разделяет наши обучающие данные на количество выборок CV\n",
    "# и подгоняет модель к разным выборкам и\n",
    "# дает оценки для каждой выборки CV, чтобы получить наиболее подходящую модель, \n",
    "# прежде чем мы протестируем ее на данных тестирования (X_val и y_val), количество значений равно CV \n",
    "# cv - это количество разбиений нашего массива данных. Рекомендовано от 3 до 5\n",
    "\n",
    "cv = 5\n",
    "scores = cross_val_score(model_LR, X_train, y_train, cv = cv)\n",
    "                         \n",
    "print ('scores/Значение оценки при CV = ', cv, ':', scores)\n",
    "print()\n",
    "print('Mean Cross Validation Score: ', np.mean(scores))\n",
    "print()\n",
    "print('Стандартное отколение оценки:', np.std(scores))\n"
   ]
  },
  {
   "cell_type": "code",
   "execution_count": null,
   "id": "ab0d1a13-ea22-4d88-a335-fbe5aff7cd4c",
   "metadata": {
    "papermill": {
     "duration": 0.159347,
     "end_time": "2022-02-21T21:07:01.220996",
     "exception": false,
     "start_time": "2022-02-21T21:07:01.061649",
     "status": "completed"
    },
    "tags": []
   },
   "outputs": [],
   "source": [
    "# Оценка регрессионной модели"
   ]
  },
  {
   "cell_type": "code",
   "execution_count": null,
   "id": "f21539b8-1284-4601-b5f9-96a6c348dca9",
   "metadata": {},
   "outputs": [],
   "source": [
    "# Оценку модели проведем по X_val и  y_val"
   ]
  },
  {
   "cell_type": "code",
   "execution_count": 55,
   "id": "d47c8647-f07f-4eb0-9203-847e8bf34b92",
   "metadata": {
    "papermill": {
     "duration": 0.17301,
     "end_time": "2022-02-21T21:07:01.556867",
     "exception": false,
     "start_time": "2022-02-21T21:07:01.383857",
     "status": "completed"
    },
    "tags": []
   },
   "outputs": [],
   "source": [
    "y_pred = model_LR.predict(X_val)"
   ]
  },
  {
   "cell_type": "code",
   "execution_count": 56,
   "id": "d5c43367-0847-4272-b5c8-954f8e4fcf1a",
   "metadata": {},
   "outputs": [
    {
     "data": {
      "text/plain": [
       "-0.019389360805280864"
      ]
     },
     "execution_count": 56,
     "metadata": {},
     "output_type": "execute_result"
    }
   ],
   "source": [
    "# https://your-scorpion.ru/linear-regression-python/\n",
    "\n",
    "r2_score(y_val, y_pred)"
   ]
  },
  {
   "cell_type": "code",
   "execution_count": null,
   "id": "27cfb5cb-0bc8-4b93-aef9-28fc1392a2d8",
   "metadata": {},
   "outputs": [],
   "source": [
    "# аналогично r_sq_val = model_LR.score(X_val, y_val) такой же результат ПОЧЕМУ???"
   ]
  },
  {
   "cell_type": "code",
   "execution_count": 57,
   "id": "3189a790-8394-4a84-9286-65144596c2ac",
   "metadata": {
    "papermill": {
     "duration": 0.162738,
     "end_time": "2022-02-21T21:07:02.470219",
     "exception": false,
     "start_time": "2022-02-21T21:07:02.307481",
     "status": "completed"
    },
    "tags": []
   },
   "outputs": [],
   "source": [
    "# Расчитаем МАЕ и MSE\n",
    "MAE = metrics.mean_absolute_error(y_val, y_pred)\n",
    "MSE = metrics.mean_squared_error(y_val, y_pred)"
   ]
  },
  {
   "cell_type": "code",
   "execution_count": 58,
   "id": "abeaf93d-a38f-41ee-a0d7-3ba4729832dd",
   "metadata": {
    "papermill": {
     "duration": 0.161021,
     "end_time": "2022-02-21T21:07:02.782544",
     "exception": false,
     "start_time": "2022-02-21T21:07:02.621523",
     "status": "completed"
    },
    "tags": []
   },
   "outputs": [
    {
     "data": {
      "text/plain": [
       "0.14888589"
      ]
     },
     "execution_count": 58,
     "metadata": {},
     "output_type": "execute_result"
    }
   ],
   "source": [
    "MAE"
   ]
  },
  {
   "cell_type": "code",
   "execution_count": 59,
   "id": "50bc1916-5e72-4712-a9a2-ccc0d69f6be0",
   "metadata": {
    "papermill": {
     "duration": 0.171091,
     "end_time": "2022-02-21T21:07:03.108712",
     "exception": false,
     "start_time": "2022-02-21T21:07:02.937621",
     "status": "completed"
    },
    "tags": []
   },
   "outputs": [
    {
     "data": {
      "text/plain": [
       "0.03459401"
      ]
     },
     "execution_count": 59,
     "metadata": {},
     "output_type": "execute_result"
    }
   ],
   "source": [
    "MSE"
   ]
  },
  {
   "cell_type": "code",
   "execution_count": 60,
   "id": "71d7b55d-88df-4115-a8db-6576eb21324a",
   "metadata": {
    "papermill": {
     "duration": 0.167669,
     "end_time": "2022-02-21T21:07:03.773400",
     "exception": false,
     "start_time": "2022-02-21T21:07:03.605731",
     "status": "completed"
    },
    "tags": []
   },
   "outputs": [
    {
     "data": {
      "text/plain": [
       "0.30886024"
      ]
     },
     "execution_count": 60,
     "metadata": {},
     "output_type": "execute_result"
    }
   ],
   "source": [
    "MAE / y_train.mean()"
   ]
  },
  {
   "cell_type": "code",
   "execution_count": 61,
   "id": "043ca03b-c791-4d9d-9432-ff0723f69831",
   "metadata": {},
   "outputs": [
    {
     "name": "stdout",
     "output_type": "stream",
     "text": [
      "коэффициент детерминации R2 = -0.019389360805280864\n"
     ]
    }
   ],
   "source": [
    "r_sq_val = model_LR.score(X_val, y_val)\n",
    "print('коэффициент детерминации R2 =', r_sq_val)"
   ]
  },
  {
   "cell_type": "markdown",
   "id": "46b0d1da-419f-4071-8e89-c8c554e8501b",
   "metadata": {},
   "source": [
    "# собираем все метрики для оценки эффективности моделей\n",
    "# https://github.com/KonstantKul/VKR_MGTU/blob/main/%D0%92%D0%9A%D0%A0_%D0%9C%D0%93%D0%A2%D0%A3_%D0%9A%D1%83%D0%BB%D0%B0%D0%B1%D1%83%D1%85%D0%BE%D0%B2%D0%9A%D0%92.ipynb\n",
    "metrics_models_uprugost = pd.DataFrame()\n",
    "metrics_models_uprugost = pd.concat([metrics_models_uprugost, lr_uprugost_result, kn_uprugost_result, rf_uprugost_result])\n",
    "metrics_models_uprugost\n",
    "     \n",
    "Model\tMAPE\tR2\n",
    "1\tLR_uprugost\t0.453354\t-0.005\n",
    "2\tKN_uprugost\t0.449671\t-0.003\n",
    "3\tRF_uprugost\t0.445775\t-0.005\n",
    "Cредняя абсолютная процентная ошибка между значениями, предсказанными моделью, \n",
    "и фактическими значениями составляет 45%. А коэфициент детерминации ~0 , что говорит о том, что данные прогнозируемые моделями равны усреднённым значениям. Такие низкие показатели работы моделей обусловлены слабой корреляцией данных."
   ]
  },
  {
   "cell_type": "code",
   "execution_count": 62,
   "id": "7e7c79e3-a770-4ae2-9571-ff8cd3b8af06",
   "metadata": {
    "scrolled": true,
    "tags": []
   },
   "outputs": [
    {
     "name": "stdout",
     "output_type": "stream",
     "text": [
      "Точность/accuracy:  -0.011144723636782983\n",
      "\n",
      "scores/Значение оценки при CV =  5 : [0.46183515 0.51239705 0.4249016  0.44043076 0.5133541  0.41674215\n",
      " 0.46710053 0.5003041  0.509106   0.44651514 0.53532004 0.47562137\n",
      " 0.40802473 0.441614   0.46055192 0.4680502  0.4849072  0.42525214\n",
      " 0.4895003  0.5347859  0.46632195 0.47162583 0.44828182 0.42190126\n",
      " 0.47167894 0.4834315  0.4780506  0.48315775 0.47227374 0.4536994\n",
      " 0.5120544  0.48226672 0.50748056 0.4884396  0.49631336 0.48424938\n",
      " 0.47543254 0.47252628 0.49048084 0.46940407 0.44960922 0.47058466\n",
      " 0.48020595 0.45851275 0.4782159  0.47144532 0.46841684 0.43103296\n",
      " 0.4681164  0.46908474 0.48361215 0.4571284  0.46570578 0.48407632\n",
      " 0.4798058  0.42384204 0.45419693 0.47365817 0.50053805 0.487068\n",
      " 0.46202523 0.5228042  0.4738945  0.47843286 0.444894   0.43624914\n",
      " 0.4288675  0.43226507 0.42992398 0.41718382 0.48775196 0.49339592\n",
      " 0.46572357 0.41149187 0.4860819  0.4558831  0.41426194 0.4610787\n",
      " 0.47557703 0.46092984 0.4280826  0.46639127 0.47035903 0.4630629\n",
      " 0.44320083 0.49092913 0.4985119  0.46464866 0.4495232  0.42994067\n",
      " 0.4863702  0.4274205  0.4590662  0.45207858 0.46887264 0.43770424\n",
      " 0.47326446 0.4846089  0.45213515 0.4640564  0.45905656 0.4728348\n",
      " 0.44753626 0.42965317 0.51263    0.5215663  0.44507283 0.4652274\n",
      " 0.46805403 0.4589586  0.4592352  0.44309863 0.45723343 0.49277556\n",
      " 0.49362424 0.46310574 0.4870781  0.4571734  0.39350235 0.43648067\n",
      " 0.45519295 0.4479461  0.44400948 0.49741387 0.47323707 0.4627776\n",
      " 0.49924117 0.4870642  0.4664648  0.422229   0.4816108  0.42845178\n",
      " 0.46240735 0.45722452 0.48420805 0.5204292  0.47304076 0.47581086\n",
      " 0.40925658 0.43462795 0.51103723 0.46223235 0.4913798  0.43356046\n",
      " 0.4365175  0.4151249  0.37976485 0.49668232 0.48095283 0.52571696\n",
      " 0.52128845 0.4807221 ]\n",
      "\n",
      "Mean Cross Validation Score:  0.46599147\n",
      "\n",
      "Стандартное отколение оценки: 0.028813573\n"
     ]
    }
   ],
   "source": [
    "# Расчиттаем 'accuracy' через модуль 'cross_val_predict'\n",
    "predictions = cross_val_predict(model_LR, X_val, y_val, cv = cv)\n",
    "accuracy = metrics.r2_score(y_val, predictions) \n",
    "print('Точность/accuracy: ', accuracy)\n",
    "print()\n",
    "print ('scores/Значение оценки при CV = ', cv, ':', predictions)\n",
    "print()\n",
    "print('Mean Cross Validation Score: ', np.mean(predictions))\n",
    "print()\n",
    "print('Стандартное отколение оценки:', np.std(predictions))"
   ]
  },
  {
   "cell_type": "markdown",
   "id": "77225ee0-982b-4c13-bff1-fd35ccd78aa0",
   "metadata": {
    "tags": []
   },
   "source": [
    " Построить график: Точность - accuracy при разных cv\n",
    "\n",
    "-0.02450619410360333 при cv = 3\n",
    "-0.011144723636782983 при cv = 5 # наилучший показатель\n",
    "-0.033191268849138034 при cv = 10\n",
    "-0.03276950667117662 при cv = 15\n",
    "-0.03770913716177726 при cv = 20\n",
    "-0.03405005198500288 при cv = 25"
   ]
  },
  {
   "cell_type": "code",
   "execution_count": 63,
   "id": "645c4a96-6053-4c29-b866-2e36a79b51f1",
   "metadata": {},
   "outputs": [
    {
     "data": {
      "application/vnd.plotly.v1+json": {
       "config": {
        "plotlyServerURL": "https://plot.ly"
       },
       "data": [
        {
         "type": "scatter",
         "x": [
          3,
          5,
          10,
          15,
          20,
          25
         ],
         "y": [
          -0.0245,
          -0.0111,
          -0.0332,
          -0.0328,
          -0.0377,
          -0.034
         ]
        }
       ],
       "layout": {
        "autosize": true,
        "margin": {
         "b": 0,
         "l": 0,
         "r": 0,
         "t": 30
        },
        "template": {
         "data": {
          "bar": [
           {
            "error_x": {
             "color": "#2a3f5f"
            },
            "error_y": {
             "color": "#2a3f5f"
            },
            "marker": {
             "line": {
              "color": "#E5ECF6",
              "width": 0.5
             },
             "pattern": {
              "fillmode": "overlay",
              "size": 10,
              "solidity": 0.2
             }
            },
            "type": "bar"
           }
          ],
          "barpolar": [
           {
            "marker": {
             "line": {
              "color": "#E5ECF6",
              "width": 0.5
             },
             "pattern": {
              "fillmode": "overlay",
              "size": 10,
              "solidity": 0.2
             }
            },
            "type": "barpolar"
           }
          ],
          "carpet": [
           {
            "aaxis": {
             "endlinecolor": "#2a3f5f",
             "gridcolor": "white",
             "linecolor": "white",
             "minorgridcolor": "white",
             "startlinecolor": "#2a3f5f"
            },
            "baxis": {
             "endlinecolor": "#2a3f5f",
             "gridcolor": "white",
             "linecolor": "white",
             "minorgridcolor": "white",
             "startlinecolor": "#2a3f5f"
            },
            "type": "carpet"
           }
          ],
          "choropleth": [
           {
            "colorbar": {
             "outlinewidth": 0,
             "ticks": ""
            },
            "type": "choropleth"
           }
          ],
          "contour": [
           {
            "colorbar": {
             "outlinewidth": 0,
             "ticks": ""
            },
            "colorscale": [
             [
              0,
              "#0d0887"
             ],
             [
              0.1111111111111111,
              "#46039f"
             ],
             [
              0.2222222222222222,
              "#7201a8"
             ],
             [
              0.3333333333333333,
              "#9c179e"
             ],
             [
              0.4444444444444444,
              "#bd3786"
             ],
             [
              0.5555555555555556,
              "#d8576b"
             ],
             [
              0.6666666666666666,
              "#ed7953"
             ],
             [
              0.7777777777777778,
              "#fb9f3a"
             ],
             [
              0.8888888888888888,
              "#fdca26"
             ],
             [
              1,
              "#f0f921"
             ]
            ],
            "type": "contour"
           }
          ],
          "contourcarpet": [
           {
            "colorbar": {
             "outlinewidth": 0,
             "ticks": ""
            },
            "type": "contourcarpet"
           }
          ],
          "heatmap": [
           {
            "colorbar": {
             "outlinewidth": 0,
             "ticks": ""
            },
            "colorscale": [
             [
              0,
              "#0d0887"
             ],
             [
              0.1111111111111111,
              "#46039f"
             ],
             [
              0.2222222222222222,
              "#7201a8"
             ],
             [
              0.3333333333333333,
              "#9c179e"
             ],
             [
              0.4444444444444444,
              "#bd3786"
             ],
             [
              0.5555555555555556,
              "#d8576b"
             ],
             [
              0.6666666666666666,
              "#ed7953"
             ],
             [
              0.7777777777777778,
              "#fb9f3a"
             ],
             [
              0.8888888888888888,
              "#fdca26"
             ],
             [
              1,
              "#f0f921"
             ]
            ],
            "type": "heatmap"
           }
          ],
          "heatmapgl": [
           {
            "colorbar": {
             "outlinewidth": 0,
             "ticks": ""
            },
            "colorscale": [
             [
              0,
              "#0d0887"
             ],
             [
              0.1111111111111111,
              "#46039f"
             ],
             [
              0.2222222222222222,
              "#7201a8"
             ],
             [
              0.3333333333333333,
              "#9c179e"
             ],
             [
              0.4444444444444444,
              "#bd3786"
             ],
             [
              0.5555555555555556,
              "#d8576b"
             ],
             [
              0.6666666666666666,
              "#ed7953"
             ],
             [
              0.7777777777777778,
              "#fb9f3a"
             ],
             [
              0.8888888888888888,
              "#fdca26"
             ],
             [
              1,
              "#f0f921"
             ]
            ],
            "type": "heatmapgl"
           }
          ],
          "histogram": [
           {
            "marker": {
             "pattern": {
              "fillmode": "overlay",
              "size": 10,
              "solidity": 0.2
             }
            },
            "type": "histogram"
           }
          ],
          "histogram2d": [
           {
            "colorbar": {
             "outlinewidth": 0,
             "ticks": ""
            },
            "colorscale": [
             [
              0,
              "#0d0887"
             ],
             [
              0.1111111111111111,
              "#46039f"
             ],
             [
              0.2222222222222222,
              "#7201a8"
             ],
             [
              0.3333333333333333,
              "#9c179e"
             ],
             [
              0.4444444444444444,
              "#bd3786"
             ],
             [
              0.5555555555555556,
              "#d8576b"
             ],
             [
              0.6666666666666666,
              "#ed7953"
             ],
             [
              0.7777777777777778,
              "#fb9f3a"
             ],
             [
              0.8888888888888888,
              "#fdca26"
             ],
             [
              1,
              "#f0f921"
             ]
            ],
            "type": "histogram2d"
           }
          ],
          "histogram2dcontour": [
           {
            "colorbar": {
             "outlinewidth": 0,
             "ticks": ""
            },
            "colorscale": [
             [
              0,
              "#0d0887"
             ],
             [
              0.1111111111111111,
              "#46039f"
             ],
             [
              0.2222222222222222,
              "#7201a8"
             ],
             [
              0.3333333333333333,
              "#9c179e"
             ],
             [
              0.4444444444444444,
              "#bd3786"
             ],
             [
              0.5555555555555556,
              "#d8576b"
             ],
             [
              0.6666666666666666,
              "#ed7953"
             ],
             [
              0.7777777777777778,
              "#fb9f3a"
             ],
             [
              0.8888888888888888,
              "#fdca26"
             ],
             [
              1,
              "#f0f921"
             ]
            ],
            "type": "histogram2dcontour"
           }
          ],
          "mesh3d": [
           {
            "colorbar": {
             "outlinewidth": 0,
             "ticks": ""
            },
            "type": "mesh3d"
           }
          ],
          "parcoords": [
           {
            "line": {
             "colorbar": {
              "outlinewidth": 0,
              "ticks": ""
             }
            },
            "type": "parcoords"
           }
          ],
          "pie": [
           {
            "automargin": true,
            "type": "pie"
           }
          ],
          "scatter": [
           {
            "fillpattern": {
             "fillmode": "overlay",
             "size": 10,
             "solidity": 0.2
            },
            "type": "scatter"
           }
          ],
          "scatter3d": [
           {
            "line": {
             "colorbar": {
              "outlinewidth": 0,
              "ticks": ""
             }
            },
            "marker": {
             "colorbar": {
              "outlinewidth": 0,
              "ticks": ""
             }
            },
            "type": "scatter3d"
           }
          ],
          "scattercarpet": [
           {
            "marker": {
             "colorbar": {
              "outlinewidth": 0,
              "ticks": ""
             }
            },
            "type": "scattercarpet"
           }
          ],
          "scattergeo": [
           {
            "marker": {
             "colorbar": {
              "outlinewidth": 0,
              "ticks": ""
             }
            },
            "type": "scattergeo"
           }
          ],
          "scattergl": [
           {
            "marker": {
             "colorbar": {
              "outlinewidth": 0,
              "ticks": ""
             }
            },
            "type": "scattergl"
           }
          ],
          "scattermapbox": [
           {
            "marker": {
             "colorbar": {
              "outlinewidth": 0,
              "ticks": ""
             }
            },
            "type": "scattermapbox"
           }
          ],
          "scatterpolar": [
           {
            "marker": {
             "colorbar": {
              "outlinewidth": 0,
              "ticks": ""
             }
            },
            "type": "scatterpolar"
           }
          ],
          "scatterpolargl": [
           {
            "marker": {
             "colorbar": {
              "outlinewidth": 0,
              "ticks": ""
             }
            },
            "type": "scatterpolargl"
           }
          ],
          "scatterternary": [
           {
            "marker": {
             "colorbar": {
              "outlinewidth": 0,
              "ticks": ""
             }
            },
            "type": "scatterternary"
           }
          ],
          "surface": [
           {
            "colorbar": {
             "outlinewidth": 0,
             "ticks": ""
            },
            "colorscale": [
             [
              0,
              "#0d0887"
             ],
             [
              0.1111111111111111,
              "#46039f"
             ],
             [
              0.2222222222222222,
              "#7201a8"
             ],
             [
              0.3333333333333333,
              "#9c179e"
             ],
             [
              0.4444444444444444,
              "#bd3786"
             ],
             [
              0.5555555555555556,
              "#d8576b"
             ],
             [
              0.6666666666666666,
              "#ed7953"
             ],
             [
              0.7777777777777778,
              "#fb9f3a"
             ],
             [
              0.8888888888888888,
              "#fdca26"
             ],
             [
              1,
              "#f0f921"
             ]
            ],
            "type": "surface"
           }
          ],
          "table": [
           {
            "cells": {
             "fill": {
              "color": "#EBF0F8"
             },
             "line": {
              "color": "white"
             }
            },
            "header": {
             "fill": {
              "color": "#C8D4E3"
             },
             "line": {
              "color": "white"
             }
            },
            "type": "table"
           }
          ]
         },
         "layout": {
          "annotationdefaults": {
           "arrowcolor": "#2a3f5f",
           "arrowhead": 0,
           "arrowwidth": 1
          },
          "autotypenumbers": "strict",
          "coloraxis": {
           "colorbar": {
            "outlinewidth": 0,
            "ticks": ""
           }
          },
          "colorscale": {
           "diverging": [
            [
             0,
             "#8e0152"
            ],
            [
             0.1,
             "#c51b7d"
            ],
            [
             0.2,
             "#de77ae"
            ],
            [
             0.3,
             "#f1b6da"
            ],
            [
             0.4,
             "#fde0ef"
            ],
            [
             0.5,
             "#f7f7f7"
            ],
            [
             0.6,
             "#e6f5d0"
            ],
            [
             0.7,
             "#b8e186"
            ],
            [
             0.8,
             "#7fbc41"
            ],
            [
             0.9,
             "#4d9221"
            ],
            [
             1,
             "#276419"
            ]
           ],
           "sequential": [
            [
             0,
             "#0d0887"
            ],
            [
             0.1111111111111111,
             "#46039f"
            ],
            [
             0.2222222222222222,
             "#7201a8"
            ],
            [
             0.3333333333333333,
             "#9c179e"
            ],
            [
             0.4444444444444444,
             "#bd3786"
            ],
            [
             0.5555555555555556,
             "#d8576b"
            ],
            [
             0.6666666666666666,
             "#ed7953"
            ],
            [
             0.7777777777777778,
             "#fb9f3a"
            ],
            [
             0.8888888888888888,
             "#fdca26"
            ],
            [
             1,
             "#f0f921"
            ]
           ],
           "sequentialminus": [
            [
             0,
             "#0d0887"
            ],
            [
             0.1111111111111111,
             "#46039f"
            ],
            [
             0.2222222222222222,
             "#7201a8"
            ],
            [
             0.3333333333333333,
             "#9c179e"
            ],
            [
             0.4444444444444444,
             "#bd3786"
            ],
            [
             0.5555555555555556,
             "#d8576b"
            ],
            [
             0.6666666666666666,
             "#ed7953"
            ],
            [
             0.7777777777777778,
             "#fb9f3a"
            ],
            [
             0.8888888888888888,
             "#fdca26"
            ],
            [
             1,
             "#f0f921"
            ]
           ]
          },
          "colorway": [
           "#636efa",
           "#EF553B",
           "#00cc96",
           "#ab63fa",
           "#FFA15A",
           "#19d3f3",
           "#FF6692",
           "#B6E880",
           "#FF97FF",
           "#FECB52"
          ],
          "font": {
           "color": "#2a3f5f"
          },
          "geo": {
           "bgcolor": "white",
           "lakecolor": "white",
           "landcolor": "#E5ECF6",
           "showlakes": true,
           "showland": true,
           "subunitcolor": "white"
          },
          "hoverlabel": {
           "align": "left"
          },
          "hovermode": "closest",
          "mapbox": {
           "style": "light"
          },
          "paper_bgcolor": "white",
          "plot_bgcolor": "#E5ECF6",
          "polar": {
           "angularaxis": {
            "gridcolor": "white",
            "linecolor": "white",
            "ticks": ""
           },
           "bgcolor": "#E5ECF6",
           "radialaxis": {
            "gridcolor": "white",
            "linecolor": "white",
            "ticks": ""
           }
          },
          "scene": {
           "xaxis": {
            "backgroundcolor": "#E5ECF6",
            "gridcolor": "white",
            "gridwidth": 2,
            "linecolor": "white",
            "showbackground": true,
            "ticks": "",
            "zerolinecolor": "white"
           },
           "yaxis": {
            "backgroundcolor": "#E5ECF6",
            "gridcolor": "white",
            "gridwidth": 2,
            "linecolor": "white",
            "showbackground": true,
            "ticks": "",
            "zerolinecolor": "white"
           },
           "zaxis": {
            "backgroundcolor": "#E5ECF6",
            "gridcolor": "white",
            "gridwidth": 2,
            "linecolor": "white",
            "showbackground": true,
            "ticks": "",
            "zerolinecolor": "white"
           }
          },
          "shapedefaults": {
           "line": {
            "color": "#2a3f5f"
           }
          },
          "ternary": {
           "aaxis": {
            "gridcolor": "white",
            "linecolor": "white",
            "ticks": ""
           },
           "baxis": {
            "gridcolor": "white",
            "linecolor": "white",
            "ticks": ""
           },
           "bgcolor": "#E5ECF6",
           "caxis": {
            "gridcolor": "white",
            "linecolor": "white",
            "ticks": ""
           }
          },
          "title": {
           "x": 0.05
          },
          "xaxis": {
           "automargin": true,
           "gridcolor": "white",
           "linecolor": "white",
           "ticks": "",
           "title": {
            "standoff": 15
           },
           "zerolinecolor": "white",
           "zerolinewidth": 2
          },
          "yaxis": {
           "automargin": true,
           "gridcolor": "white",
           "linecolor": "white",
           "ticks": "",
           "title": {
            "standoff": 15
           },
           "zerolinecolor": "white",
           "zerolinewidth": 2
          }
         }
        },
        "title": {
         "text": "Графики изменения Accuracy при разных CV"
        },
        "xaxis": {
         "autorange": true,
         "range": [
          1.6626475759859332,
          26.337352424014068
         ],
         "title": {
          "text": "CV количество разбиений массива"
         },
         "type": "linear"
        },
        "yaxis": {
         "autorange": true,
         "range": [
          -0.03961499013806706,
          -0.00918500986193294
         ],
         "title": {
          "text": "accuracy"
         },
         "type": "linear"
        }
       }
      },
      "image/png": "[encoded data removed]",
      "text/html": [
       "<div>                            <div id=\"0e7da092-e431-4c0b-aa68-054a3fe08ae3\" class=\"plotly-graph-div\" style=\"height:525px; width:100%;\"></div>            <script type=\"text/javascript\">                require([\"plotly\"], function(Plotly) {                    window.PLOTLYENV=window.PLOTLYENV || {};                                    if (document.getElementById(\"0e7da092-e431-4c0b-aa68-054a3fe08ae3\")) {                    Plotly.newPlot(                        \"0e7da092-e431-4c0b-aa68-054a3fe08ae3\",                        [{\"x\":[3,5,10,15,20,25],\"y\":[-0.0245,-0.0111,-0.0332,-0.0328,-0.0377,-0.034],\"type\":\"scatter\"}],                        {\"template\":{\"data\":{\"histogram2dcontour\":[{\"type\":\"histogram2dcontour\",\"colorbar\":{\"outlinewidth\":0,\"ticks\":\"\"},\"colorscale\":[[0.0,\"#0d0887\"],[0.1111111111111111,\"#46039f\"],[0.2222222222222222,\"#7201a8\"],[0.3333333333333333,\"#9c179e\"],[0.4444444444444444,\"#bd3786\"],[0.5555555555555556,\"#d8576b\"],[0.6666666666666666,\"#ed7953\"],[0.7777777777777778,\"#fb9f3a\"],[0.8888888888888888,\"#fdca26\"],[1.0,\"#f0f921\"]]}],\"choropleth\":[{\"type\":\"choropleth\",\"colorbar\":{\"outlinewidth\":0,\"ticks\":\"\"}}],\"histogram2d\":[{\"type\":\"histogram2d\",\"colorbar\":{\"outlinewidth\":0,\"ticks\":\"\"},\"colorscale\":[[0.0,\"#0d0887\"],[0.1111111111111111,\"#46039f\"],[0.2222222222222222,\"#7201a8\"],[0.3333333333333333,\"#9c179e\"],[0.4444444444444444,\"#bd3786\"],[0.5555555555555556,\"#d8576b\"],[0.6666666666666666,\"#ed7953\"],[0.7777777777777778,\"#fb9f3a\"],[0.8888888888888888,\"#fdca26\"],[1.0,\"#f0f921\"]]}],\"heatmap\":[{\"type\":\"heatmap\",\"colorbar\":{\"outlinewidth\":0,\"ticks\":\"\"},\"colorscale\":[[0.0,\"#0d0887\"],[0.1111111111111111,\"#46039f\"],[0.2222222222222222,\"#7201a8\"],[0.3333333333333333,\"#9c179e\"],[0.4444444444444444,\"#bd3786\"],[0.5555555555555556,\"#d8576b\"],[0.6666666666666666,\"#ed7953\"],[0.7777777777777778,\"#fb9f3a\"],[0.8888888888888888,\"#fdca26\"],[1.0,\"#f0f921\"]]}],\"heatmapgl\":[{\"type\":\"heatmapgl\",\"colorbar\":{\"outlinewidth\":0,\"ticks\":\"\"},\"colorscale\":[[0.0,\"#0d0887\"],[0.1111111111111111,\"#46039f\"],[0.2222222222222222,\"#7201a8\"],[0.3333333333333333,\"#9c179e\"],[0.4444444444444444,\"#bd3786\"],[0.5555555555555556,\"#d8576b\"],[0.6666666666666666,\"#ed7953\"],[0.7777777777777778,\"#fb9f3a\"],[0.8888888888888888,\"#fdca26\"],[1.0,\"#f0f921\"]]}],\"contourcarpet\":[{\"type\":\"contourcarpet\",\"colorbar\":{\"outlinewidth\":0,\"ticks\":\"\"}}],\"contour\":[{\"type\":\"contour\",\"colorbar\":{\"outlinewidth\":0,\"ticks\":\"\"},\"colorscale\":[[0.0,\"#0d0887\"],[0.1111111111111111,\"#46039f\"],[0.2222222222222222,\"#7201a8\"],[0.3333333333333333,\"#9c179e\"],[0.4444444444444444,\"#bd3786\"],[0.5555555555555556,\"#d8576b\"],[0.6666666666666666,\"#ed7953\"],[0.7777777777777778,\"#fb9f3a\"],[0.8888888888888888,\"#fdca26\"],[1.0,\"#f0f921\"]]}],\"surface\":[{\"type\":\"surface\",\"colorbar\":{\"outlinewidth\":0,\"ticks\":\"\"},\"colorscale\":[[0.0,\"#0d0887\"],[0.1111111111111111,\"#46039f\"],[0.2222222222222222,\"#7201a8\"],[0.3333333333333333,\"#9c179e\"],[0.4444444444444444,\"#bd3786\"],[0.5555555555555556,\"#d8576b\"],[0.6666666666666666,\"#ed7953\"],[0.7777777777777778,\"#fb9f3a\"],[0.8888888888888888,\"#fdca26\"],[1.0,\"#f0f921\"]]}],\"mesh3d\":[{\"type\":\"mesh3d\",\"colorbar\":{\"outlinewidth\":0,\"ticks\":\"\"}}],\"scatter\":[{\"fillpattern\":{\"fillmode\":\"overlay\",\"size\":10,\"solidity\":0.2},\"type\":\"scatter\"}],\"parcoords\":[{\"type\":\"parcoords\",\"line\":{\"colorbar\":{\"outlinewidth\":0,\"ticks\":\"\"}}}],\"scatterpolargl\":[{\"type\":\"scatterpolargl\",\"marker\":{\"colorbar\":{\"outlinewidth\":0,\"ticks\":\"\"}}}],\"bar\":[{\"error_x\":{\"color\":\"#2a3f5f\"},\"error_y\":{\"color\":\"#2a3f5f\"},\"marker\":{\"line\":{\"color\":\"#E5ECF6\",\"width\":0.5},\"pattern\":{\"fillmode\":\"overlay\",\"size\":10,\"solidity\":0.2}},\"type\":\"bar\"}],\"scattergeo\":[{\"type\":\"scattergeo\",\"marker\":{\"colorbar\":{\"outlinewidth\":0,\"ticks\":\"\"}}}],\"scatterpolar\":[{\"type\":\"scatterpolar\",\"marker\":{\"colorbar\":{\"outlinewidth\":0,\"ticks\":\"\"}}}],\"histogram\":[{\"marker\":{\"pattern\":{\"fillmode\":\"overlay\",\"size\":10,\"solidity\":0.2}},\"type\":\"histogram\"}],\"scattergl\":[{\"type\":\"scattergl\",\"marker\":{\"colorbar\":{\"outlinewidth\":0,\"ticks\":\"\"}}}],\"scatter3d\":[{\"type\":\"scatter3d\",\"line\":{\"colorbar\":{\"outlinewidth\":0,\"ticks\":\"\"}},\"marker\":{\"colorbar\":{\"outlinewidth\":0,\"ticks\":\"\"}}}],\"scattermapbox\":[{\"type\":\"scattermapbox\",\"marker\":{\"colorbar\":{\"outlinewidth\":0,\"ticks\":\"\"}}}],\"scatterternary\":[{\"type\":\"scatterternary\",\"marker\":{\"colorbar\":{\"outlinewidth\":0,\"ticks\":\"\"}}}],\"scattercarpet\":[{\"type\":\"scattercarpet\",\"marker\":{\"colorbar\":{\"outlinewidth\":0,\"ticks\":\"\"}}}],\"carpet\":[{\"aaxis\":{\"endlinecolor\":\"#2a3f5f\",\"gridcolor\":\"white\",\"linecolor\":\"white\",\"minorgridcolor\":\"white\",\"startlinecolor\":\"#2a3f5f\"},\"baxis\":{\"endlinecolor\":\"#2a3f5f\",\"gridcolor\":\"white\",\"linecolor\":\"white\",\"minorgridcolor\":\"white\",\"startlinecolor\":\"#2a3f5f\"},\"type\":\"carpet\"}],\"table\":[{\"cells\":{\"fill\":{\"color\":\"#EBF0F8\"},\"line\":{\"color\":\"white\"}},\"header\":{\"fill\":{\"color\":\"#C8D4E3\"},\"line\":{\"color\":\"white\"}},\"type\":\"table\"}],\"barpolar\":[{\"marker\":{\"line\":{\"color\":\"#E5ECF6\",\"width\":0.5},\"pattern\":{\"fillmode\":\"overlay\",\"size\":10,\"solidity\":0.2}},\"type\":\"barpolar\"}],\"pie\":[{\"automargin\":true,\"type\":\"pie\"}]},\"layout\":{\"autotypenumbers\":\"strict\",\"colorway\":[\"#636efa\",\"#EF553B\",\"#00cc96\",\"#ab63fa\",\"#FFA15A\",\"#19d3f3\",\"#FF6692\",\"#B6E880\",\"#FF97FF\",\"#FECB52\"],\"font\":{\"color\":\"#2a3f5f\"},\"hovermode\":\"closest\",\"hoverlabel\":{\"align\":\"left\"},\"paper_bgcolor\":\"white\",\"plot_bgcolor\":\"#E5ECF6\",\"polar\":{\"bgcolor\":\"#E5ECF6\",\"angularaxis\":{\"gridcolor\":\"white\",\"linecolor\":\"white\",\"ticks\":\"\"},\"radialaxis\":{\"gridcolor\":\"white\",\"linecolor\":\"white\",\"ticks\":\"\"}},\"ternary\":{\"bgcolor\":\"#E5ECF6\",\"aaxis\":{\"gridcolor\":\"white\",\"linecolor\":\"white\",\"ticks\":\"\"},\"baxis\":{\"gridcolor\":\"white\",\"linecolor\":\"white\",\"ticks\":\"\"},\"caxis\":{\"gridcolor\":\"white\",\"linecolor\":\"white\",\"ticks\":\"\"}},\"coloraxis\":{\"colorbar\":{\"outlinewidth\":0,\"ticks\":\"\"}},\"colorscale\":{\"sequential\":[[0.0,\"#0d0887\"],[0.1111111111111111,\"#46039f\"],[0.2222222222222222,\"#7201a8\"],[0.3333333333333333,\"#9c179e\"],[0.4444444444444444,\"#bd3786\"],[0.5555555555555556,\"#d8576b\"],[0.6666666666666666,\"#ed7953\"],[0.7777777777777778,\"#fb9f3a\"],[0.8888888888888888,\"#fdca26\"],[1.0,\"#f0f921\"]],\"sequentialminus\":[[0.0,\"#0d0887\"],[0.1111111111111111,\"#46039f\"],[0.2222222222222222,\"#7201a8\"],[0.3333333333333333,\"#9c179e\"],[0.4444444444444444,\"#bd3786\"],[0.5555555555555556,\"#d8576b\"],[0.6666666666666666,\"#ed7953\"],[0.7777777777777778,\"#fb9f3a\"],[0.8888888888888888,\"#fdca26\"],[1.0,\"#f0f921\"]],\"diverging\":[[0,\"#8e0152\"],[0.1,\"#c51b7d\"],[0.2,\"#de77ae\"],[0.3,\"#f1b6da\"],[0.4,\"#fde0ef\"],[0.5,\"#f7f7f7\"],[0.6,\"#e6f5d0\"],[0.7,\"#b8e186\"],[0.8,\"#7fbc41\"],[0.9,\"#4d9221\"],[1,\"#276419\"]]},\"xaxis\":{\"gridcolor\":\"white\",\"linecolor\":\"white\",\"ticks\":\"\",\"title\":{\"standoff\":15},\"zerolinecolor\":\"white\",\"automargin\":true,\"zerolinewidth\":2},\"yaxis\":{\"gridcolor\":\"white\",\"linecolor\":\"white\",\"ticks\":\"\",\"title\":{\"standoff\":15},\"zerolinecolor\":\"white\",\"automargin\":true,\"zerolinewidth\":2},\"scene\":{\"xaxis\":{\"backgroundcolor\":\"#E5ECF6\",\"gridcolor\":\"white\",\"linecolor\":\"white\",\"showbackground\":true,\"ticks\":\"\",\"zerolinecolor\":\"white\",\"gridwidth\":2},\"yaxis\":{\"backgroundcolor\":\"#E5ECF6\",\"gridcolor\":\"white\",\"linecolor\":\"white\",\"showbackground\":true,\"ticks\":\"\",\"zerolinecolor\":\"white\",\"gridwidth\":2},\"zaxis\":{\"backgroundcolor\":\"#E5ECF6\",\"gridcolor\":\"white\",\"linecolor\":\"white\",\"showbackground\":true,\"ticks\":\"\",\"zerolinecolor\":\"white\",\"gridwidth\":2}},\"shapedefaults\":{\"line\":{\"color\":\"#2a3f5f\"}},\"annotationdefaults\":{\"arrowcolor\":\"#2a3f5f\",\"arrowhead\":0,\"arrowwidth\":1},\"geo\":{\"bgcolor\":\"white\",\"landcolor\":\"#E5ECF6\",\"subunitcolor\":\"white\",\"showland\":true,\"showlakes\":true,\"lakecolor\":\"white\"},\"title\":{\"x\":0.05},\"mapbox\":{\"style\":\"light\"}}},\"margin\":{\"l\":0,\"r\":0,\"t\":30,\"b\":0},\"title\":{\"text\":\"\\u0413\\u0440\\u0430\\u0444\\u0438\\u043a\\u0438 \\u0438\\u0437\\u043c\\u0435\\u043d\\u0435\\u043d\\u0438\\u044f Accuracy \\u043f\\u0440\\u0438 \\u0440\\u0430\\u0437\\u043d\\u044b\\u0445 CV\"},\"xaxis\":{\"title\":{\"text\":\"CV \\u043a\\u043e\\u043b\\u0438\\u0447\\u0435\\u0441\\u0442\\u0432\\u043e \\u0440\\u0430\\u0437\\u0431\\u0438\\u0435\\u043d\\u0438\\u0439 \\u043c\\u0430\\u0441\\u0441\\u0438\\u0432\\u0430\"}},\"yaxis\":{\"title\":{\"text\":\"accuracy\"}}},                        {\"responsive\": true}                    ).then(function(){\n",
       "                            \n",
       "var gd = document.getElementById('0e7da092-e431-4c0b-aa68-054a3fe08ae3');\n",
       "var x = new MutationObserver(function (mutations, observer) {{\n",
       "        var display = window.getComputedStyle(gd).display;\n",
       "        if (!display || display === 'none') {{\n",
       "            console.log([gd, 'removed!']);\n",
       "            Plotly.purge(gd);\n",
       "            observer.disconnect();\n",
       "        }}\n",
       "}});\n",
       "\n",
       "// Listen for the removal of the full notebook cells\n",
       "var notebookContainer = gd.closest('#notebook-container');\n",
       "if (notebookContainer) {{\n",
       "    x.observe(notebookContainer, {childList: true});\n",
       "}}\n",
       "\n",
       "// Listen for the clearing of the current output cell\n",
       "var outputEl = gd.closest('.output');\n",
       "if (outputEl) {{\n",
       "    x.observe(outputEl, {childList: true});\n",
       "}}\n",
       "\n",
       "                        })                };                });            </script>        </div>"
      ]
     },
     "metadata": {},
     "output_type": "display_data"
    }
   ],
   "source": [
    "# Построить график: Точность - accuracy при разных cv\n",
    "x = np.array([3, 5, 10, 15, 20, 25])\n",
    "y = np.array([-0.0245, -0.0111, -0.0332,-0.0328,-0.0377, -0.034]) \n",
    "fig = go.Figure()\n",
    "fig.add_trace(go.Scatter(x=x, y=y))\n",
    "fig.update_layout(title='Графики изменения Accuracy при разных CV',\n",
    "                  xaxis_title='CV количество разбиений массива',\n",
    "                  yaxis_title='accuracy',\n",
    "                  margin=dict(l=0, r=0, t=30, b=0))\n",
    "fig.show()"
   ]
  },
  {
   "cell_type": "code",
   "execution_count": 64,
   "id": "9ef4429e-309e-45cc-8de8-32f64e53e11f",
   "metadata": {},
   "outputs": [
    {
     "data": {
      "image/png": "[encoded data removed]",
      "text/plain": [
       "<Figure size 640x480 with 1 Axes>"
      ]
     },
     "metadata": {},
     "output_type": "display_data"
    }
   ],
   "source": [
    "# Нарисуем плавный график\n",
    "# Dataset\n",
    "x = np.array([3, 5, 10, 15, 20])\n",
    "y = np.array([-0.0245, -0.0111, -0.0331,-0.0327,-0.0377]) \n",
    "\n",
    "# Плавная кривая сплайна\n",
    "X_Y_Spline = make_interp_spline(x, y) \n",
    "\n",
    "# Возвращает равномерно распределенные числа\n",
    "# через указанный интервал - 50\n",
    "X_ = np.linspace(x.min(), x.max(), 50)\n",
    "Y_ = X_Y_Spline(X_)\n",
    "'''\n",
    "# Плавная кривая кубической интерполяции\n",
    "cubic_interpolation_model = interp1d(x, y, kind = \"cubic\")\n",
    "X_=np.linspace(x.min(), x.max(), 500)\n",
    "Y_=cubic_interpolation_model(X_)\n",
    "'''\n",
    "# Рисуем график\n",
    "plt.plot(X_, Y_)\n",
    "plt.title('Графики изменения Accuracy при разных CV')\n",
    "plt.xlabel('CV количество разбиений массива')\n",
    "plt.ylabel('Аccuracy')\n",
    "plt.show()\n"
   ]
  },
  {
   "cell_type": "code",
   "execution_count": null,
   "id": "ebcd1e3b-2e26-4cce-b611-fc65ef8f5aec",
   "metadata": {
    "tags": []
   },
   "outputs": [],
   "source": [
    "# ________________________________________________________"
   ]
  },
  {
   "cell_type": "code",
   "execution_count": null,
   "id": "8e5c9367-f0d9-4356-8875-6773f6c42707",
   "metadata": {},
   "outputs": [],
   "source": [
    "# 2. Линейная регрессия на основе статистических модулей"
   ]
  },
  {
   "cell_type": "markdown",
   "id": "99d8ed94-1b70-488b-8706-047a4d892343",
   "metadata": {},
   "source": [
    "$y = w_0 + w_1x_1$"
   ]
  },
  {
   "cell_type": "code",
   "execution_count": 65,
   "id": "fee0b6c3-5ecb-41c6-af59-2168b08ed1ff",
   "metadata": {
    "_uuid": "b80a766082e6c9c40c3f09499fec4cfc51f62763"
   },
   "outputs": [
    {
     "data": {
      "text/html": [
       "<div>\n",
       "<style scoped>\n",
       "    .dataframe tbody tr th:only-of-type {\n",
       "        vertical-align: middle;\n",
       "    }\n",
       "\n",
       "    .dataframe tbody tr th {\n",
       "        vertical-align: top;\n",
       "    }\n",
       "\n",
       "    .dataframe thead th {\n",
       "        text-align: right;\n",
       "    }\n",
       "</style>\n",
       "<table border=\"1\" class=\"dataframe\">\n",
       "  <thead>\n",
       "    <tr style=\"text-align: right;\">\n",
       "      <th></th>\n",
       "      <th>const</th>\n",
       "      <th>density</th>\n",
       "      <th>number_hardeners</th>\n",
       "      <th>surface_density</th>\n",
       "    </tr>\n",
       "  </thead>\n",
       "  <tbody>\n",
       "    <tr>\n",
       "      <th>858</th>\n",
       "      <td>1.0</td>\n",
       "      <td>0.475380</td>\n",
       "      <td>0.376875</td>\n",
       "      <td>0.602928</td>\n",
       "    </tr>\n",
       "    <tr>\n",
       "      <th>392</th>\n",
       "      <td>1.0</td>\n",
       "      <td>0.783307</td>\n",
       "      <td>0.270056</td>\n",
       "      <td>0.300245</td>\n",
       "    </tr>\n",
       "    <tr>\n",
       "      <th>639</th>\n",
       "      <td>1.0</td>\n",
       "      <td>0.596950</td>\n",
       "      <td>0.477232</td>\n",
       "      <td>0.178399</td>\n",
       "    </tr>\n",
       "    <tr>\n",
       "      <th>211</th>\n",
       "      <td>1.0</td>\n",
       "      <td>0.281708</td>\n",
       "      <td>0.574292</td>\n",
       "      <td>0.411276</td>\n",
       "    </tr>\n",
       "    <tr>\n",
       "      <th>280</th>\n",
       "      <td>1.0</td>\n",
       "      <td>0.544767</td>\n",
       "      <td>0.417452</td>\n",
       "      <td>0.332976</td>\n",
       "    </tr>\n",
       "    <tr>\n",
       "      <th>...</th>\n",
       "      <td>...</td>\n",
       "      <td>...</td>\n",
       "      <td>...</td>\n",
       "      <td>...</td>\n",
       "    </tr>\n",
       "    <tr>\n",
       "      <th>270</th>\n",
       "      <td>1.0</td>\n",
       "      <td>0.304920</td>\n",
       "      <td>0.391090</td>\n",
       "      <td>0.221894</td>\n",
       "    </tr>\n",
       "    <tr>\n",
       "      <th>717</th>\n",
       "      <td>1.0</td>\n",
       "      <td>0.140245</td>\n",
       "      <td>0.819976</td>\n",
       "      <td>0.561119</td>\n",
       "    </tr>\n",
       "    <tr>\n",
       "      <th>277</th>\n",
       "      <td>1.0</td>\n",
       "      <td>0.525943</td>\n",
       "      <td>0.446944</td>\n",
       "      <td>0.624601</td>\n",
       "    </tr>\n",
       "    <tr>\n",
       "      <th>741</th>\n",
       "      <td>1.0</td>\n",
       "      <td>0.671605</td>\n",
       "      <td>0.230499</td>\n",
       "      <td>0.432913</td>\n",
       "    </tr>\n",
       "    <tr>\n",
       "      <th>271</th>\n",
       "      <td>1.0</td>\n",
       "      <td>0.422205</td>\n",
       "      <td>0.349688</td>\n",
       "      <td>0.289254</td>\n",
       "    </tr>\n",
       "  </tbody>\n",
       "</table>\n",
       "<p>606 rows × 4 columns</p>\n",
       "</div>"
      ],
      "text/plain": [
       "     const   density  number_hardeners  surface_density\n",
       "858    1.0  0.475380          0.376875         0.602928\n",
       "392    1.0  0.783307          0.270056         0.300245\n",
       "639    1.0  0.596950          0.477232         0.178399\n",
       "211    1.0  0.281708          0.574292         0.411276\n",
       "280    1.0  0.544767          0.417452         0.332976\n",
       "..     ...       ...               ...              ...\n",
       "270    1.0  0.304920          0.391090         0.221894\n",
       "717    1.0  0.140245          0.819976         0.561119\n",
       "277    1.0  0.525943          0.446944         0.624601\n",
       "741    1.0  0.671605          0.230499         0.432913\n",
       "271    1.0  0.422205          0.349688         0.289254\n",
       "\n",
       "[606 rows x 4 columns]"
      ]
     },
     "execution_count": 65,
     "metadata": {},
     "output_type": "execute_result"
    }
   ],
   "source": [
    "# Добавляем константу w0, так как в библиотеке sm она не предусмотрена\n",
    "X_train_add = sm.add_constant(X_train)\n",
    "X_train_add"
   ]
  },
  {
   "cell_type": "code",
   "execution_count": 67,
   "id": "68448162-7ac6-4905-830a-e395fd276af1",
   "metadata": {},
   "outputs": [],
   "source": [
    "# OLS - ordinary least squares - метод наименьших квадратов\n",
    "model_sm = sm.OLS(y_train, X_train_add).fit()"
   ]
  },
  {
   "cell_type": "code",
   "execution_count": 68,
   "id": "f8ce2dcd-dd16-4c62-ab6b-7efdc7b7e517",
   "metadata": {
    "_uuid": "fd4287b550d2f05555ae3e18d6f497912424f8cf"
   },
   "outputs": [
    {
     "data": {
      "text/plain": [
       "const               0.533289\n",
       "density            -0.067321\n",
       "number_hardeners    0.010822\n",
       "surface_density    -0.063885\n",
       "dtype: float64"
      ]
     },
     "execution_count": 68,
     "metadata": {},
     "output_type": "execute_result"
    }
   ],
   "source": [
    "model_sm.params"
   ]
  },
  {
   "cell_type": "code",
   "execution_count": 69,
   "id": "e7192ac2-bdc7-4fdf-8127-fa616da7db9c",
   "metadata": {
    "_uuid": "f841995801587a25a9b4c4b77ef396e538e9ad1f"
   },
   "outputs": [
    {
     "data": {
      "text/html": [
       "<table class=\"simpletable\">\n",
       "<caption>OLS Regression Results</caption>\n",
       "<tr>\n",
       "  <th>Dep. Variable:</th>          <td>alfa</td>       <th>  R-squared:         </th> <td>   0.010</td>\n",
       "</tr>\n",
       "<tr>\n",
       "  <th>Model:</th>                   <td>OLS</td>       <th>  Adj. R-squared:    </th> <td>   0.005</td>\n",
       "</tr>\n",
       "<tr>\n",
       "  <th>Method:</th>             <td>Least Squares</td>  <th>  F-statistic:       </th> <td>   2.097</td>\n",
       "</tr>\n",
       "<tr>\n",
       "  <th>Date:</th>             <td>Fri, 24 Mar 2023</td> <th>  Prob (F-statistic):</th>  <td>0.0995</td> \n",
       "</tr>\n",
       "<tr>\n",
       "  <th>Time:</th>                 <td>17:44:07</td>     <th>  Log-Likelihood:    </th> <td>  133.38</td>\n",
       "</tr>\n",
       "<tr>\n",
       "  <th>No. Observations:</th>      <td>   606</td>      <th>  AIC:               </th> <td>  -258.8</td>\n",
       "</tr>\n",
       "<tr>\n",
       "  <th>Df Residuals:</th>          <td>   602</td>      <th>  BIC:               </th> <td>  -241.1</td>\n",
       "</tr>\n",
       "<tr>\n",
       "  <th>Df Model:</th>              <td>     3</td>      <th>                     </th>     <td> </td>   \n",
       "</tr>\n",
       "<tr>\n",
       "  <th>Covariance Type:</th>      <td>nonrobust</td>    <th>                     </th>     <td> </td>   \n",
       "</tr>\n",
       "</table>\n",
       "<table class=\"simpletable\">\n",
       "<tr>\n",
       "          <td></td>            <th>coef</th>     <th>std err</th>      <th>t</th>      <th>P>|t|</th>  <th>[0.025</th>    <th>0.975]</th>  \n",
       "</tr>\n",
       "<tr>\n",
       "  <th>const</th>            <td>    0.5333</td> <td>    0.034</td> <td>   15.895</td> <td> 0.000</td> <td>    0.467</td> <td>    0.599</td>\n",
       "</tr>\n",
       "<tr>\n",
       "  <th>density</th>          <td>   -0.0673</td> <td>    0.042</td> <td>   -1.609</td> <td> 0.108</td> <td>   -0.149</td> <td>    0.015</td>\n",
       "</tr>\n",
       "<tr>\n",
       "  <th>number_hardeners</th> <td>    0.0108</td> <td>    0.042</td> <td>    0.259</td> <td> 0.796</td> <td>   -0.071</td> <td>    0.093</td>\n",
       "</tr>\n",
       "<tr>\n",
       "  <th>surface_density</th>  <td>   -0.0639</td> <td>    0.037</td> <td>   -1.723</td> <td> 0.085</td> <td>   -0.137</td> <td>    0.009</td>\n",
       "</tr>\n",
       "</table>\n",
       "<table class=\"simpletable\">\n",
       "<tr>\n",
       "  <th>Omnibus:</th>       <td> 4.153</td> <th>  Durbin-Watson:     </th> <td>   2.057</td>\n",
       "</tr>\n",
       "<tr>\n",
       "  <th>Prob(Omnibus):</th> <td> 0.125</td> <th>  Jarque-Bera (JB):  </th> <td>   3.455</td>\n",
       "</tr>\n",
       "<tr>\n",
       "  <th>Skew:</th>          <td> 0.089</td> <th>  Prob(JB):          </th> <td>   0.178</td>\n",
       "</tr>\n",
       "<tr>\n",
       "  <th>Kurtosis:</th>      <td> 2.676</td> <th>  Cond. No.          </th> <td>    8.66</td>\n",
       "</tr>\n",
       "</table><br/><br/>Notes:<br/>[1] Standard Errors assume that the covariance matrix of the errors is correctly specified."
      ],
      "text/plain": [
       "<class 'statsmodels.iolib.summary.Summary'>\n",
       "\"\"\"\n",
       "                            OLS Regression Results                            \n",
       "==============================================================================\n",
       "Dep. Variable:                   alfa   R-squared:                       0.010\n",
       "Model:                            OLS   Adj. R-squared:                  0.005\n",
       "Method:                 Least Squares   F-statistic:                     2.097\n",
       "Date:                Fri, 24 Mar 2023   Prob (F-statistic):             0.0995\n",
       "Time:                        17:44:07   Log-Likelihood:                 133.38\n",
       "No. Observations:                 606   AIC:                            -258.8\n",
       "Df Residuals:                     602   BIC:                            -241.1\n",
       "Df Model:                           3                                         \n",
       "Covariance Type:            nonrobust                                         \n",
       "====================================================================================\n",
       "                       coef    std err          t      P>|t|      [0.025      0.975]\n",
       "------------------------------------------------------------------------------------\n",
       "const                0.5333      0.034     15.895      0.000       0.467       0.599\n",
       "density             -0.0673      0.042     -1.609      0.108      -0.149       0.015\n",
       "number_hardeners     0.0108      0.042      0.259      0.796      -0.071       0.093\n",
       "surface_density     -0.0639      0.037     -1.723      0.085      -0.137       0.009\n",
       "==============================================================================\n",
       "Omnibus:                        4.153   Durbin-Watson:                   2.057\n",
       "Prob(Omnibus):                  0.125   Jarque-Bera (JB):                3.455\n",
       "Skew:                           0.089   Prob(JB):                        0.178\n",
       "Kurtosis:                       2.676   Cond. No.                         8.66\n",
       "==============================================================================\n",
       "\n",
       "Notes:\n",
       "[1] Standard Errors assume that the covariance matrix of the errors is correctly specified.\n",
       "\"\"\""
      ]
     },
     "execution_count": 69,
     "metadata": {},
     "output_type": "execute_result"
    }
   ],
   "source": [
    "model_sm.summary()"
   ]
  },
  {
   "cell_type": "markdown",
   "id": "1ce0765f-228c-4a58-b37d-9142a42a9002",
   "metadata": {},
   "source": [
    "Стандартные ошибки предполагают, что ковариационная матрица ошибок задана правильно."
   ]
  },
  {
   "cell_type": "code",
   "execution_count": null,
   "id": "a7921277-8c9e-4ff8-9903-53e904d0fd79",
   "metadata": {
    "_uuid": "6e0dc97a88b9fc1d4e975c2fe511e59bd0cd2b8a",
    "scrolled": true
   },
   "outputs": [],
   "source": [
    "plt.scatter(X_train['density'], y_train)\n",
    "plt.plot(X_train, 0.533289 + (-0.067321 * X_train['density']), 'r')\n",
    "plt.show()"
   ]
  },
  {
   "cell_type": "markdown",
   "id": "d8fdb60f-1ac9-4492-a9c6-f1d7ceedda2f",
   "metadata": {
    "_uuid": "70d9188db6c5b404c66c0a1bc2b9002a86121318"
   },
   "source": [
    "# Оценка модели"
   ]
  },
  {
   "cell_type": "code",
   "execution_count": 71,
   "id": "54c706de-bab3-45fc-9c12-d53a32a96950",
   "metadata": {
    "_uuid": "f0bed7ce820292dceee1c3b00b9ecbcb9fdbbd37"
   },
   "outputs": [
    {
     "data": {
      "text/html": [
       "<div>\n",
       "<style scoped>\n",
       "    .dataframe tbody tr th:only-of-type {\n",
       "        vertical-align: middle;\n",
       "    }\n",
       "\n",
       "    .dataframe tbody tr th {\n",
       "        vertical-align: top;\n",
       "    }\n",
       "\n",
       "    .dataframe thead th {\n",
       "        text-align: right;\n",
       "    }\n",
       "</style>\n",
       "<table border=\"1\" class=\"dataframe\">\n",
       "  <thead>\n",
       "    <tr style=\"text-align: right;\">\n",
       "      <th></th>\n",
       "      <th>const</th>\n",
       "      <th>density</th>\n",
       "      <th>number_hardeners</th>\n",
       "      <th>surface_density</th>\n",
       "    </tr>\n",
       "  </thead>\n",
       "  <tbody>\n",
       "    <tr>\n",
       "      <th>781</th>\n",
       "      <td>1.0</td>\n",
       "      <td>0.323619</td>\n",
       "      <td>0.506409</td>\n",
       "      <td>0.048474</td>\n",
       "    </tr>\n",
       "    <tr>\n",
       "      <th>661</th>\n",
       "      <td>1.0</td>\n",
       "      <td>0.422767</td>\n",
       "      <td>0.291934</td>\n",
       "      <td>0.494410</td>\n",
       "    </tr>\n",
       "    <tr>\n",
       "      <th>26</th>\n",
       "      <td>1.0</td>\n",
       "      <td>0.502691</td>\n",
       "      <td>0.773287</td>\n",
       "      <td>0.365235</td>\n",
       "    </tr>\n",
       "    <tr>\n",
       "      <th>816</th>\n",
       "      <td>1.0</td>\n",
       "      <td>0.326226</td>\n",
       "      <td>0.664443</td>\n",
       "      <td>0.142430</td>\n",
       "    </tr>\n",
       "    <tr>\n",
       "      <th>193</th>\n",
       "      <td>1.0</td>\n",
       "      <td>0.339472</td>\n",
       "      <td>0.338994</td>\n",
       "      <td>0.598305</td>\n",
       "    </tr>\n",
       "    <tr>\n",
       "      <th>...</th>\n",
       "      <td>...</td>\n",
       "      <td>...</td>\n",
       "      <td>...</td>\n",
       "      <td>...</td>\n",
       "    </tr>\n",
       "    <tr>\n",
       "      <th>895</th>\n",
       "      <td>1.0</td>\n",
       "      <td>0.464181</td>\n",
       "      <td>0.315845</td>\n",
       "      <td>0.303789</td>\n",
       "    </tr>\n",
       "    <tr>\n",
       "      <th>819</th>\n",
       "      <td>1.0</td>\n",
       "      <td>0.301125</td>\n",
       "      <td>0.458225</td>\n",
       "      <td>0.396890</td>\n",
       "    </tr>\n",
       "    <tr>\n",
       "      <th>308</th>\n",
       "      <td>1.0</td>\n",
       "      <td>0.531090</td>\n",
       "      <td>0.125511</td>\n",
       "      <td>0.229072</td>\n",
       "    </tr>\n",
       "    <tr>\n",
       "      <th>548</th>\n",
       "      <td>1.0</td>\n",
       "      <td>0.207825</td>\n",
       "      <td>0.254263</td>\n",
       "      <td>0.300894</td>\n",
       "    </tr>\n",
       "    <tr>\n",
       "      <th>377</th>\n",
       "      <td>1.0</td>\n",
       "      <td>0.628130</td>\n",
       "      <td>0.349395</td>\n",
       "      <td>0.484473</td>\n",
       "    </tr>\n",
       "  </tbody>\n",
       "</table>\n",
       "<p>152 rows × 4 columns</p>\n",
       "</div>"
      ],
      "text/plain": [
       "     const   density  number_hardeners  surface_density\n",
       "781    1.0  0.323619          0.506409         0.048474\n",
       "661    1.0  0.422767          0.291934         0.494410\n",
       "26     1.0  0.502691          0.773287         0.365235\n",
       "816    1.0  0.326226          0.664443         0.142430\n",
       "193    1.0  0.339472          0.338994         0.598305\n",
       "..     ...       ...               ...              ...\n",
       "895    1.0  0.464181          0.315845         0.303789\n",
       "819    1.0  0.301125          0.458225         0.396890\n",
       "308    1.0  0.531090          0.125511         0.229072\n",
       "548    1.0  0.207825          0.254263         0.300894\n",
       "377    1.0  0.628130          0.349395         0.484473\n",
       "\n",
       "[152 rows x 4 columns]"
      ]
     },
     "execution_count": 71,
     "metadata": {},
     "output_type": "execute_result"
    }
   ],
   "source": [
    "X_val_add = sm.add_constant(X_val)\n",
    "X_val_add"
   ]
  },
  {
   "cell_type": "code",
   "execution_count": 72,
   "id": "b68e2b2b-b72f-420f-a013-f45a13aa6683",
   "metadata": {},
   "outputs": [],
   "source": [
    "y_pred_const = model_sm.predict(X_val_add)"
   ]
  },
  {
   "cell_type": "code",
   "execution_count": 73,
   "id": "1455002a-d031-4ffd-8cce-8e788bcb8da7",
   "metadata": {},
   "outputs": [],
   "source": [
    "MAE = metrics.mean_absolute_error(y_val, y_pred_const) # mean_absolute_error\n",
    "MSE = metrics.mean_squared_error(y_val, y_pred_const) # mean_squared_error"
   ]
  },
  {
   "cell_type": "code",
   "execution_count": 74,
   "id": "53f5d70e-d69d-46c2-a057-cd0e8a1713dd",
   "metadata": {},
   "outputs": [
    {
     "data": {
      "text/plain": [
       "0.1488858873852724"
      ]
     },
     "execution_count": 74,
     "metadata": {},
     "output_type": "execute_result"
    }
   ],
   "source": [
    "MAE"
   ]
  },
  {
   "cell_type": "code",
   "execution_count": null,
   "id": "02915b7f-8b54-49e6-8adb-edee31f238f3",
   "metadata": {
    "jp-MarkdownHeadingCollapsed": true,
    "tags": []
   },
   "outputs": [],
   "source": [
    "# 0.14888589 MAE в варианте регрессии по математической модели"
   ]
  },
  {
   "cell_type": "code",
   "execution_count": 75,
   "id": "4bbb968a-ff42-465d-80bf-15bd4ffaf34b",
   "metadata": {},
   "outputs": [
    {
     "data": {
      "text/plain": [
       "0.03459400878217591"
      ]
     },
     "execution_count": 75,
     "metadata": {},
     "output_type": "execute_result"
    }
   ],
   "source": [
    "MSE"
   ]
  },
  {
   "cell_type": "code",
   "execution_count": null,
   "id": "76ab495f-6233-46d2-a09c-293ae7319d52",
   "metadata": {},
   "outputs": [],
   "source": [
    "# 0.03459401 MSE в варианте регрессиипо математической модели"
   ]
  },
  {
   "cell_type": "code",
   "execution_count": null,
   "id": "d74e08a7-fda3-48c8-8a2b-6418f15a2a23",
   "metadata": {},
   "outputs": [],
   "source": [
    "# Значения МАЕ и MSE получились одинаковыми!!"
   ]
  },
  {
   "cell_type": "code",
   "execution_count": null,
   "id": "bca448af-ecef-40f7-acd5-98b4658e8f98",
   "metadata": {},
   "outputs": [],
   "source": [
    "#__________________________________________"
   ]
  },
  {
   "cell_type": "markdown",
   "id": "a1544d25-0e9a-440e-a797-b779498899d4",
   "metadata": {
    "tags": []
   },
   "source": [
    "# Оптимизации гиперпараметров -  Подбор параметров модели\n",
    "# GridSearchCV и RandomizedSearchCV\n",
    "\n",
    "GridSearch — поиск лучших параметров в фиксированной сетке возможных значений.\n",
    "CV – перекрёстная проверка (кросс-валидация, Cross-validation), метод, который показывает, что модель не переобучилась\n",
    "\n",
    "\n",
    "Подбор параметров – одна из важных задач для построения модели машинного обучения.\n",
    "Изменение параметров модели может принципиально повлиять на ее качество. Например, модель может переобучиться. Перебор этих параметров вручную может занять колоссальное количество времени. \n",
    "Однако, существует модуль GridSearchCV.\n",
    "GridSearchCV – это инструмент для автоматического подбирания параметров посетке имеющихся значений парметров для моделей машинного обучения. \n",
    "GridSearchCV находит наилучшие параметры, путем обычного перебора: он создает модель для каждой возможной комбинации параметров.\n",
    "GridSearchCV выполняет обучение и тестирование с использованием перекрестной проверки -(cross validation) вашего набора данных - отсюда и аббревиатура «CV» в GridSearchCV.\n",
    "\n",
    "# Параметры GridSearchCV:\n",
    "\n",
    "# estimator — модель которую хотим обучать (алгоритм);\n",
    "# param_grid — передаем какие параметры хотим подбирать, GridSearchCV на всех параметрах попробует сделать обучение;\n",
    "# CV — сколько разрезов кросс-валидации мы ходим сделать;  ( < 3 делать не стоит) \n",
    "# scoring — выбор метрики ошибки (для разных задач можно выбрать разные функции ошибки).\n",
    "\n",
    "RandomizedSearchCV -Определим диапазон значений гиперпараметров для реализации случайного поиска.\n",
    "Эта область параметров может иметь больший диапазон значений, чем та, которую мы построили для поиска по сетке, поскольку случайный поиск не пытается полностью опробовать все комбинации гиперпараметров.\n",
    "RandomizedSearchCV случайным образом выбирает гиперпараметры, чтобы найти лучшие из них, и это означает, что в отличие от сеточного поиска, случайный поиск может быстро перебрать большое количество значений.\n",
    "\n",
    "Взято с :\n",
    "# https://scikit-learn.org/stable/modules/generated/sklearn.linear_model.LinearRegression.html\n",
    "# https://habr.com/ru/company/otus/blog/698370/\n",
    "# https://newtechaudit.ru/gridsearchcv-pomoshhnik-v-vybore/    !!!\n",
    "# https://scikit-learn.ru/3-3-metrics-and-scoring-quantifying-the-quality-of-predictions/ !!!\n",
    "# https://vc.ru/ml/147132-kak-avtomaticheski-podobrat-parametry-dlya-modeli-mashinnogo-obucheniya-ispolzuem-gridsearchcv\n",
    "\n",
    "Используйте поиск по сетке, если у вас уже есть примерный диапазон известных значений гиперпараметров, которые будут работать хорошо. Убедитесь, что область значений параметров невелика, так как поиск по сетке может занять очень много времени. \n",
    "\n",
    "Применяйте случайный поиск в широком диапазоне значений, если у вас еще нет представления о параметрах, которые будут хорошо работать в вашей модели. Случайный поиск быстрее, чем поиск по сетке, и его всегда следует использовать, когда у вас большая область значений параметров.\n",
    "\n",
    "Для получения наилучших результатов целесообразно использовать как случайный поиск, так и поиск по сетке.\n",
    "При больших размерах области значений параметров можно сначала использовать случайный поиск, так как он быстрее. Затем, используя лучшие гиперпараметры, найденные при случайном поиске, сузить сетку параметров и ввести в сеточный поиск меньший диапазон значений."
   ]
  },
  {
   "cell_type": "code",
   "execution_count": null,
   "id": "88897b88-6234-4616-98ac-c576c3cff05b",
   "metadata": {},
   "outputs": [],
   "source": [
    "# Линейная регрессия"
   ]
  },
  {
   "cell_type": "code",
   "execution_count": null,
   "id": "8282495a-414c-4d9e-9066-3025b8990a65",
   "metadata": {},
   "outputs": [],
   "source": [
    "# Оптимизации гиперпараметров -  Подбор параметров модели GridSearchCV\n",
    "# Выбор парметров для LinearRegression:"
   ]
  },
  {
   "cell_type": "code",
   "execution_count": 76,
   "id": "f155e29c-9399-453b-b0fd-0823ca8bdd5f",
   "metadata": {},
   "outputs": [
    {
     "data": {
      "text/html": [
       "<style>#sk-container-id-3 {color: black;background-color: white;}#sk-container-id-3 pre{padding: 0;}#sk-container-id-3 div.sk-toggleable {background-color: white;}#sk-container-id-3 label.sk-toggleable__label {cursor: pointer;display: block;width: 100%;margin-bottom: 0;padding: 0.3em;box-sizing: border-box;text-align: center;}#sk-container-id-3 label.sk-toggleable__label-arrow:before {content: \"▸\";float: left;margin-right: 0.25em;color: #696969;}#sk-container-id-3 label.sk-toggleable__label-arrow:hover:before {color: black;}#sk-container-id-3 div.sk-estimator:hover label.sk-toggleable__label-arrow:before {color: black;}#sk-container-id-3 div.sk-toggleable__content {max-height: 0;max-width: 0;overflow: hidden;text-align: left;background-color: #f0f8ff;}#sk-container-id-3 div.sk-toggleable__content pre {margin: 0.2em;color: black;border-radius: 0.25em;background-color: #f0f8ff;}#sk-container-id-3 input.sk-toggleable__control:checked~div.sk-toggleable__content {max-height: 200px;max-width: 100%;overflow: auto;}#sk-container-id-3 input.sk-toggleable__control:checked~label.sk-toggleable__label-arrow:before {content: \"▾\";}#sk-container-id-3 div.sk-estimator input.sk-toggleable__control:checked~label.sk-toggleable__label {background-color: #d4ebff;}#sk-container-id-3 div.sk-label input.sk-toggleable__control:checked~label.sk-toggleable__label {background-color: #d4ebff;}#sk-container-id-3 input.sk-hidden--visually {border: 0;clip: rect(1px 1px 1px 1px);clip: rect(1px, 1px, 1px, 1px);height: 1px;margin: -1px;overflow: hidden;padding: 0;position: absolute;width: 1px;}#sk-container-id-3 div.sk-estimator {font-family: monospace;background-color: #f0f8ff;border: 1px dotted black;border-radius: 0.25em;box-sizing: border-box;margin-bottom: 0.5em;}#sk-container-id-3 div.sk-estimator:hover {background-color: #d4ebff;}#sk-container-id-3 div.sk-parallel-item::after {content: \"\";width: 100%;border-bottom: 1px solid gray;flex-grow: 1;}#sk-container-id-3 div.sk-label:hover label.sk-toggleable__label {background-color: #d4ebff;}#sk-container-id-3 div.sk-serial::before {content: \"\";position: absolute;border-left: 1px solid gray;box-sizing: border-box;top: 0;bottom: 0;left: 50%;z-index: 0;}#sk-container-id-3 div.sk-serial {display: flex;flex-direction: column;align-items: center;background-color: white;padding-right: 0.2em;padding-left: 0.2em;position: relative;}#sk-container-id-3 div.sk-item {position: relative;z-index: 1;}#sk-container-id-3 div.sk-parallel {display: flex;align-items: stretch;justify-content: center;background-color: white;position: relative;}#sk-container-id-3 div.sk-item::before, #sk-container-id-3 div.sk-parallel-item::before {content: \"\";position: absolute;border-left: 1px solid gray;box-sizing: border-box;top: 0;bottom: 0;left: 50%;z-index: -1;}#sk-container-id-3 div.sk-parallel-item {display: flex;flex-direction: column;z-index: 1;position: relative;background-color: white;}#sk-container-id-3 div.sk-parallel-item:first-child::after {align-self: flex-end;width: 50%;}#sk-container-id-3 div.sk-parallel-item:last-child::after {align-self: flex-start;width: 50%;}#sk-container-id-3 div.sk-parallel-item:only-child::after {width: 0;}#sk-container-id-3 div.sk-dashed-wrapped {border: 1px dashed gray;margin: 0 0.4em 0.5em 0.4em;box-sizing: border-box;padding-bottom: 0.4em;background-color: white;}#sk-container-id-3 div.sk-label label {font-family: monospace;font-weight: bold;display: inline-block;line-height: 1.2em;}#sk-container-id-3 div.sk-label-container {text-align: center;}#sk-container-id-3 div.sk-container {/* jupyter's `normalize.less` sets `[hidden] { display: none; }` but bootstrap.min.css set `[hidden] { display: none !important; }` so we also need the `!important` here to be able to override the default hidden behavior on the sphinx rendered scikit-learn.org. See: https://github.com/scikit-learn/scikit-learn/issues/21755 */display: inline-block !important;position: relative;}#sk-container-id-3 div.sk-text-repr-fallback {display: none;}</style><div id=\"sk-container-id-3\" class=\"sk-top-container\"><div class=\"sk-text-repr-fallback\"><pre>LinearRegression()</pre><b>In a Jupyter environment, please rerun this cell to show the HTML representation or trust the notebook. <br />On GitHub, the HTML representation is unable to render, please try loading this page with nbviewer.org.</b></div><div class=\"sk-container\" hidden><div class=\"sk-item\"><div class=\"sk-estimator sk-toggleable\"><input class=\"sk-toggleable__control sk-hidden--visually\" id=\"sk-estimator-id-3\" type=\"checkbox\" checked><label for=\"sk-estimator-id-3\" class=\"sk-toggleable__label sk-toggleable__label-arrow\">LinearRegression</label><div class=\"sk-toggleable__content\"><pre>LinearRegression()</pre></div></div></div></div></div>"
      ],
      "text/plain": [
       "LinearRegression()"
      ]
     },
     "execution_count": 76,
     "metadata": {},
     "output_type": "execute_result"
    }
   ],
   "source": [
    "# Линейная регрессия\n",
    "model_LR1 = LinearRegression()\n",
    "model_LR1\\\n",
    "\n",
    ".fit(X_train, y_train)"
   ]
  },
  {
   "cell_type": "code",
   "execution_count": 80,
   "id": "c47061d5-866c-4a6e-8781-70dbd2fa6193",
   "metadata": {},
   "outputs": [
    {
     "ename": "AttributeError",
     "evalue": "'GridSearchCV' object has no attribute 'best_estimator_'",
     "output_type": "error",
     "traceback": [
      "\u001b[1;31m---------------------------------------------------------------------------\u001b[0m",
      "\u001b[1;31mAttributeError\u001b[0m                            Traceback (most recent call last)",
      "\u001b[1;32m~\\AppData\\Local\\Temp\\ipykernel_6500\\3837982062.py\u001b[0m in \u001b[0;36m<module>\u001b[1;34m\u001b[0m\n\u001b[0;32m      7\u001b[0m                             param_grid=LinReg_params, cv= cv)\n\u001b[0;32m      8\u001b[0m \u001b[1;33m\u001b[0m\u001b[0m\n\u001b[1;32m----> 9\u001b[1;33m \u001b[0mprint\u001b[0m\u001b[1;33m(\u001b[0m\u001b[1;34m'Лучший оценщик = '\u001b[0m\u001b[1;33m,\u001b[0m \u001b[0mmodel_LR1\u001b[0m\u001b[1;33m.\u001b[0m\u001b[0mbest_estimator_\u001b[0m\u001b[1;33m)\u001b[0m\u001b[1;33m\u001b[0m\u001b[1;33m\u001b[0m\u001b[0m\n\u001b[0m\u001b[0;32m     10\u001b[0m \u001b[0mprint\u001b[0m\u001b[1;33m(\u001b[0m\u001b[1;34m'Лучшая оценка LinReg = '\u001b[0m\u001b[1;33m,\u001b[0m \u001b[0mmodel_LR1\u001b[0m\u001b[1;33m.\u001b[0m\u001b[0mbest_score_\u001b[0m\u001b[1;33m)\u001b[0m\u001b[1;33m\u001b[0m\u001b[1;33m\u001b[0m\u001b[0m\n\u001b[0;32m     11\u001b[0m \u001b[0mprint\u001b[0m\u001b[1;33m(\u001b[0m\u001b[1;34m'Лучшие парметры LinReg = '\u001b[0m\u001b[1;33m,\u001b[0m  \u001b[0mmodel_LR1\u001b[0m\u001b[1;33m.\u001b[0m\u001b[0mbest_params_\u001b[0m\u001b[1;33m)\u001b[0m\u001b[1;33m\u001b[0m\u001b[1;33m\u001b[0m\u001b[0m\n",
      "\u001b[1;31mAttributeError\u001b[0m: 'GridSearchCV' object has no attribute 'best_estimator_'"
     ]
    }
   ],
   "source": [
    "# Инициализация сеток параметров моделей, по которым будет выполняться поиск\n",
    "\n",
    "LinReg_params = {'fit_intercept': [True, False],\n",
    "                 'positive': [True, False]}\n",
    "\n",
    "model_LR1 = GridSearchCV(estimator=model_LR1, scoring='neg_root_mean_squared_error',\n",
    "                            param_grid=LinReg_params, cv= cv)\n",
    "\n",
    "print('Лучший оценщик = ', model_LR1.best_estimator_)\n",
    "print('Лучшая оценка LinReg = ', model_LR1.best_score_)\n",
    "print('Лучшие парметры LinReg = ',  model_LR1.best_params_)"
   ]
  },
  {
   "cell_type": "markdown",
   "id": "20cebad3-c8f4-4762-a8dd-1a380ea48583",
   "metadata": {},
   "source": [
    "Взято из:\n",
    "https://translated.turbopages.org/proxy_u/en-ru.ru.2f7ae732-64184cbb-8abf6390-74722d776562/https/www.projectpro.io/recipes/create-and-optimize-baseline-linear-regression-model"
   ]
  },
  {
   "cell_type": "code",
   "execution_count": null,
   "id": "a7aba3d1-e4bd-4f6c-a390-28b63d5605a6",
   "metadata": {},
   "outputs": [],
   "source": [
    "std_scl = StandardScaler()\n",
    "pca = decomposition.PCA()\n",
    "linear = linear_model.LinearRegression()"
   ]
  },
  {
   "cell_type": "code",
   "execution_count": null,
   "id": "01403ecd-cde2-474b-892f-78889683cced",
   "metadata": {},
   "outputs": [],
   "source": [
    "pipe = Pipeline(steps=[('std_scl', std_scl),\n",
    "                       ('pca', pca),\n",
    "                       ('linear', linear)])"
   ]
  },
  {
   "cell_type": "code",
   "execution_count": null,
   "id": "e105965c-822d-4309-a937-b5a0d9c0324f",
   "metadata": {},
   "outputs": [],
   "source": [
    "n_components = list(range(1,X.shape[1]+1,1))"
   ]
  },
  {
   "cell_type": "code",
   "execution_count": null,
   "id": "699df422-5f5e-431a-b622-531ed978ef02",
   "metadata": {},
   "outputs": [],
   "source": [
    "normalize = [True, False]"
   ]
  },
  {
   "cell_type": "code",
   "execution_count": null,
   "id": "3a34fd2b-771b-4e78-848f-48398211411f",
   "metadata": {},
   "outputs": [],
   "source": [
    "parameters = dict(pca__n_components = n_components,\n",
    "                  linear__normalize = normalize)"
   ]
  },
  {
   "cell_type": "code",
   "execution_count": null,
   "id": "19264f29-6545-4b49-85d1-99582365f148",
   "metadata": {},
   "outputs": [],
   "source": [
    "clf = GridSearchCV(pipe, parameters)\n",
    "clf.fit(X_train, y_train)"
   ]
  },
  {
   "cell_type": "code",
   "execution_count": null,
   "id": "e13e6c95-4c04-4355-9a89-f230e4777f31",
   "metadata": {},
   "outputs": [],
   "source": [
    "print('Best Number Of Components:', clf.best_estimator_.get_params()['pca__n_components'])\n",
    "print(); \n",
    "print(clf.best_estimator_.get_params()['linear'])"
   ]
  },
  {
   "cell_type": "code",
   "execution_count": null,
   "id": "33cf71b6-73b6-4b7d-b875-b952ddb84881",
   "metadata": {},
   "outputs": [],
   "source": [
    "# ПРОВЕРИТЬ!!!! "
   ]
  },
  {
   "cell_type": "code",
   "execution_count": 79,
   "id": "0042002c-b203-4088-8f1e-a5b4aa19f7c1",
   "metadata": {},
   "outputs": [],
   "source": [
    "# Оптимизируем выбор гиперпарметров по сетке значений для LinearRegression с помощью модуля  GridSearchCV:   \n",
    "model_LR1 = GridSearchCV(estimator = model_LR1, \n",
    "                            scoring = 'neg_root_mean_squared_error',\n",
    "                            param_grid = LinReg_params, \n",
    "                            cv=cv\n",
    "                           )"
   ]
  },
  {
   "cell_type": "code",
   "execution_count": null,
   "id": "1ce9dbcb-d756-4a65-9ffd-30aa7e5cee72",
   "metadata": {},
   "outputs": [],
   "source": [
    "# ___________________________"
   ]
  },
  {
   "cell_type": "code",
   "execution_count": null,
   "id": "68e867d9-10ad-400f-8fda-f60f0707d623",
   "metadata": {},
   "outputs": [],
   "source": [
    "# https://scikit-learn.ru/1-4-support-vector-machines/!!!!!\n",
    "# https://scikit-learn.org/stable/modules/generated/sklearn.svm.LinearSVR.html#sklearn.svm.LinearSVR\n",
    "# Support Vector Machine Метод опорных векторов\n",
    "# метод регрессией опорных векторов\n",
    "\n",
    "For LinearSVC (и LogisticRegression) любой ввод, переданный как массив numpy, \n",
    "будет скопирован и преобразован в liblinear внутреннее разреженное представление данных\n",
    "(числа с плавающей запятой двойной точности и индексы int32 ненулевых компонентов). \n",
    "\n",
    "cache_size более высокое значение, чем значение по умолчанию 200 (МБ), например 500 (МБ) или 1000 (МБ)."
   ]
  },
  {
   "cell_type": "code",
   "execution_count": null,
   "id": "6304c9db-52f6-48ac-bc99-7a6681366ee7",
   "metadata": {},
   "outputs": [],
   "source": [
    "SupVecR_model = SVR()\n",
    "SupVecR_model.get_params().keys()"
   ]
  },
  {
   "cell_type": "code",
   "execution_count": null,
   "id": "504cc1a1-5cea-4516-a6d4-6c40516d6421",
   "metadata": {},
   "outputs": [],
   "source": [
    "# Текущие парметры модели SupVecR_model\n",
    "print('Текущие парметры модели:', SupVecR_model.get_params())"
   ]
  },
  {
   "cell_type": "code",
   "execution_count": null,
   "id": "d4e8edd0-5bfb-4a2f-95fe-290145396237",
   "metadata": {},
   "outputs": [],
   "source": [
    "# Создадим сетку -  'словарь-атрибутов'  из нескольких, наиболее значимых атрибутов \n",
    "SVR_params = {'kernel': ['linear', 'poly', 'rbf', 'sigmoid'],\n",
    "              'degree': range(1, 5),\n",
    "              'gamma': ['scale', 'auto']\n",
    "             }"
   ]
  },
  {
   "cell_type": "code",
   "execution_count": null,
   "id": "9ecbeab3-c794-41ba-b271-6423a627f4c2",
   "metadata": {},
   "outputs": [],
   "source": [
    "# Осуществим подбор оптимальных параметров для нашей модели SupVecR_model методом GridSearchCV\n",
    "model_SVR = GridSearchCV(estimator=SupVecR_model, \n",
    "                         scoring='neg_root_mean_squared_error', # как мы будем оценивать модель (используем scoring нашей модели)\n",
    "                         param_grid=SVR_params, \n",
    "                         cv=5) # количество разбиений на кросс-валидацию ( < 3 делать не стоит) "
   ]
  },
  {
   "cell_type": "code",
   "execution_count": null,
   "id": "2c5a7e25-6f7e-451f-a959-a0dcf63feaa2",
   "metadata": {},
   "outputs": [],
   "source": [
    "y_svr = np.ravel(y_train) # Функция ravel() возвращает сжатый до одной оси массив.\n",
    "model_SVR.fit(X_train, y_train)\n",
    "\n",
    "print(model_SVR.best_estimator_)\n",
    "print(model_SVR.best_score_)\n",
    "print(model_SVR.best_params_)\n",
    "model_SVR = SVR(kernel=model_SVR.best_params_['kernel'],\n",
    "                gamma=model_SVR.best_params_['gamma'],\n",
    "                degree=model_SVR.best_params_['degree'])\n"
   ]
  },
  {
   "cell_type": "code",
   "execution_count": null,
   "id": "53b7600b-d376-41d5-b926-d68e0b701609",
   "metadata": {},
   "outputs": [],
   "source": [
    "model_SVR.fit(X_train, np.ravel(y_train))"
   ]
  },
  {
   "cell_type": "code",
   "execution_count": null,
   "id": "1568dacc-8fba-4124-ab69-157f84a0d29a",
   "metadata": {},
   "outputs": [],
   "source": [
    "SVR(degree=2, gamma='auto', kernel='poly')\n",
    "-0.19470368492581774\n",
    "{'degree': 2, 'gamma': 'auto', 'kernel': 'poly'}"
   ]
  },
  {
   "cell_type": "code",
   "execution_count": null,
   "id": "7449bb97-7d03-4c85-89d4-6a9e3afc53b7",
   "metadata": {},
   "outputs": [],
   "source": []
  },
  {
   "cell_type": "code",
   "execution_count": null,
   "id": "f7ecf46c-765f-4768-87bd-ce5980c5b38d",
   "metadata": {},
   "outputs": [],
   "source": [
    "#__________________________________________"
   ]
  },
  {
   "cell_type": "code",
   "execution_count": null,
   "id": "db70e114-207d-471c-90ad-0fc946d1e423",
   "metadata": {},
   "outputs": [],
   "source": []
  },
  {
   "cell_type": "code",
   "execution_count": null,
   "id": "e60427e8-92e3-4fce-8842-bc0b57adb15f",
   "metadata": {},
   "outputs": [],
   "source": []
  },
  {
   "cell_type": "code",
   "execution_count": null,
   "id": "62192c8f-c265-4b9f-868e-fac73fea3dc6",
   "metadata": {},
   "outputs": [],
   "source": []
  },
  {
   "cell_type": "code",
   "execution_count": null,
   "id": "b188bf63-e8f9-486a-bdb9-ae10c2980599",
   "metadata": {},
   "outputs": [],
   "source": []
  }
 ],
 "metadata": {
  "kernelspec": {
   "display_name": "Python 3 (ipykernel)",
   "language": "python",
   "name": "python3"
  },
  "language_info": {
   "codemirror_mode": {
    "name": "ipython",
    "version": 3
   },
   "file_extension": ".py",
   "mimetype": "text/x-python",
   "name": "python",
   "nbconvert_exporter": "python",
   "pygments_lexer": "ipython3",
   "version": "3.10.9"
  }
 },
 "nbformat": 4,
 "nbformat_minor": 5
}
