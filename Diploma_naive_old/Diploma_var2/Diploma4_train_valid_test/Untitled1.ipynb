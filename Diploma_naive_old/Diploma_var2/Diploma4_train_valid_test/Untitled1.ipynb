{
 "cells": [
  {
   "cell_type": "code",
   "execution_count": null,
   "id": "a7aba3d1-e4bd-4f6c-a390-28b63d5605a6",
   "metadata": {},
   "outputs": [],
   "source": [
    "std_slc = StandardScaler()\n",
    "pca = decomposition.PCA()\n",
    "linear = linear_model.LinearRegression()"
   ]
  },
  {
   "cell_type": "code",
   "execution_count": null,
   "id": "01403ecd-cde2-474b-892f-78889683cced",
   "metadata": {},
   "outputs": [],
   "source": [
    "pipe = Pipeline(steps=[('std_scl', std_scl),\n",
    "                           ('pca', pca),\n",
    "                           ('linear', linear)])"
   ]
  },
  {
   "cell_type": "code",
   "execution_count": null,
   "id": "e105965c-822d-4309-a937-b5a0d9c0324f",
   "metadata": {},
   "outputs": [],
   "source": [
    "n_components = list(range(1,X.shape[1]+1,1))"
   ]
  },
  {
   "cell_type": "code",
   "execution_count": null,
   "id": "699df422-5f5e-431a-b622-531ed978ef02",
   "metadata": {},
   "outputs": [],
   "source": [
    "normalize = [True, False]"
   ]
  },
  {
   "cell_type": "code",
   "execution_count": null,
   "id": "3a34fd2b-771b-4e78-848f-48398211411f",
   "metadata": {},
   "outputs": [],
   "source": [
    "parameters = dict(pca__n_components=n_components,\n",
    "                      linear__normalize=normalize)"
   ]
  },
  {
   "cell_type": "code",
   "execution_count": null,
   "id": "19264f29-6545-4b49-85d1-99582365f148",
   "metadata": {},
   "outputs": [],
   "source": [
    "clf = GridSearchCV(pipe, parameters)\n",
    "clf.fit(X, y)"
   ]
  },
  {
   "cell_type": "code",
   "execution_count": null,
   "id": "e13e6c95-4c04-4355-9a89-f230e4777f31",
   "metadata": {},
   "outputs": [],
   "source": [
    "print('Best Number Of Components:', clf.best_estimator_.get_params()['pca__n_components'])\n",
    "print(); \n",
    "print(clf.best_estimator_.get_params()['linear'])"
   ]
  }
 ],
 "metadata": {
  "kernelspec": {
   "display_name": "Python 3 (ipykernel)",
   "language": "python",
   "name": "python3"
  },
  "language_info": {
   "codemirror_mode": {
    "name": "ipython",
    "version": 3
   },
   "file_extension": ".py",
   "mimetype": "text/x-python",
   "name": "python",
   "nbconvert_exporter": "python",
   "pygments_lexer": "ipython3",
   "version": "3.10.9"
  }
 },
 "nbformat": 4,
 "nbformat_minor": 5
}
