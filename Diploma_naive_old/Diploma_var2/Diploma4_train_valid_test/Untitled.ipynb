{
 "cells": [
  {
   "cell_type": "code",
   "execution_count": null,
   "id": "47fb05e4-7511-417b-a47c-a43a68c4e4a9",
   "metadata": {},
   "outputs": [],
   "source": []
  },
  {
   "cell_type": "code",
   "execution_count": 5,
   "id": "17ffd1c4-45a0-4993-b54a-f0ec4d613463",
   "metadata": {},
   "outputs": [],
   "source": [
    "import pandas as pd\n",
    "import numpy as np\n",
    "\n",
    "import matplotlib\n",
    "import matplotlib.pyplot as plt\n",
    "from matplotlib import cm\n",
    "from mpl_toolkits.mplot3d import Axes3D\n",
    "\n",
    "import seaborn as sns\n",
    "\n",
    "import plotly\n",
    "import plotly.graph_objs as go\n",
    "import plotly.express as px\n",
    "from plotly.subplots import make_subplots\n",
    "\n",
    "%matplotlib inline\n",
    "sns.set_style('darkgrid')\n",
    "\n",
    "import warnings\n",
    "warnings.filterwarnings(\"ignore\")\n",
    "\n",
    "from sklearn import preprocessing\n",
    "from sklearn.preprocessing import MinMaxScaler\n",
    "from sklearn.preprocessing import StandardScaler\n",
    "from sklearn.model_selection import train_test_split\n",
    "from imblearn.over_sampling import SMOTE\n",
    "\n",
    "from sklearn.linear_model import LinearRegression\n",
    "from sklearn.ensemble import RandomForestRegressor\n",
    "from sklearn.svm import SVR\n",
    "from sklearn.neural_network import MLPRegressor\n",
    "from sklearn.model_selection import GridSearchCV, cross_val_score\n",
    "from sklearn import metrics\n",
    "from sklearn.metrics import classification_report, mean_squared_error, confusion_matrix\n",
    "\n",
    "import tensorflow \n",
    "import tensorflow.keras as keras\n",
    "from tensorflow.keras.models import Sequential\n",
    "from tensorflow.keras.layers import  Flatten, Dense, Dropout, Flatten, Conv2D, MaxPooling2D\n",
    "from tensorflow.keras.optimizers import Adam, SGD, RMSprop\n",
    "\n",
    "# from tensorflow.keras import utils\n",
    "# from tensorflow.keras.utils import to_categorical\n",
    "\n",
    "np.random.seed(45) # чтобы выборки данных всегда были одни и теже берем любую цифру . мне нравится 45!"
   ]
  },
  {
   "cell_type": "code",
   "execution_count": 6,
   "id": "c11cafa0-a708-4997-9f9c-01d767c7a597",
   "metadata": {
    "tags": []
   },
   "outputs": [],
   "source": [
    "data_main = pd.read_csv(r'C:\\Users\\grain\\Work_folder\\Diplom_MGTU\\Diploma2_inspect\\data_main.csv')"
   ]
  },
  {
   "cell_type": "code",
   "execution_count": 7,
   "id": "21370b52-2813-4154-ac28-bea2c56d28b5",
   "metadata": {},
   "outputs": [
    {
     "name": "stdout",
     "output_type": "stream",
     "text": [
      "<class 'pandas.core.frame.DataFrame'>\n",
      "RangeIndex: 948 entries, 0 to 947\n",
      "Data columns (total 13 columns):\n",
      " #   Column                        Non-Null Count  Dtype  \n",
      "---  ------                        --------------  -----  \n",
      " 0   pattern_angle                 948 non-null    float64\n",
      " 1   step_strip                    948 non-null    float64\n",
      " 2   density_strip                 948 non-null    float64\n",
      " 3   ratio_filler_matrix           948 non-null    float64\n",
      " 4   density                       948 non-null    float64\n",
      " 5   elasticity_module             948 non-null    float64\n",
      " 6   number_hardeners              948 non-null    float64\n",
      " 7   content_epoxy_groups          948 non-null    float64\n",
      " 8   flash_temperature             948 non-null    float64\n",
      " 9   surface_density               948 non-null    float64\n",
      " 10  elasticity_module_stretching  948 non-null    float64\n",
      " 11  strapery_strength             948 non-null    float64\n",
      " 12  resin_consumption             948 non-null    float64\n",
      "dtypes: float64(13)\n",
      "memory usage: 96.4 KB\n"
     ]
    }
   ],
   "source": [
    "data_main.info()"
   ]
  },
  {
   "cell_type": "code",
   "execution_count": 11,
   "id": "4bbd41a6-f719-4b4d-8477-672437e0520a",
   "metadata": {
    "tags": []
   },
   "outputs": [],
   "source": [
    "# (RU) Функция оптимизации типов в dataframe.\n",
    "\n",
    "# !!!! Код взят из источника https://github.com/ellavs/python-pandas-optimize-dataframe-memory-usage\n",
    "# Function optimizes memory usage in dataframe.\n",
    "\n",
    "def optimize_memory_usage(df, print_size=True):\n",
    "\n",
    "# Types for optimization.\n",
    "    # Типы, которые будем проверять на оптимизацию.\n",
    "    numerics = ['int16', 'int32', 'int64', 'float16', 'float32', 'float64']\n",
    "    # Memory usage size before optimize (Mb).\n",
    "    # (RU) Размер занимаемой памяти до оптимизации (в Мб).\n",
    "    before_size = df.memory_usage().sum() / 1024**2    \n",
    "    for column in df.columns:\n",
    "        column_type = df[column].dtypes\n",
    "        if column_type in numerics:\n",
    "            column_min = df[column].min()\n",
    "            column_max = df[column].max()\n",
    "            if str(column_type).startswith('int'):\n",
    "                if column_min > np.iinfo(np.int32).min and column_max < np.iinfo(np.int32).max:\n",
    "                    df[column] = df[column].astype(np.int32)\n",
    "                elif column_min > np.iinfo(np.int64).min and column_max < np.iinfo(np.int64).max:\n",
    "                    df[column] = df[column].astype(np.int64)  \n",
    "            else:\n",
    "                if column_min > np.finfo(np.float32).min and column_max < np.finfo(np.float32).max:\n",
    "                    df[column] = df[column].astype(np.float32)\n",
    "                else:\n",
    "                    df[column] = df[column].astype(np.float64)    \n",
    "    # Memory usage size after optimize (Mb).\n",
    "    # (RU) Размер занимаемой памяти после оптимизации (в Мб).\n",
    "    after_size = df.memory_usage().sum() / 1024**2\n",
    "    if print_size: print('Memory usage size: before {:5.4f} Mb - after {:5.4f} Mb ({:.1f}%).'.format(before_size, after_size, 100 * (before_size - after_size) / before_size))\n",
    "    return df\n",
    "\n",
    "def import_data_from_csv(df):\n",
    "    # Show dataframe info before optimize.\n",
    "    # (RU) Показать информацию о таблице до оптимизации.\n",
    "    print('-' * 80)\n",
    "    print(df.info())\n",
    "    print('-' * 80)\n",
    "    # (RU) Оптимизация типов в dataframe.\n",
    "    df = optimize_memory_usage(df) # используем функцию optimize_memory_usage , созданую выше\n",
    "    # Show dataframe info after optimize.\n",
    "    # (RU) Показать информацию о таблице после оптимизации.\n",
    "    print('-' * 80)\n",
    "    print(df.info())\n",
    "    print('-' * 80)\n",
    "    return df"
   ]
  },
  {
   "cell_type": "code",
   "execution_count": 12,
   "id": "c89288c3-1865-4e4c-a4e1-d1af85dd9be2",
   "metadata": {
    "scrolled": true,
    "tags": []
   },
   "outputs": [
    {
     "name": "stdout",
     "output_type": "stream",
     "text": [
      "--------------------------------------------------------------------------------\n",
      "<class 'pandas.core.frame.DataFrame'>\n",
      "RangeIndex: 948 entries, 0 to 947\n",
      "Data columns (total 13 columns):\n",
      " #   Column                        Non-Null Count  Dtype  \n",
      "---  ------                        --------------  -----  \n",
      " 0   pattern_angle                 948 non-null    float64\n",
      " 1   step_strip                    948 non-null    float64\n",
      " 2   density_strip                 948 non-null    float64\n",
      " 3   ratio_filler_matrix           948 non-null    float64\n",
      " 4   density                       948 non-null    float64\n",
      " 5   elasticity_module             948 non-null    float64\n",
      " 6   number_hardeners              948 non-null    float64\n",
      " 7   content_epoxy_groups          948 non-null    float64\n",
      " 8   flash_temperature             948 non-null    float64\n",
      " 9   surface_density               948 non-null    float64\n",
      " 10  elasticity_module_stretching  948 non-null    float64\n",
      " 11  strapery_strength             948 non-null    float64\n",
      " 12  resin_consumption             948 non-null    float64\n",
      "dtypes: float64(13)\n",
      "memory usage: 96.4 KB\n",
      "None\n",
      "--------------------------------------------------------------------------------\n",
      "Memory usage size: before 0.0941 Mb - after 0.0471 Mb (49.9%).\n",
      "--------------------------------------------------------------------------------\n",
      "<class 'pandas.core.frame.DataFrame'>\n",
      "RangeIndex: 948 entries, 0 to 947\n",
      "Data columns (total 13 columns):\n",
      " #   Column                        Non-Null Count  Dtype  \n",
      "---  ------                        --------------  -----  \n",
      " 0   pattern_angle                 948 non-null    float32\n",
      " 1   step_strip                    948 non-null    float32\n",
      " 2   density_strip                 948 non-null    float32\n",
      " 3   ratio_filler_matrix           948 non-null    float32\n",
      " 4   density                       948 non-null    float32\n",
      " 5   elasticity_module             948 non-null    float32\n",
      " 6   number_hardeners              948 non-null    float32\n",
      " 7   content_epoxy_groups          948 non-null    float32\n",
      " 8   flash_temperature             948 non-null    float32\n",
      " 9   surface_density               948 non-null    float32\n",
      " 10  elasticity_module_stretching  948 non-null    float32\n",
      " 11  strapery_strength             948 non-null    float32\n",
      " 12  resin_consumption             948 non-null    float32\n",
      "dtypes: float32(13)\n",
      "memory usage: 48.3 KB\n",
      "None\n",
      "--------------------------------------------------------------------------------\n"
     ]
    }
   ],
   "source": [
    "# Вызываем функцию import_data_from_csv для уменьшения размерности переменных в файле df_bp_new\n",
    "\n",
    "data_main32 = import_data_from_csv(data_main)"
   ]
  },
  {
   "cell_type": "code",
   "execution_count": null,
   "id": "412b3e2f-1868-43e4-a72f-dd71a1cce044",
   "metadata": {},
   "outputs": [],
   "source": []
  },
  {
   "cell_type": "code",
   "execution_count": 13,
   "id": "23733bc9-0c4e-4558-af4c-812639db64e2",
   "metadata": {},
   "outputs": [],
   "source": [
    "# Функция расчта нового признака ALFA\n",
    "# df - Передаем в функцию dataframe\n",
    "# data_main_add_col - возвращаем df- с новым добавленым столбцом ALFA,  \n",
    "# а также удалим два столбца:  'strapery_strength' и 'elasticity_module_stretching'\n",
    "\n",
    "def add_column_alfa(df):\n",
    "    df_add_col = df.assign(alfa = df.strapery_strength /df.elasticity_module_stretching)\n",
    "    # df_add_col =  df_add_col.drop(['strapery_strength', 'elasticity_module_stretching'], axis=1)\n",
    "    return(df_add_col)"
   ]
  },
  {
   "cell_type": "code",
   "execution_count": 14,
   "id": "22ea94f9-bfb0-4fde-8409-9b428e3e0d21",
   "metadata": {},
   "outputs": [],
   "source": [
    "df_add_alfa = add_column_alfa(data_main32)"
   ]
  },
  {
   "cell_type": "code",
   "execution_count": 15,
   "id": "7266fc37-1953-4945-b8e4-a97e84fb92e2",
   "metadata": {},
   "outputs": [
    {
     "name": "stdout",
     "output_type": "stream",
     "text": [
      "<class 'pandas.core.frame.DataFrame'>\n",
      "RangeIndex: 948 entries, 0 to 947\n",
      "Data columns (total 14 columns):\n",
      " #   Column                        Non-Null Count  Dtype  \n",
      "---  ------                        --------------  -----  \n",
      " 0   pattern_angle                 948 non-null    float32\n",
      " 1   step_strip                    948 non-null    float32\n",
      " 2   density_strip                 948 non-null    float32\n",
      " 3   ratio_filler_matrix           948 non-null    float32\n",
      " 4   density                       948 non-null    float32\n",
      " 5   elasticity_module             948 non-null    float32\n",
      " 6   number_hardeners              948 non-null    float32\n",
      " 7   content_epoxy_groups          948 non-null    float32\n",
      " 8   flash_temperature             948 non-null    float32\n",
      " 9   surface_density               948 non-null    float32\n",
      " 10  elasticity_module_stretching  948 non-null    float32\n",
      " 11  strapery_strength             948 non-null    float32\n",
      " 12  resin_consumption             948 non-null    float32\n",
      " 13  alfa                          948 non-null    float32\n",
      "dtypes: float32(14)\n",
      "memory usage: 52.0 KB\n"
     ]
    }
   ],
   "source": [
    "df_add_alfa.info()"
   ]
  },
  {
   "cell_type": "code",
   "execution_count": 19,
   "id": "005c9845-4818-4dac-b194-a553ae26dfd6",
   "metadata": {},
   "outputs": [],
   "source": [
    "from sklearn import decomposition\n",
    "from sklearn import linear_model\n",
    "from sklearn.pipeline import Pipeline"
   ]
  },
  {
   "cell_type": "markdown",
   "id": "0c6035a2-1545-42af-8a9d-0f871d13eee6",
   "metadata": {},
   "source": [
    "Собираем датасет"
   ]
  },
  {
   "cell_type": "code",
   "execution_count": 20,
   "id": "219d7184-0885-4481-a470-cd3f622ef45d",
   "metadata": {},
   "outputs": [],
   "source": [
    "y1 = df_add_alfa[[\"elasticity_module_stretching\"]]\n",
    "y2 = df_add_alfa[[\"strapery_strength\"]]\n",
    "X = df_add_alfa.drop(columns=[\"elasticity_module_stretching\",\n",
    "                     \"strapery_strength\"]\n",
    "                    )"
   ]
  },
  {
   "cell_type": "code",
   "execution_count": null,
   "id": "c1da05d5-09e2-45d9-9b1a-69a6d56daced",
   "metadata": {
    "tags": []
   },
   "outputs": [],
   "source": [
    "# Проведем дальнейшие действия для  целевой переменной \"elasticity_module_stretching\"\n",
    "# Для целевой переменной \"strapery_strength\" действия будут аналогичными"
   ]
  },
  {
   "cell_type": "code",
   "execution_count": null,
   "id": "e94af295-9526-472c-b172-c0b935813b49",
   "metadata": {},
   "outputs": [],
   "source": [
    "# Разделяем датасет на тестовые, проверочные и обучающие выборки за 2 приема"
   ]
  },
  {
   "cell_type": "code",
   "execution_count": null,
   "id": "5a65fd25-054b-4d3c-bb31-259c0f9f21e5",
   "metadata": {},
   "outputs": [],
   "source": [
    "# Разделяем датасет на тестовы (test) и 1-ю обучающие выборки\n",
    "# Разбиваем X на X_train_full и X_test_full в пропорции 80/20, а y  на  y_train_full и y_test_full"
   ]
  },
  {
   "cell_type": "code",
   "execution_count": 29,
   "id": "f48fc165-6ab9-4b77-bef6-3c3e1c3baaa8",
   "metadata": {},
   "outputs": [],
   "source": [
    "X_train_full, X_test_full, y_train_full, y_test_full = train_test_split(X, y1, \n",
    "                                                    train_size=0.8, \n",
    "                                                    random_state=45\n",
    "                                                    )"
   ]
  },
  {
   "cell_type": "markdown",
   "id": "f82d5942-58ee-49db-a764-9a7e53b59e38",
   "metadata": {},
   "source": [
    "# X_test_full и ytest_full будут использованы в конце при проверке нашей моддели\n",
    "## НУЖНО из записать в папку!!!"
   ]
  },
  {
   "cell_type": "code",
   "execution_count": 30,
   "id": "d12fee82-2fa3-4587-9a07-dbf082daaf2f",
   "metadata": {},
   "outputs": [
    {
     "data": {
      "text/plain": [
       "(190, 12)"
      ]
     },
     "execution_count": 30,
     "metadata": {},
     "output_type": "execute_result"
    }
   ],
   "source": [
    "X_test_full.shape"
   ]
  },
  {
   "cell_type": "code",
   "execution_count": 31,
   "id": "6be6befb-32e0-467b-8524-0e7f6394b5cd",
   "metadata": {},
   "outputs": [
    {
     "data": {
      "text/plain": [
       "(190, 1)"
      ]
     },
     "execution_count": 31,
     "metadata": {},
     "output_type": "execute_result"
    }
   ],
   "source": [
    "y_test_full.shape"
   ]
  },
  {
   "cell_type": "code",
   "execution_count": 32,
   "id": "8990df96-6902-429b-bcc1-36a09e296bf7",
   "metadata": {},
   "outputs": [
    {
     "data": {
      "text/plain": [
       "(758, 12)"
      ]
     },
     "execution_count": 32,
     "metadata": {},
     "output_type": "execute_result"
    }
   ],
   "source": [
    "X_train_full.shape"
   ]
  },
  {
   "cell_type": "code",
   "execution_count": 33,
   "id": "6c3a1254-4811-4ce3-9625-0f04dac15b1e",
   "metadata": {},
   "outputs": [
    {
     "data": {
      "text/plain": [
       "(758, 1)"
      ]
     },
     "execution_count": 33,
     "metadata": {},
     "output_type": "execute_result"
    }
   ],
   "source": [
    "y_train_full.shape"
   ]
  },
  {
   "cell_type": "code",
   "execution_count": null,
   "id": "c1284613-ca09-4d36-87f8-b8ef68c94f5b",
   "metadata": {},
   "outputs": [],
   "source": [
    "# Разделяем датасет на проверочную (validation) и 2-ю обучающую выборки"
   ]
  },
  {
   "cell_type": "code",
   "execution_count": 34,
   "id": "9139c8e1-2e5e-4170-83bf-8c04a4b0a5bc",
   "metadata": {},
   "outputs": [],
   "source": [
    "X_train_1, X_val_1, y_train_1, y_val_1 = train_test_split(X_train_full_1, y_train_full_1, \n",
    "                                                    train_size=0.8, \n",
    "                                                    random_state=45\n",
    "                                                    )"
   ]
  },
  {
   "cell_type": "code",
   "execution_count": null,
   "id": "5a00162f-b22a-412a-beca-e0a781d8cdbe",
   "metadata": {},
   "outputs": [],
   "source": [
    "# X_val_1 и y_val_1 будут использованы при проверке работоспособности нашей модели после обучения "
   ]
  },
  {
   "cell_type": "code",
   "execution_count": 35,
   "id": "9243a34f-5e9e-4716-b48b-424cf1d52749",
   "metadata": {},
   "outputs": [
    {
     "data": {
      "text/plain": [
       "(606, 12)"
      ]
     },
     "execution_count": 35,
     "metadata": {},
     "output_type": "execute_result"
    }
   ],
   "source": [
    "X_train_1.shape"
   ]
  },
  {
   "cell_type": "code",
   "execution_count": 36,
   "id": "138a7345-5267-4c32-a445-024f6b17fade",
   "metadata": {},
   "outputs": [
    {
     "data": {
      "text/plain": [
       "(152, 12)"
      ]
     },
     "execution_count": 36,
     "metadata": {},
     "output_type": "execute_result"
    }
   ],
   "source": [
    "X_val_1.shape"
   ]
  },
  {
   "cell_type": "code",
   "execution_count": 38,
   "id": "70e93baa-3538-4601-b9b8-eb375a3eb0cb",
   "metadata": {},
   "outputs": [
    {
     "data": {
      "text/plain": [
       "(606, 1)"
      ]
     },
     "execution_count": 38,
     "metadata": {},
     "output_type": "execute_result"
    }
   ],
   "source": [
    "y_train_1.shape"
   ]
  },
  {
   "cell_type": "code",
   "execution_count": 37,
   "id": "69932ce4-dc97-48ef-8a74-f98f5bd21709",
   "metadata": {},
   "outputs": [
    {
     "data": {
      "text/plain": [
       "(152, 1)"
      ]
     },
     "execution_count": 37,
     "metadata": {},
     "output_type": "execute_result"
    }
   ],
   "source": [
    "y_val_1.shape"
   ]
  },
  {
   "cell_type": "markdown",
   "id": "4abc50fa-478e-4ed1-b6e1-e2fd45f82741",
   "metadata": {},
   "source": [
    "# Взято из\n",
    "https://www.projectpro.io/recipes/create-and-optimize-baseline-linear-regression-model"
   ]
  },
  {
   "cell_type": "code",
   "execution_count": 39,
   "id": "3c77618e-fd9c-4d31-a02c-c0f7cfabfb2b",
   "metadata": {},
   "outputs": [
    {
     "name": "stdout",
     "output_type": "stream",
     "text": [
      "Best Number Of Components: 4\n",
      "\n",
      "LinearRegression(normalize=True)\n"
     ]
    }
   ],
   "source": [
    "# Creating an scaler object\n",
    "std_scl = StandardScaler()\n",
    "\n",
    "# Creating a pca object\n",
    "pca = decomposition.PCA()\n",
    "\n",
    "# Creating a linear regression object with an L2 penalty\n",
    "linear = linear_model.LinearRegression()\n",
    "\n",
    "# Creating a pipeline of three steps. First, standardize the data.\n",
    "# Second, tranform the data with PCA.\n",
    "# Third, train a Decision Tree Classifier on the data.\n",
    "pipe = Pipeline(steps=[('std_scl', std_scl),\n",
    "                       ('pca', pca),\n",
    "                       ('linear', linear)])\n",
    "\n",
    "# Creating Parameter Space\n",
    "# Creating a list of a sequence of integers from 1 to 30 (the number of features in X + 1)\n",
    "n_components = list(range(1, X_train_1.shape[1]+1,1))\n",
    "\n",
    "# Creating lists of parameter for Linear Regression\n",
    "normalize = [True, False]\n",
    "\n",
    "# Creating a dictionary of all the parameter options \n",
    "# Note has you can access the parameters of steps of a pipeline by using '__’\n",
    "parameters = dict(pca__n_components=n_components,\n",
    "                  linear__normalize=normalize)\n",
    "\n",
    "# Conducting Parameter Optmization With Pipeline\n",
    "# Creating a grid search object\n",
    "clf = GridSearchCV(pipe, parameters)\n",
    "\n",
    "# Fitting the grid search\n",
    "clf.fit(X_train_1,y_train_1)\n",
    "\n",
    "# Viewing The Best Parameters\n",
    "print('Best Number Of Components:', clf.best_estimator_.get_params()['pca__n_components'])\n",
    "print(); print(clf.best_estimator_.get_params()['linear'])"
   ]
  },
  {
   "cell_type": "code",
   "execution_count": null,
   "id": "7d9215af-3c0a-4ef3-b28f-2729913760a9",
   "metadata": {},
   "outputs": [],
   "source": []
  },
  {
   "cell_type": "code",
   "execution_count": null,
   "id": "4b5bc3e6-6d99-435c-85f2-7cfedfebc5bd",
   "metadata": {},
   "outputs": [],
   "source": [
    "# Взято из \n",
    "https://python.hotexamples.com/ru/examples/sklearn.linear_model/LinearRegression/get_params/python-linearregression-get_params-method-examples.html"
   ]
  },
  {
   "cell_type": "code",
   "execution_count": 149,
   "id": "a6e1909d-72b1-4bd4-831c-735cc1d40b53",
   "metadata": {},
   "outputs": [],
   "source": [
    "def simple_linear(X_train, y_train, X_test, y_test):\n",
    "    linear = LinearRegression()\n",
    "    linear.fit(X_train, y_train)\n",
    "    y_pred = linear.predict(X_test)\n",
    "    print('\\nLinear Regression Summary:')\n",
    "    print()\n",
    "    print('R2:', linear.score(X_test, y_test))\n",
    "    print()\n",
    "    print('Intercept:', linear.intercept_)\n",
    "    print('\\nCoefficients:', linear.coef_)\n",
    "    print('DataFrame:', pd.DataFrame(model.coef_, X_train.columns))\n",
    "    print()\n",
    "    print('Parameters:', linear.get_params())\n",
    "    print()\n",
    "    '''Predict how well model will perfom on test data'''\n",
    "    score = cross_val_score(estimator=linear,\n",
    "                            X=X_train,\n",
    "                            y=y_train,\n",
    "                            fit_params=None,\n",
    "                            scoring='r2',\n",
    "                            cv=3,\n",
    "                            n_jobs=-1)\n",
    "    print('Mean Cross Validation Score:', score.mean())"
   ]
  },
  {
   "cell_type": "code",
   "execution_count": 150,
   "id": "a4f2461f-ff6b-4fd3-b657-42f0e18fc792",
   "metadata": {},
   "outputs": [
    {
     "name": "stdout",
     "output_type": "stream",
     "text": [
      "\n",
      "Linear Regression Summary:\n",
      "\n",
      "R2: -0.019389360805280864\n",
      "\n",
      "Intercept: 0.53328943\n",
      "\n",
      "Coefficients: [-0.06732082  0.01082223 -0.06388463]\n",
      "DataFrame:                          0\n",
      "density          -0.067321\n",
      "number_hardeners  0.010822\n",
      "surface_density  -0.063885\n",
      "\n",
      "Parameters: {'copy_X': True, 'fit_intercept': True, 'n_jobs': None, 'normalize': 'deprecated', 'positive': False}\n",
      "\n",
      "Mean Cross Validation Score: -0.008429587943518224\n"
     ]
    }
   ],
   "source": [
    "simple_linear(X_train, y_train, X_val, y_val)"
   ]
  }
 ],
 "metadata": {
  "kernelspec": {
   "display_name": "Python 3 (ipykernel)",
   "language": "python",
   "name": "python3"
  },
  "language_info": {
   "codemirror_mode": {
    "name": "ipython",
    "version": 3
   },
   "file_extension": ".py",
   "mimetype": "text/x-python",
   "name": "python",
   "nbconvert_exporter": "python",
   "pygments_lexer": "ipython3",
   "version": "3.10.9"
  }
 },
 "nbformat": 4,
 "nbformat_minor": 5
}
